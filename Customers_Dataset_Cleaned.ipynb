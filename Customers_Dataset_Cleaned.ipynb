{
 "cells": [
  {
   "cell_type": "code",
   "execution_count": 1,
   "id": "c78c49f0",
   "metadata": {},
   "outputs": [],
   "source": [
    "from pyspark.sql import SparkSession\n",
    "import getpass \n",
    "username=getpass.getuser()\n",
    "spark=SparkSession. \\\n",
    "    builder. \\\n",
    "    config('spark.ui.port','0'). \\\n",
    "    config(\"spark.sql.warehouse.dir\", f\"/user/itv012740/warehouse\"). \\\n",
    "    config('spark.shuffle.useOldFetchProtocol', 'true'). \\\n",
    "    enableHiveSupport(). \\\n",
    "    master('yarn'). \\\n",
    "    getOrCreate()"
   ]
  },
  {
   "cell_type": "code",
   "execution_count": 2,
   "id": "6ce0c4c0",
   "metadata": {},
   "outputs": [],
   "source": [
    "customer_schema = 'member_id string, emp_title string, emp_length string, home_ownership string, annual_inc float, addr_state string, zip_code string, country string, grade string, sub_grade string, verification_status string, tot_hi_cred_lim float, application_type string, annual_inc_joint float, verification_status_joint string'"
   ]
  },
  {
   "cell_type": "code",
   "execution_count": 3,
   "id": "1aa71323",
   "metadata": {},
   "outputs": [],
   "source": [
    "customers_raw_df = spark.read \\\n",
    ".format(\"csv\") \\\n",
    ".option(\"header\",True) \\\n",
    ".schema(customer_schema) \\\n",
    ".load(\"/user/itv012740/lendingclubproject/raw/customers_data_csv\")"
   ]
  },
  {
   "cell_type": "code",
   "execution_count": 5,
   "id": "0e44e903",
   "metadata": {},
   "outputs": [
    {
     "data": {
      "text/html": [
       "<table border='1'>\n",
       "<tr><th>member_id</th><th>emp_title</th><th>emp_length</th><th>home_ownership</th><th>annual_inc</th><th>addr_state</th><th>zip_code</th><th>country</th><th>grade</th><th>sub_grade</th><th>verification_status</th><th>tot_hi_cred_lim</th><th>application_type</th><th>annual_inc_joint</th><th>verification_status_joint</th></tr>\n",
       "<tr><td>707271898dcabc8b2...</td><td>Physician Service...</td><td>3 years</td><td>RENT</td><td>40400.0</td><td>CO</td><td>801xx</td><td>USA</td><td>A</td><td>A2</td><td>Not Verified</td><td>68759.0</td><td>Individual</td><td>null</td><td>null</td></tr>\n",
       "<tr><td>8e1ea10aca3c4ad8f...</td><td>Operations</td><td>10+ years</td><td>MORTGAGE</td><td>53000.0</td><td>AR</td><td>720xx</td><td>USA</td><td>B</td><td>B2</td><td>Source Verified</td><td>63143.0</td><td>Individual</td><td>null</td><td>null</td></tr>\n",
       "<tr><td>1d6546a2cbc1fd240...</td><td>Underwriter</td><td>2 years</td><td>RENT</td><td>65000.0</td><td>ME</td><td>040xx</td><td>USA</td><td>B</td><td>B4</td><td>Not Verified</td><td>66695.0</td><td>Individual</td><td>null</td><td>null</td></tr>\n",
       "<tr><td>d6208beced388988f...</td><td>Crome restorer sp...</td><td>10+ years</td><td>MORTGAGE</td><td>60000.0</td><td>IL</td><td>606xx</td><td>USA</td><td>C</td><td>C1</td><td>Not Verified</td><td>68900.0</td><td>Individual</td><td>null</td><td>null</td></tr>\n",
       "<tr><td>b4af936688c28c165...</td><td>Program Coordinator</td><td>1 year</td><td>RENT</td><td>38000.0</td><td>FL</td><td>322xx</td><td>USA</td><td>A</td><td>A5</td><td>Not Verified</td><td>76877.0</td><td>Individual</td><td>null</td><td>null</td></tr>\n",
       "<tr><td>2c04e047879ada04e...</td><td>Executive Director</td><td>10+ years</td><td>MORTGAGE</td><td>166000.0</td><td>IL</td><td>601xx</td><td>USA</td><td>C</td><td>C2</td><td>Not Verified</td><td>217868.0</td><td>Individual</td><td>null</td><td>null</td></tr>\n",
       "<tr><td>39dfcd293cb7b2c17...</td><td>Emergency Managme...</td><td>4 years</td><td>MORTGAGE</td><td>81000.0</td><td>TX</td><td>761xx</td><td>USA</td><td>C</td><td>C4</td><td>Not Verified</td><td>293276.0</td><td>Individual</td><td>null</td><td>null</td></tr>\n",
       "<tr><td>5e6e1f8ad59c71a0b...</td><td>Clinical Applicat...</td><td>3 years</td><td>MORTGAGE</td><td>82000.0</td><td>CO</td><td>801xx</td><td>USA</td><td>A</td><td>A1</td><td>Not Verified</td><td>393500.0</td><td>Individual</td><td>null</td><td>null</td></tr>\n",
       "<tr><td>afd3b57e55eb95ed8...</td><td>Systems Analyst 3</td><td>4 years</td><td>OWN</td><td>118030.0</td><td>MI</td><td>482xx</td><td>USA</td><td>A</td><td>A3</td><td>Not Verified</td><td>82137.0</td><td>Individual</td><td>null</td><td>null</td></tr>\n",
       "<tr><td>8b5eed45ac53a0238...</td><td>Director of Front...</td><td>4 years</td><td>RENT</td><td>62000.0</td><td>NY</td><td>110xx</td><td>USA</td><td>A</td><td>A5</td><td>Not Verified</td><td>17400.0</td><td>Individual</td><td>null</td><td>null</td></tr>\n",
       "<tr><td>f9b1d34c3edcb893e...</td><td>Program Finance M...</td><td>10+ years</td><td>RENT</td><td>135000.0</td><td>VA</td><td>223xx</td><td>USA</td><td>D</td><td>D4</td><td>Not Verified</td><td>55592.0</td><td>Individual</td><td>null</td><td>null</td></tr>\n",
       "<tr><td>1ad9eaf0cd017b07b...</td><td>French Teacher</td><td>10+ years</td><td>RENT</td><td>65000.0</td><td>ME</td><td>040xx</td><td>USA</td><td>B</td><td>B3</td><td>Not Verified</td><td>31980.0</td><td>Individual</td><td>null</td><td>null</td></tr>\n",
       "<tr><td>319d1b9f0f8262a44...</td><td>Physician Assistant</td><td>10+ years</td><td>MORTGAGE</td><td>168000.0</td><td>VA</td><td>234xx</td><td>USA</td><td>B</td><td>B5</td><td>Not Verified</td><td>524367.0</td><td>Individual</td><td>null</td><td>null</td></tr>\n",
       "<tr><td>f8d7c9355352667eb...</td><td>Police Officer</td><td>10+ years</td><td>OWN</td><td>120000.0</td><td>NY</td><td>117xx</td><td>USA</td><td>B</td><td>B2</td><td>Not Verified</td><td>248815.0</td><td>Individual</td><td>null</td><td>null</td></tr>\n",
       "<tr><td>e599af63f1a06e96d...</td><td>Investigator</td><td>10+ years</td><td>MORTGAGE</td><td>120092.0</td><td>VA</td><td>220xx</td><td>USA</td><td>C</td><td>C4</td><td>Verified</td><td>502718.0</td><td>Individual</td><td>null</td><td>null</td></tr>\n",
       "<tr><td>d7f76105042a35af5...</td><td>Detective</td><td>10+ years</td><td>MORTGAGE</td><td>100000.0</td><td>TX</td><td>752xx</td><td>USA</td><td>D</td><td>D4</td><td>Not Verified</td><td>70678.0</td><td>Individual</td><td>null</td><td>null</td></tr>\n",
       "<tr><td>d7b8a3478590b59c6...</td><td>Truck Driver</td><td>1 year</td><td>OWN</td><td>36400.0</td><td>SC</td><td>291xx</td><td>USA</td><td>C</td><td>C3</td><td>Not Verified</td><td>41204.0</td><td>Individual</td><td>null</td><td>null</td></tr>\n",
       "<tr><td>4885a59f1ae5534c3...</td><td>IT Manager</td><td>10+ years</td><td>OWN</td><td>115000.0</td><td>NY</td><td>103xx</td><td>USA</td><td>B</td><td>B4</td><td>Not Verified</td><td>379479.0</td><td>Individual</td><td>null</td><td>null</td></tr>\n",
       "<tr><td>4558ee1fa31903d33...</td><td>service advisor</td><td>10+ years</td><td>MORTGAGE</td><td>63000.0</td><td>MN</td><td>563xx</td><td>USA</td><td>A</td><td>A3</td><td>Not Verified</td><td>260220.0</td><td>Individual</td><td>null</td><td>null</td></tr>\n",
       "<tr><td>619b3b7101cf2aeb7...</td><td>Secretary2</td><td>10+ years</td><td>MORTGAGE</td><td>60000.0</td><td>CT</td><td>064xx</td><td>USA</td><td>A</td><td>A5</td><td>Not Verified</td><td>144940.0</td><td>Individual</td><td>null</td><td>null</td></tr>\n",
       "</table>\n",
       "only showing top 20 rows\n"
      ],
      "text/plain": [
       "DataFrame[member_id: string, emp_title: string, emp_length: string, home_ownership: string, annual_inc: float, addr_state: string, zip_code: string, country: string, grade: string, sub_grade: string, verification_status: string, tot_hi_cred_lim: float, application_type: string, annual_inc_joint: float, verification_status_joint: string]"
      ]
     },
     "execution_count": 5,
     "metadata": {},
     "output_type": "execute_result"
    }
   ],
   "source": [
    "customers_raw_df"
   ]
  },
  {
   "cell_type": "code",
   "execution_count": 6,
   "id": "b1e05937",
   "metadata": {},
   "outputs": [
    {
     "name": "stdout",
     "output_type": "stream",
     "text": [
      "root\n",
      " |-- member_id: string (nullable = true)\n",
      " |-- emp_title: string (nullable = true)\n",
      " |-- emp_length: string (nullable = true)\n",
      " |-- home_ownership: string (nullable = true)\n",
      " |-- annual_inc: float (nullable = true)\n",
      " |-- addr_state: string (nullable = true)\n",
      " |-- zip_code: string (nullable = true)\n",
      " |-- country: string (nullable = true)\n",
      " |-- grade: string (nullable = true)\n",
      " |-- sub_grade: string (nullable = true)\n",
      " |-- verification_status: string (nullable = true)\n",
      " |-- tot_hi_cred_lim: float (nullable = true)\n",
      " |-- application_type: string (nullable = true)\n",
      " |-- annual_inc_joint: float (nullable = true)\n",
      " |-- verification_status_joint: string (nullable = true)\n",
      "\n"
     ]
    }
   ],
   "source": [
    "customers_raw_df.printSchema()"
   ]
  },
  {
   "cell_type": "code",
   "execution_count": 12,
   "id": "6a391913",
   "metadata": {},
   "outputs": [],
   "source": [
    "customer_df_renamed = customers_raw_df.withColumnRenamed(\"annual_inc\", \"annual_income\") \\\n",
    ".withColumnRenamed(\"addr_state\", \"address_state\") \\\n",
    ".withColumnRenamed(\"zip_code\", \"address_zipcode\") \\\n",
    ".withColumnRenamed(\"country\", \"address_country\") \\\n",
    ".withColumnRenamed(\"tot_hi_cred_lim\", \"total_high_credit_limit\") \\\n",
    ".withColumnRenamed(\"annual_inc_joint\", \"join_annual_income\")"
   ]
  },
  {
   "cell_type": "code",
   "execution_count": 13,
   "id": "5c0e7122",
   "metadata": {},
   "outputs": [
    {
     "data": {
      "text/html": [
       "<table border='1'>\n",
       "<tr><th>member_id</th><th>emp_title</th><th>emp_length</th><th>home_ownership</th><th>annual_income</th><th>address_state</th><th>address_zipcode</th><th>address_country</th><th>grade</th><th>sub_grade</th><th>verification_status</th><th>total_high_credit_limit</th><th>application_type</th><th>join_annual_income</th><th>verification_status_joint</th></tr>\n",
       "<tr><td>707271898dcabc8b2...</td><td>Physician Service...</td><td>3 years</td><td>RENT</td><td>40400.0</td><td>CO</td><td>801xx</td><td>USA</td><td>A</td><td>A2</td><td>Not Verified</td><td>68759.0</td><td>Individual</td><td>null</td><td>null</td></tr>\n",
       "<tr><td>8e1ea10aca3c4ad8f...</td><td>Operations</td><td>10+ years</td><td>MORTGAGE</td><td>53000.0</td><td>AR</td><td>720xx</td><td>USA</td><td>B</td><td>B2</td><td>Source Verified</td><td>63143.0</td><td>Individual</td><td>null</td><td>null</td></tr>\n",
       "<tr><td>1d6546a2cbc1fd240...</td><td>Underwriter</td><td>2 years</td><td>RENT</td><td>65000.0</td><td>ME</td><td>040xx</td><td>USA</td><td>B</td><td>B4</td><td>Not Verified</td><td>66695.0</td><td>Individual</td><td>null</td><td>null</td></tr>\n",
       "<tr><td>d6208beced388988f...</td><td>Crome restorer sp...</td><td>10+ years</td><td>MORTGAGE</td><td>60000.0</td><td>IL</td><td>606xx</td><td>USA</td><td>C</td><td>C1</td><td>Not Verified</td><td>68900.0</td><td>Individual</td><td>null</td><td>null</td></tr>\n",
       "<tr><td>b4af936688c28c165...</td><td>Program Coordinator</td><td>1 year</td><td>RENT</td><td>38000.0</td><td>FL</td><td>322xx</td><td>USA</td><td>A</td><td>A5</td><td>Not Verified</td><td>76877.0</td><td>Individual</td><td>null</td><td>null</td></tr>\n",
       "<tr><td>2c04e047879ada04e...</td><td>Executive Director</td><td>10+ years</td><td>MORTGAGE</td><td>166000.0</td><td>IL</td><td>601xx</td><td>USA</td><td>C</td><td>C2</td><td>Not Verified</td><td>217868.0</td><td>Individual</td><td>null</td><td>null</td></tr>\n",
       "<tr><td>39dfcd293cb7b2c17...</td><td>Emergency Managme...</td><td>4 years</td><td>MORTGAGE</td><td>81000.0</td><td>TX</td><td>761xx</td><td>USA</td><td>C</td><td>C4</td><td>Not Verified</td><td>293276.0</td><td>Individual</td><td>null</td><td>null</td></tr>\n",
       "<tr><td>5e6e1f8ad59c71a0b...</td><td>Clinical Applicat...</td><td>3 years</td><td>MORTGAGE</td><td>82000.0</td><td>CO</td><td>801xx</td><td>USA</td><td>A</td><td>A1</td><td>Not Verified</td><td>393500.0</td><td>Individual</td><td>null</td><td>null</td></tr>\n",
       "<tr><td>afd3b57e55eb95ed8...</td><td>Systems Analyst 3</td><td>4 years</td><td>OWN</td><td>118030.0</td><td>MI</td><td>482xx</td><td>USA</td><td>A</td><td>A3</td><td>Not Verified</td><td>82137.0</td><td>Individual</td><td>null</td><td>null</td></tr>\n",
       "<tr><td>8b5eed45ac53a0238...</td><td>Director of Front...</td><td>4 years</td><td>RENT</td><td>62000.0</td><td>NY</td><td>110xx</td><td>USA</td><td>A</td><td>A5</td><td>Not Verified</td><td>17400.0</td><td>Individual</td><td>null</td><td>null</td></tr>\n",
       "<tr><td>f9b1d34c3edcb893e...</td><td>Program Finance M...</td><td>10+ years</td><td>RENT</td><td>135000.0</td><td>VA</td><td>223xx</td><td>USA</td><td>D</td><td>D4</td><td>Not Verified</td><td>55592.0</td><td>Individual</td><td>null</td><td>null</td></tr>\n",
       "<tr><td>1ad9eaf0cd017b07b...</td><td>French Teacher</td><td>10+ years</td><td>RENT</td><td>65000.0</td><td>ME</td><td>040xx</td><td>USA</td><td>B</td><td>B3</td><td>Not Verified</td><td>31980.0</td><td>Individual</td><td>null</td><td>null</td></tr>\n",
       "<tr><td>319d1b9f0f8262a44...</td><td>Physician Assistant</td><td>10+ years</td><td>MORTGAGE</td><td>168000.0</td><td>VA</td><td>234xx</td><td>USA</td><td>B</td><td>B5</td><td>Not Verified</td><td>524367.0</td><td>Individual</td><td>null</td><td>null</td></tr>\n",
       "<tr><td>f8d7c9355352667eb...</td><td>Police Officer</td><td>10+ years</td><td>OWN</td><td>120000.0</td><td>NY</td><td>117xx</td><td>USA</td><td>B</td><td>B2</td><td>Not Verified</td><td>248815.0</td><td>Individual</td><td>null</td><td>null</td></tr>\n",
       "<tr><td>e599af63f1a06e96d...</td><td>Investigator</td><td>10+ years</td><td>MORTGAGE</td><td>120092.0</td><td>VA</td><td>220xx</td><td>USA</td><td>C</td><td>C4</td><td>Verified</td><td>502718.0</td><td>Individual</td><td>null</td><td>null</td></tr>\n",
       "<tr><td>d7f76105042a35af5...</td><td>Detective</td><td>10+ years</td><td>MORTGAGE</td><td>100000.0</td><td>TX</td><td>752xx</td><td>USA</td><td>D</td><td>D4</td><td>Not Verified</td><td>70678.0</td><td>Individual</td><td>null</td><td>null</td></tr>\n",
       "<tr><td>d7b8a3478590b59c6...</td><td>Truck Driver</td><td>1 year</td><td>OWN</td><td>36400.0</td><td>SC</td><td>291xx</td><td>USA</td><td>C</td><td>C3</td><td>Not Verified</td><td>41204.0</td><td>Individual</td><td>null</td><td>null</td></tr>\n",
       "<tr><td>4885a59f1ae5534c3...</td><td>IT Manager</td><td>10+ years</td><td>OWN</td><td>115000.0</td><td>NY</td><td>103xx</td><td>USA</td><td>B</td><td>B4</td><td>Not Verified</td><td>379479.0</td><td>Individual</td><td>null</td><td>null</td></tr>\n",
       "<tr><td>4558ee1fa31903d33...</td><td>service advisor</td><td>10+ years</td><td>MORTGAGE</td><td>63000.0</td><td>MN</td><td>563xx</td><td>USA</td><td>A</td><td>A3</td><td>Not Verified</td><td>260220.0</td><td>Individual</td><td>null</td><td>null</td></tr>\n",
       "<tr><td>619b3b7101cf2aeb7...</td><td>Secretary2</td><td>10+ years</td><td>MORTGAGE</td><td>60000.0</td><td>CT</td><td>064xx</td><td>USA</td><td>A</td><td>A5</td><td>Not Verified</td><td>144940.0</td><td>Individual</td><td>null</td><td>null</td></tr>\n",
       "</table>\n",
       "only showing top 20 rows\n"
      ],
      "text/plain": [
       "+--------------------+--------------------+----------+--------------+-------------+-------------+---------------+---------------+-----+---------+-------------------+-----------------------+----------------+------------------+-------------------------+\n",
       "|           member_id|           emp_title|emp_length|home_ownership|annual_income|address_state|address_zipcode|address_country|grade|sub_grade|verification_status|total_high_credit_limit|application_type|join_annual_income|verification_status_joint|\n",
       "+--------------------+--------------------+----------+--------------+-------------+-------------+---------------+---------------+-----+---------+-------------------+-----------------------+----------------+------------------+-------------------------+\n",
       "|707271898dcabc8b2...|Physician Service...|   3 years|          RENT|      40400.0|           CO|          801xx|            USA|    A|       A2|       Not Verified|                68759.0|      Individual|              null|                     null|\n",
       "|8e1ea10aca3c4ad8f...|          Operations| 10+ years|      MORTGAGE|      53000.0|           AR|          720xx|            USA|    B|       B2|    Source Verified|                63143.0|      Individual|              null|                     null|\n",
       "|1d6546a2cbc1fd240...|         Underwriter|   2 years|          RENT|      65000.0|           ME|          040xx|            USA|    B|       B4|       Not Verified|                66695.0|      Individual|              null|                     null|\n",
       "|d6208beced388988f...|Crome restorer sp...| 10+ years|      MORTGAGE|      60000.0|           IL|          606xx|            USA|    C|       C1|       Not Verified|                68900.0|      Individual|              null|                     null|\n",
       "|b4af936688c28c165...| Program Coordinator|    1 year|          RENT|      38000.0|           FL|          322xx|            USA|    A|       A5|       Not Verified|                76877.0|      Individual|              null|                     null|\n",
       "|2c04e047879ada04e...|  Executive Director| 10+ years|      MORTGAGE|     166000.0|           IL|          601xx|            USA|    C|       C2|       Not Verified|               217868.0|      Individual|              null|                     null|\n",
       "|39dfcd293cb7b2c17...|Emergency Managme...|   4 years|      MORTGAGE|      81000.0|           TX|          761xx|            USA|    C|       C4|       Not Verified|               293276.0|      Individual|              null|                     null|\n",
       "|5e6e1f8ad59c71a0b...|Clinical Applicat...|   3 years|      MORTGAGE|      82000.0|           CO|          801xx|            USA|    A|       A1|       Not Verified|               393500.0|      Individual|              null|                     null|\n",
       "|afd3b57e55eb95ed8...|   Systems Analyst 3|   4 years|           OWN|     118030.0|           MI|          482xx|            USA|    A|       A3|       Not Verified|                82137.0|      Individual|              null|                     null|\n",
       "|8b5eed45ac53a0238...|Director of Front...|   4 years|          RENT|      62000.0|           NY|          110xx|            USA|    A|       A5|       Not Verified|                17400.0|      Individual|              null|                     null|\n",
       "|f9b1d34c3edcb893e...|Program Finance M...| 10+ years|          RENT|     135000.0|           VA|          223xx|            USA|    D|       D4|       Not Verified|                55592.0|      Individual|              null|                     null|\n",
       "|1ad9eaf0cd017b07b...|      French Teacher| 10+ years|          RENT|      65000.0|           ME|          040xx|            USA|    B|       B3|       Not Verified|                31980.0|      Individual|              null|                     null|\n",
       "|319d1b9f0f8262a44...| Physician Assistant| 10+ years|      MORTGAGE|     168000.0|           VA|          234xx|            USA|    B|       B5|       Not Verified|               524367.0|      Individual|              null|                     null|\n",
       "|f8d7c9355352667eb...|      Police Officer| 10+ years|           OWN|     120000.0|           NY|          117xx|            USA|    B|       B2|       Not Verified|               248815.0|      Individual|              null|                     null|\n",
       "|e599af63f1a06e96d...|        Investigator| 10+ years|      MORTGAGE|     120092.0|           VA|          220xx|            USA|    C|       C4|           Verified|               502718.0|      Individual|              null|                     null|\n",
       "|d7f76105042a35af5...|           Detective| 10+ years|      MORTGAGE|     100000.0|           TX|          752xx|            USA|    D|       D4|       Not Verified|                70678.0|      Individual|              null|                     null|\n",
       "|d7b8a3478590b59c6...|        Truck Driver|    1 year|           OWN|      36400.0|           SC|          291xx|            USA|    C|       C3|       Not Verified|                41204.0|      Individual|              null|                     null|\n",
       "|4885a59f1ae5534c3...|          IT Manager| 10+ years|           OWN|     115000.0|           NY|          103xx|            USA|    B|       B4|       Not Verified|               379479.0|      Individual|              null|                     null|\n",
       "|4558ee1fa31903d33...|     service advisor| 10+ years|      MORTGAGE|      63000.0|           MN|          563xx|            USA|    A|       A3|       Not Verified|               260220.0|      Individual|              null|                     null|\n",
       "|619b3b7101cf2aeb7...|          Secretary2| 10+ years|      MORTGAGE|      60000.0|           CT|          064xx|            USA|    A|       A5|       Not Verified|               144940.0|      Individual|              null|                     null|\n",
       "+--------------------+--------------------+----------+--------------+-------------+-------------+---------------+---------------+-----+---------+-------------------+-----------------------+----------------+------------------+-------------------------+\n",
       "only showing top 20 rows"
      ]
     },
     "execution_count": 13,
     "metadata": {},
     "output_type": "execute_result"
    }
   ],
   "source": [
    "customer_df_renamed"
   ]
  },
  {
   "cell_type": "code",
   "execution_count": 14,
   "id": "9988a8a3",
   "metadata": {},
   "outputs": [],
   "source": [
    "from pyspark.sql.functions import current_timestamp"
   ]
  },
  {
   "cell_type": "code",
   "execution_count": 15,
   "id": "1089b453",
   "metadata": {},
   "outputs": [],
   "source": [
    "customers_df_ingestd = customer_df_renamed.withColumn(\"ingest_date\", current_timestamp())"
   ]
  },
  {
   "cell_type": "code",
   "execution_count": 16,
   "id": "4a110775",
   "metadata": {},
   "outputs": [
    {
     "data": {
      "text/html": [
       "<table border='1'>\n",
       "<tr><th>member_id</th><th>emp_title</th><th>emp_length</th><th>home_ownership</th><th>annual_income</th><th>address_state</th><th>address_zipcode</th><th>address_country</th><th>grade</th><th>sub_grade</th><th>verification_status</th><th>total_high_credit_limit</th><th>application_type</th><th>join_annual_income</th><th>verification_status_joint</th><th>ingest_date</th></tr>\n",
       "<tr><td>707271898dcabc8b2...</td><td>Physician Service...</td><td>3 years</td><td>RENT</td><td>40400.0</td><td>CO</td><td>801xx</td><td>USA</td><td>A</td><td>A2</td><td>Not Verified</td><td>68759.0</td><td>Individual</td><td>null</td><td>null</td><td>2024-12-15 05:53:...</td></tr>\n",
       "<tr><td>8e1ea10aca3c4ad8f...</td><td>Operations</td><td>10+ years</td><td>MORTGAGE</td><td>53000.0</td><td>AR</td><td>720xx</td><td>USA</td><td>B</td><td>B2</td><td>Source Verified</td><td>63143.0</td><td>Individual</td><td>null</td><td>null</td><td>2024-12-15 05:53:...</td></tr>\n",
       "<tr><td>1d6546a2cbc1fd240...</td><td>Underwriter</td><td>2 years</td><td>RENT</td><td>65000.0</td><td>ME</td><td>040xx</td><td>USA</td><td>B</td><td>B4</td><td>Not Verified</td><td>66695.0</td><td>Individual</td><td>null</td><td>null</td><td>2024-12-15 05:53:...</td></tr>\n",
       "<tr><td>d6208beced388988f...</td><td>Crome restorer sp...</td><td>10+ years</td><td>MORTGAGE</td><td>60000.0</td><td>IL</td><td>606xx</td><td>USA</td><td>C</td><td>C1</td><td>Not Verified</td><td>68900.0</td><td>Individual</td><td>null</td><td>null</td><td>2024-12-15 05:53:...</td></tr>\n",
       "<tr><td>b4af936688c28c165...</td><td>Program Coordinator</td><td>1 year</td><td>RENT</td><td>38000.0</td><td>FL</td><td>322xx</td><td>USA</td><td>A</td><td>A5</td><td>Not Verified</td><td>76877.0</td><td>Individual</td><td>null</td><td>null</td><td>2024-12-15 05:53:...</td></tr>\n",
       "<tr><td>2c04e047879ada04e...</td><td>Executive Director</td><td>10+ years</td><td>MORTGAGE</td><td>166000.0</td><td>IL</td><td>601xx</td><td>USA</td><td>C</td><td>C2</td><td>Not Verified</td><td>217868.0</td><td>Individual</td><td>null</td><td>null</td><td>2024-12-15 05:53:...</td></tr>\n",
       "<tr><td>39dfcd293cb7b2c17...</td><td>Emergency Managme...</td><td>4 years</td><td>MORTGAGE</td><td>81000.0</td><td>TX</td><td>761xx</td><td>USA</td><td>C</td><td>C4</td><td>Not Verified</td><td>293276.0</td><td>Individual</td><td>null</td><td>null</td><td>2024-12-15 05:53:...</td></tr>\n",
       "<tr><td>5e6e1f8ad59c71a0b...</td><td>Clinical Applicat...</td><td>3 years</td><td>MORTGAGE</td><td>82000.0</td><td>CO</td><td>801xx</td><td>USA</td><td>A</td><td>A1</td><td>Not Verified</td><td>393500.0</td><td>Individual</td><td>null</td><td>null</td><td>2024-12-15 05:53:...</td></tr>\n",
       "<tr><td>afd3b57e55eb95ed8...</td><td>Systems Analyst 3</td><td>4 years</td><td>OWN</td><td>118030.0</td><td>MI</td><td>482xx</td><td>USA</td><td>A</td><td>A3</td><td>Not Verified</td><td>82137.0</td><td>Individual</td><td>null</td><td>null</td><td>2024-12-15 05:53:...</td></tr>\n",
       "<tr><td>8b5eed45ac53a0238...</td><td>Director of Front...</td><td>4 years</td><td>RENT</td><td>62000.0</td><td>NY</td><td>110xx</td><td>USA</td><td>A</td><td>A5</td><td>Not Verified</td><td>17400.0</td><td>Individual</td><td>null</td><td>null</td><td>2024-12-15 05:53:...</td></tr>\n",
       "<tr><td>f9b1d34c3edcb893e...</td><td>Program Finance M...</td><td>10+ years</td><td>RENT</td><td>135000.0</td><td>VA</td><td>223xx</td><td>USA</td><td>D</td><td>D4</td><td>Not Verified</td><td>55592.0</td><td>Individual</td><td>null</td><td>null</td><td>2024-12-15 05:53:...</td></tr>\n",
       "<tr><td>1ad9eaf0cd017b07b...</td><td>French Teacher</td><td>10+ years</td><td>RENT</td><td>65000.0</td><td>ME</td><td>040xx</td><td>USA</td><td>B</td><td>B3</td><td>Not Verified</td><td>31980.0</td><td>Individual</td><td>null</td><td>null</td><td>2024-12-15 05:53:...</td></tr>\n",
       "<tr><td>319d1b9f0f8262a44...</td><td>Physician Assistant</td><td>10+ years</td><td>MORTGAGE</td><td>168000.0</td><td>VA</td><td>234xx</td><td>USA</td><td>B</td><td>B5</td><td>Not Verified</td><td>524367.0</td><td>Individual</td><td>null</td><td>null</td><td>2024-12-15 05:53:...</td></tr>\n",
       "<tr><td>f8d7c9355352667eb...</td><td>Police Officer</td><td>10+ years</td><td>OWN</td><td>120000.0</td><td>NY</td><td>117xx</td><td>USA</td><td>B</td><td>B2</td><td>Not Verified</td><td>248815.0</td><td>Individual</td><td>null</td><td>null</td><td>2024-12-15 05:53:...</td></tr>\n",
       "<tr><td>e599af63f1a06e96d...</td><td>Investigator</td><td>10+ years</td><td>MORTGAGE</td><td>120092.0</td><td>VA</td><td>220xx</td><td>USA</td><td>C</td><td>C4</td><td>Verified</td><td>502718.0</td><td>Individual</td><td>null</td><td>null</td><td>2024-12-15 05:53:...</td></tr>\n",
       "<tr><td>d7f76105042a35af5...</td><td>Detective</td><td>10+ years</td><td>MORTGAGE</td><td>100000.0</td><td>TX</td><td>752xx</td><td>USA</td><td>D</td><td>D4</td><td>Not Verified</td><td>70678.0</td><td>Individual</td><td>null</td><td>null</td><td>2024-12-15 05:53:...</td></tr>\n",
       "<tr><td>d7b8a3478590b59c6...</td><td>Truck Driver</td><td>1 year</td><td>OWN</td><td>36400.0</td><td>SC</td><td>291xx</td><td>USA</td><td>C</td><td>C3</td><td>Not Verified</td><td>41204.0</td><td>Individual</td><td>null</td><td>null</td><td>2024-12-15 05:53:...</td></tr>\n",
       "<tr><td>4885a59f1ae5534c3...</td><td>IT Manager</td><td>10+ years</td><td>OWN</td><td>115000.0</td><td>NY</td><td>103xx</td><td>USA</td><td>B</td><td>B4</td><td>Not Verified</td><td>379479.0</td><td>Individual</td><td>null</td><td>null</td><td>2024-12-15 05:53:...</td></tr>\n",
       "<tr><td>4558ee1fa31903d33...</td><td>service advisor</td><td>10+ years</td><td>MORTGAGE</td><td>63000.0</td><td>MN</td><td>563xx</td><td>USA</td><td>A</td><td>A3</td><td>Not Verified</td><td>260220.0</td><td>Individual</td><td>null</td><td>null</td><td>2024-12-15 05:53:...</td></tr>\n",
       "<tr><td>619b3b7101cf2aeb7...</td><td>Secretary2</td><td>10+ years</td><td>MORTGAGE</td><td>60000.0</td><td>CT</td><td>064xx</td><td>USA</td><td>A</td><td>A5</td><td>Not Verified</td><td>144940.0</td><td>Individual</td><td>null</td><td>null</td><td>2024-12-15 05:53:...</td></tr>\n",
       "</table>\n",
       "only showing top 20 rows\n"
      ],
      "text/plain": [
       "+--------------------+--------------------+----------+--------------+-------------+-------------+---------------+---------------+-----+---------+-------------------+-----------------------+----------------+------------------+-------------------------+--------------------+\n",
       "|           member_id|           emp_title|emp_length|home_ownership|annual_income|address_state|address_zipcode|address_country|grade|sub_grade|verification_status|total_high_credit_limit|application_type|join_annual_income|verification_status_joint|         ingest_date|\n",
       "+--------------------+--------------------+----------+--------------+-------------+-------------+---------------+---------------+-----+---------+-------------------+-----------------------+----------------+------------------+-------------------------+--------------------+\n",
       "|707271898dcabc8b2...|Physician Service...|   3 years|          RENT|      40400.0|           CO|          801xx|            USA|    A|       A2|       Not Verified|                68759.0|      Individual|              null|                     null|2024-12-15 05:53:...|\n",
       "|8e1ea10aca3c4ad8f...|          Operations| 10+ years|      MORTGAGE|      53000.0|           AR|          720xx|            USA|    B|       B2|    Source Verified|                63143.0|      Individual|              null|                     null|2024-12-15 05:53:...|\n",
       "|1d6546a2cbc1fd240...|         Underwriter|   2 years|          RENT|      65000.0|           ME|          040xx|            USA|    B|       B4|       Not Verified|                66695.0|      Individual|              null|                     null|2024-12-15 05:53:...|\n",
       "|d6208beced388988f...|Crome restorer sp...| 10+ years|      MORTGAGE|      60000.0|           IL|          606xx|            USA|    C|       C1|       Not Verified|                68900.0|      Individual|              null|                     null|2024-12-15 05:53:...|\n",
       "|b4af936688c28c165...| Program Coordinator|    1 year|          RENT|      38000.0|           FL|          322xx|            USA|    A|       A5|       Not Verified|                76877.0|      Individual|              null|                     null|2024-12-15 05:53:...|\n",
       "|2c04e047879ada04e...|  Executive Director| 10+ years|      MORTGAGE|     166000.0|           IL|          601xx|            USA|    C|       C2|       Not Verified|               217868.0|      Individual|              null|                     null|2024-12-15 05:53:...|\n",
       "|39dfcd293cb7b2c17...|Emergency Managme...|   4 years|      MORTGAGE|      81000.0|           TX|          761xx|            USA|    C|       C4|       Not Verified|               293276.0|      Individual|              null|                     null|2024-12-15 05:53:...|\n",
       "|5e6e1f8ad59c71a0b...|Clinical Applicat...|   3 years|      MORTGAGE|      82000.0|           CO|          801xx|            USA|    A|       A1|       Not Verified|               393500.0|      Individual|              null|                     null|2024-12-15 05:53:...|\n",
       "|afd3b57e55eb95ed8...|   Systems Analyst 3|   4 years|           OWN|     118030.0|           MI|          482xx|            USA|    A|       A3|       Not Verified|                82137.0|      Individual|              null|                     null|2024-12-15 05:53:...|\n",
       "|8b5eed45ac53a0238...|Director of Front...|   4 years|          RENT|      62000.0|           NY|          110xx|            USA|    A|       A5|       Not Verified|                17400.0|      Individual|              null|                     null|2024-12-15 05:53:...|\n",
       "|f9b1d34c3edcb893e...|Program Finance M...| 10+ years|          RENT|     135000.0|           VA|          223xx|            USA|    D|       D4|       Not Verified|                55592.0|      Individual|              null|                     null|2024-12-15 05:53:...|\n",
       "|1ad9eaf0cd017b07b...|      French Teacher| 10+ years|          RENT|      65000.0|           ME|          040xx|            USA|    B|       B3|       Not Verified|                31980.0|      Individual|              null|                     null|2024-12-15 05:53:...|\n",
       "|319d1b9f0f8262a44...| Physician Assistant| 10+ years|      MORTGAGE|     168000.0|           VA|          234xx|            USA|    B|       B5|       Not Verified|               524367.0|      Individual|              null|                     null|2024-12-15 05:53:...|\n",
       "|f8d7c9355352667eb...|      Police Officer| 10+ years|           OWN|     120000.0|           NY|          117xx|            USA|    B|       B2|       Not Verified|               248815.0|      Individual|              null|                     null|2024-12-15 05:53:...|\n",
       "|e599af63f1a06e96d...|        Investigator| 10+ years|      MORTGAGE|     120092.0|           VA|          220xx|            USA|    C|       C4|           Verified|               502718.0|      Individual|              null|                     null|2024-12-15 05:53:...|\n",
       "|d7f76105042a35af5...|           Detective| 10+ years|      MORTGAGE|     100000.0|           TX|          752xx|            USA|    D|       D4|       Not Verified|                70678.0|      Individual|              null|                     null|2024-12-15 05:53:...|\n",
       "|d7b8a3478590b59c6...|        Truck Driver|    1 year|           OWN|      36400.0|           SC|          291xx|            USA|    C|       C3|       Not Verified|                41204.0|      Individual|              null|                     null|2024-12-15 05:53:...|\n",
       "|4885a59f1ae5534c3...|          IT Manager| 10+ years|           OWN|     115000.0|           NY|          103xx|            USA|    B|       B4|       Not Verified|               379479.0|      Individual|              null|                     null|2024-12-15 05:53:...|\n",
       "|4558ee1fa31903d33...|     service advisor| 10+ years|      MORTGAGE|      63000.0|           MN|          563xx|            USA|    A|       A3|       Not Verified|               260220.0|      Individual|              null|                     null|2024-12-15 05:53:...|\n",
       "|619b3b7101cf2aeb7...|          Secretary2| 10+ years|      MORTGAGE|      60000.0|           CT|          064xx|            USA|    A|       A5|       Not Verified|               144940.0|      Individual|              null|                     null|2024-12-15 05:53:...|\n",
       "+--------------------+--------------------+----------+--------------+-------------+-------------+---------------+---------------+-----+---------+-------------------+-----------------------+----------------+------------------+-------------------------+--------------------+\n",
       "only showing top 20 rows"
      ]
     },
     "execution_count": 16,
     "metadata": {},
     "output_type": "execute_result"
    }
   ],
   "source": [
    "customers_df_ingestd"
   ]
  },
  {
   "cell_type": "markdown",
   "id": "f417dac4",
   "metadata": {},
   "source": [
    "#### 4. Remove complete duplicate rows"
   ]
  },
  {
   "cell_type": "code",
   "execution_count": 17,
   "id": "946501da",
   "metadata": {},
   "outputs": [
    {
     "data": {
      "text/plain": [
       "2260701"
      ]
     },
     "execution_count": 17,
     "metadata": {},
     "output_type": "execute_result"
    }
   ],
   "source": [
    "customers_df_ingestd.count()"
   ]
  },
  {
   "cell_type": "code",
   "execution_count": 18,
   "id": "68b89689",
   "metadata": {},
   "outputs": [],
   "source": [
    "customers_distinct = customers_df_ingestd.distinct()"
   ]
  },
  {
   "cell_type": "code",
   "execution_count": 19,
   "id": "7915a6be",
   "metadata": {},
   "outputs": [
    {
     "data": {
      "text/plain": [
       "2260638"
      ]
     },
     "execution_count": 19,
     "metadata": {},
     "output_type": "execute_result"
    }
   ],
   "source": [
    "customers_distinct.count()"
   ]
  },
  {
   "cell_type": "code",
   "execution_count": 20,
   "id": "dffb5e2a",
   "metadata": {},
   "outputs": [],
   "source": [
    "customers_distinct.createOrReplaceTempView(\"customers\")"
   ]
  },
  {
   "cell_type": "code",
   "execution_count": 21,
   "id": "771c3c74",
   "metadata": {},
   "outputs": [
    {
     "data": {
      "text/html": [
       "<table border='1'>\n",
       "<tr><th>member_id</th><th>emp_title</th><th>emp_length</th><th>home_ownership</th><th>annual_income</th><th>address_state</th><th>address_zipcode</th><th>address_country</th><th>grade</th><th>sub_grade</th><th>verification_status</th><th>total_high_credit_limit</th><th>application_type</th><th>join_annual_income</th><th>verification_status_joint</th><th>ingest_date</th></tr>\n",
       "<tr><td>1d60164155b7d2a09...</td><td>Owner</td><td>10+ years</td><td>MORTGAGE</td><td>96000.0</td><td>TX</td><td>760xx</td><td>USA</td><td>A</td><td>A2</td><td>Verified</td><td>324931.0</td><td>Individual</td><td>null</td><td>null</td><td>2024-12-15 05:54:...</td></tr>\n",
       "<tr><td>d009c76829b993a4a...</td><td>Family advocate</td><td>3 years</td><td>MORTGAGE</td><td>35000.0</td><td>PA</td><td>191xx</td><td>USA</td><td>C</td><td>C3</td><td>Verified</td><td>166796.0</td><td>Individual</td><td>null</td><td>null</td><td>2024-12-15 05:54:...</td></tr>\n",
       "<tr><td>0481001f05c93b070...</td><td>null</td><td>null</td><td>RENT</td><td>30480.0</td><td>MI</td><td>482xx</td><td>USA</td><td>A</td><td>A4</td><td>Not Verified</td><td>38776.0</td><td>Individual</td><td>null</td><td>null</td><td>2024-12-15 05:54:...</td></tr>\n",
       "<tr><td>b575f78cd5ab8ae86...</td><td>Operator</td><td>&lt; 1 year</td><td>RENT</td><td>51000.0</td><td>NY</td><td>117xx</td><td>USA</td><td>C</td><td>C4</td><td>Verified</td><td>93641.0</td><td>Joint App</td><td>158000.0</td><td>Verified</td><td>2024-12-15 05:54:...</td></tr>\n",
       "<tr><td>34bab7f2f87c39040...</td><td>Internet sales ma...</td><td>&lt; 1 year</td><td>RENT</td><td>100000.0</td><td>CA</td><td>946xx</td><td>USA</td><td>B</td><td>B2</td><td>Source Verified</td><td>42869.0</td><td>Individual</td><td>null</td><td>null</td><td>2024-12-15 05:54:...</td></tr>\n",
       "<tr><td>7d06b966f23bcf0dd...</td><td>null</td><td>null</td><td>MORTGAGE</td><td>45000.0</td><td>DE</td><td>199xx</td><td>USA</td><td>C</td><td>C3</td><td>Verified</td><td>354406.0</td><td>Individual</td><td>null</td><td>null</td><td>2024-12-15 05:54:...</td></tr>\n",
       "<tr><td>519a1884da62a8217...</td><td>lead therapist</td><td>5 years</td><td>RENT</td><td>45000.0</td><td>MA</td><td>015xx</td><td>USA</td><td>B</td><td>B2</td><td>Source Verified</td><td>38928.0</td><td>Joint App</td><td>148000.0</td><td>Source Verified</td><td>2024-12-15 05:54:...</td></tr>\n",
       "<tr><td>2d8242514989ed4dd...</td><td>Computer Operator</td><td>10+ years</td><td>MORTGAGE</td><td>750003.0</td><td>CA</td><td>921xx</td><td>USA</td><td>A</td><td>A2</td><td>Source Verified</td><td>362300.0</td><td>Individual</td><td>null</td><td>null</td><td>2024-12-15 05:54:...</td></tr>\n",
       "<tr><td>110254b21bad4cd15...</td><td>Wellness Associate</td><td>&lt; 1 year</td><td>OWN</td><td>24960.0</td><td>GA</td><td>300xx</td><td>USA</td><td>C</td><td>C4</td><td>Source Verified</td><td>11334.0</td><td>Individual</td><td>null</td><td>null</td><td>2024-12-15 05:54:...</td></tr>\n",
       "<tr><td>25471cfaf8aaea4e9...</td><td>Executive Chef</td><td>8 years</td><td>MORTGAGE</td><td>79000.0</td><td>MS</td><td>386xx</td><td>USA</td><td>D</td><td>D2</td><td>Verified</td><td>149900.0</td><td>Individual</td><td>null</td><td>null</td><td>2024-12-15 05:54:...</td></tr>\n",
       "<tr><td>a0151aa0af2bb3333...</td><td>Controller</td><td>&lt; 1 year</td><td>RENT</td><td>71700.0</td><td>ID</td><td>837xx</td><td>USA</td><td>D</td><td>D3</td><td>Verified</td><td>75899.0</td><td>Individual</td><td>null</td><td>null</td><td>2024-12-15 05:54:...</td></tr>\n",
       "<tr><td>93fd18ea2c7a1661f...</td><td>null</td><td>null</td><td>MORTGAGE</td><td>83000.0</td><td>NY</td><td>125xx</td><td>USA</td><td>B</td><td>B5</td><td>Verified</td><td>282180.0</td><td>Individual</td><td>null</td><td>null</td><td>2024-12-15 05:54:...</td></tr>\n",
       "<tr><td>261ad966602b8064d...</td><td>Clerk</td><td>10+ years</td><td>RENT</td><td>43000.0</td><td>MA</td><td>010xx</td><td>USA</td><td>C</td><td>C2</td><td>Not Verified</td><td>22700.0</td><td>Individual</td><td>null</td><td>null</td><td>2024-12-15 05:54:...</td></tr>\n",
       "<tr><td>e82aa57330a363a9c...</td><td>System Administrator</td><td>10+ years</td><td>RENT</td><td>128000.0</td><td>CA</td><td>921xx</td><td>USA</td><td>B</td><td>B2</td><td>Source Verified</td><td>131400.0</td><td>Individual</td><td>null</td><td>null</td><td>2024-12-15 05:54:...</td></tr>\n",
       "<tr><td>8f32b8a6238a8c318...</td><td>Registered Nurse</td><td>1 year</td><td>RENT</td><td>130000.0</td><td>NV</td><td>891xx</td><td>USA</td><td>C</td><td>C3</td><td>Not Verified</td><td>187091.0</td><td>Individual</td><td>null</td><td>null</td><td>2024-12-15 05:54:...</td></tr>\n",
       "<tr><td>40d467d00adc1727e...</td><td>Denturist</td><td>5 years</td><td>MORTGAGE</td><td>80000.0</td><td>WA</td><td>986xx</td><td>USA</td><td>A</td><td>A5</td><td>Not Verified</td><td>282760.0</td><td>Individual</td><td>null</td><td>null</td><td>2024-12-15 05:54:...</td></tr>\n",
       "<tr><td>f7245609a1febdf70...</td><td>QC associate III</td><td>3 years</td><td>RENT</td><td>93823.0</td><td>NC</td><td>275xx</td><td>USA</td><td>C</td><td>C5</td><td>Source Verified</td><td>153814.0</td><td>Individual</td><td>null</td><td>null</td><td>2024-12-15 05:54:...</td></tr>\n",
       "<tr><td>1b9210ec7c5cf5559...</td><td>Senior Street Eng...</td><td>10+ years</td><td>MORTGAGE</td><td>162000.0</td><td>MO</td><td>631xx</td><td>USA</td><td>C</td><td>C2</td><td>Source Verified</td><td>499178.0</td><td>Individual</td><td>null</td><td>null</td><td>2024-12-15 05:54:...</td></tr>\n",
       "<tr><td>0a700921c91d2010b...</td><td>Auditor</td><td>10+ years</td><td>MORTGAGE</td><td>97000.0</td><td>AR</td><td>720xx</td><td>USA</td><td>D</td><td>D2</td><td>Verified</td><td>175702.0</td><td>Joint App</td><td>160000.0</td><td>Verified</td><td>2024-12-15 05:54:...</td></tr>\n",
       "<tr><td>4e76228afec1e75b3...</td><td>Consultant</td><td>2 years</td><td>MORTGAGE</td><td>185000.0</td><td>TX</td><td>779xx</td><td>USA</td><td>D</td><td>D4</td><td>Not Verified</td><td>274696.0</td><td>Individual</td><td>null</td><td>null</td><td>2024-12-15 05:54:...</td></tr>\n",
       "</table>\n",
       "only showing top 20 rows\n"
      ],
      "text/plain": [
       "+--------------------+--------------------+----------+--------------+-------------+-------------+---------------+---------------+-----+---------+-------------------+-----------------------+----------------+------------------+-------------------------+--------------------+\n",
       "|           member_id|           emp_title|emp_length|home_ownership|annual_income|address_state|address_zipcode|address_country|grade|sub_grade|verification_status|total_high_credit_limit|application_type|join_annual_income|verification_status_joint|         ingest_date|\n",
       "+--------------------+--------------------+----------+--------------+-------------+-------------+---------------+---------------+-----+---------+-------------------+-----------------------+----------------+------------------+-------------------------+--------------------+\n",
       "|3231f066511ea76ce...|           bookeeper|   3 years|      MORTGAGE|      65000.0|           WI|          544xx|            USA|    A|       A5|       Not Verified|               280662.0|      Individual|              null|                     null|2024-12-15 05:54:...|\n",
       "|b578d0adc7fdedaf2...|International Con...|   9 years|           OWN|      68000.0|           FL|          330xx|            USA|    B|       B1|    Source Verified|                21200.0|      Individual|              null|                     null|2024-12-15 05:54:...|\n",
       "|8ad7fbbd4ae28b57b...|    Regional Manager|   5 years|      MORTGAGE|     135000.0|           CA|          913xx|            USA|    B|       B2|           Verified|               588254.0|      Individual|              null|                     null|2024-12-15 05:54:...|\n",
       "|fcb4484f3b799c2bd...| Nanny/House manager|    1 year|          RENT|      30000.0|           IN|          460xx|            USA|    A|       A1|       Not Verified|                77425.0|      Individual|              null|                     null|2024-12-15 05:54:...|\n",
       "|c4af0d30cdf7e2c6f...|  Fork Lift Operator|   2 years|          RENT|      40000.0|           IN|          473xx|            USA|    C|       C3|    Source Verified|                12265.0|      Individual|              null|                     null|2024-12-15 05:54:...|\n",
       "|dd72d21882d243f48...| Service Center Mngr| 10+ years|      MORTGAGE|      66000.0|           IL|          617xx|            USA|    B|       B4|    Source Verified|                93900.0|      Individual|              null|                     null|2024-12-15 05:54:...|\n",
       "|d67515d8b26e9026b...| Assistant Principal|   4 years|          RENT|     108000.0|           NY|          108xx|            USA|    C|       C4|    Source Verified|               172501.0|      Individual|              null|                     null|2024-12-15 05:54:...|\n",
       "|15b3ddabcb8189e2b...|                  RN|    1 year|          RENT|      70000.0|           TX|          781xx|            USA|    B|       B2|       Not Verified|                79728.0|      Individual|              null|                     null|2024-12-15 05:54:...|\n",
       "|6ab228f1c8184f5b5...|          HR Manager|  < 1 year|      MORTGAGE|      73000.0|           OH|          430xx|            USA|    A|       A5|    Source Verified|               296889.0|      Individual|              null|                     null|2024-12-15 05:54:...|\n",
       "|d06d42a1f3ec39a92...|         maintenence|   6 years|           OWN|      12000.0|           NY|          136xx|            USA|    B|       B5|    Source Verified|                13700.0|      Individual|              null|                     null|2024-12-15 05:54:...|\n",
       "|2f648bbc357190743...|            director|  < 1 year|          RENT|      75000.0|           NC|          280xx|            USA|    C|       C5|    Source Verified|                67975.0|      Individual|              null|                     null|2024-12-15 05:54:...|\n",
       "|10ad1adc38423f1bd...|          PR Manager|   3 years|      MORTGAGE|     120000.0|           TX|          752xx|            USA|    A|       A3|       Not Verified|               235683.0|      Individual|              null|                     null|2024-12-15 05:54:...|\n",
       "|6b99acba2fdfbf06f...|                null|      null|      MORTGAGE|      55000.0|           MI|          480xx|            USA|    B|       B4|       Not Verified|                23400.0|      Individual|              null|                     null|2024-12-15 05:54:...|\n",
       "|0c75fee21f952f232...|    Registered Nurse|    1 year|      MORTGAGE|      80000.0|           TN|          380xx|            USA|    C|       C1|    Source Verified|               121645.0|      Individual|              null|                     null|2024-12-15 05:54:...|\n",
       "|1ce9c77f31caf65d9...|            Attorney|   6 years|      MORTGAGE|     100000.0|           NC|          283xx|            USA|    B|       B5|           Verified|               289280.0|      Individual|              null|                     null|2024-12-15 05:54:...|\n",
       "|3575ef7f0ea17abdf...|            Director|   7 years|          RENT|     115000.0|           GA|          300xx|            USA|    B|       B4|    Source Verified|               153376.0|      Individual|              null|                     null|2024-12-15 05:54:...|\n",
       "|082261ea6dd4b520b...|              DRIVER|   2 years|           OWN|      68000.0|           SC|          292xx|            USA|    C|       C3|    Source Verified|                24423.0|      Individual|              null|                     null|2024-12-15 05:54:...|\n",
       "|f7a041bdc6b764103...|                null|      null|      MORTGAGE|      96000.0|           IN|          460xx|            USA|    A|       A1|    Source Verified|               371841.0|      Individual|              null|                     null|2024-12-15 05:54:...|\n",
       "|98d03d252d85aa00e...|    Registered Nurse|    1 year|      MORTGAGE|      90000.0|           SC|          292xx|            USA|    B|       B2|    Source Verified|               212010.0|      Individual|              null|                     null|2024-12-15 05:54:...|\n",
       "|089002a8dec5b7987...|    Head of US Sales|   2 years|          RENT|     115000.0|           NY|          130xx|            USA|    F|       F2|    Source Verified|                16500.0|      Individual|              null|                     null|2024-12-15 05:54:...|\n",
       "+--------------------+--------------------+----------+--------------+-------------+-------------+---------------+---------------+-----+---------+-------------------+-----------------------+----------------+------------------+-------------------------+--------------------+\n",
       "only showing top 20 rows"
      ]
     },
     "execution_count": 21,
     "metadata": {},
     "output_type": "execute_result"
    }
   ],
   "source": [
    "spark.sql(\"select * from customers\")"
   ]
  },
  {
   "cell_type": "code",
   "execution_count": 22,
   "id": "122a3e42",
   "metadata": {},
   "outputs": [
    {
     "data": {
      "text/html": [
       "<table border='1'>\n",
       "<tr><th>count(1)</th></tr>\n",
       "<tr><td>5</td></tr>\n",
       "</table>\n"
      ],
      "text/plain": [
       "+--------+\n",
       "|count(1)|\n",
       "+--------+\n",
       "|       5|\n",
       "+--------+"
      ]
     },
     "execution_count": 22,
     "metadata": {},
     "output_type": "execute_result"
    }
   ],
   "source": [
    "spark.sql(\"select count(*) from customers where annual_income is null\")"
   ]
  },
  {
   "cell_type": "code",
   "execution_count": 23,
   "id": "92c56f57",
   "metadata": {},
   "outputs": [],
   "source": [
    "customers_income_filtered = spark.sql(\"select * from customers where annual_income is not null\")"
   ]
  },
  {
   "cell_type": "code",
   "execution_count": 24,
   "id": "2db39ebc",
   "metadata": {},
   "outputs": [],
   "source": [
    "customers_income_filtered.createOrReplaceTempView(\"customers\")"
   ]
  },
  {
   "cell_type": "code",
   "execution_count": 25,
   "id": "973fd2a3",
   "metadata": {},
   "outputs": [
    {
     "data": {
      "text/html": [
       "<table border='1'>\n",
       "<tr><th>count(1)</th></tr>\n",
       "<tr><td>0</td></tr>\n",
       "</table>\n"
      ],
      "text/plain": [
       "+--------+\n",
       "|count(1)|\n",
       "+--------+\n",
       "|       0|\n",
       "+--------+"
      ]
     },
     "execution_count": 25,
     "metadata": {},
     "output_type": "execute_result"
    }
   ],
   "source": [
    "spark.sql(\"select count(*) from customers where annual_income is null\")"
   ]
  },
  {
   "cell_type": "code",
   "execution_count": 26,
   "id": "cf609c68",
   "metadata": {},
   "outputs": [
    {
     "data": {
      "text/html": [
       "<table border='1'>\n",
       "<tr><th>emp_length</th></tr>\n",
       "<tr><td>5 years</td></tr>\n",
       "<tr><td>9 years</td></tr>\n",
       "<tr><td>null</td></tr>\n",
       "<tr><td>1 year</td></tr>\n",
       "<tr><td>2 years</td></tr>\n",
       "<tr><td>7 years</td></tr>\n",
       "<tr><td>8 years</td></tr>\n",
       "<tr><td>4 years</td></tr>\n",
       "<tr><td>6 years</td></tr>\n",
       "<tr><td>3 years</td></tr>\n",
       "<tr><td>10+ years</td></tr>\n",
       "<tr><td>&lt; 1 year</td></tr>\n",
       "</table>\n"
      ],
      "text/plain": [
       "+----------+\n",
       "|emp_length|\n",
       "+----------+\n",
       "|   5 years|\n",
       "|   9 years|\n",
       "|      null|\n",
       "|    1 year|\n",
       "|   2 years|\n",
       "|   7 years|\n",
       "|   8 years|\n",
       "|   4 years|\n",
       "|   6 years|\n",
       "|   3 years|\n",
       "| 10+ years|\n",
       "|  < 1 year|\n",
       "+----------+"
      ]
     },
     "execution_count": 26,
     "metadata": {},
     "output_type": "execute_result"
    }
   ],
   "source": [
    "spark.sql(\"select distinct(emp_length) from customers\")"
   ]
  },
  {
   "cell_type": "code",
   "execution_count": 27,
   "id": "56b10b4e",
   "metadata": {},
   "outputs": [],
   "source": [
    "from pyspark.sql.functions import regexp_replace, col"
   ]
  },
  {
   "cell_type": "code",
   "execution_count": 28,
   "id": "238b0943",
   "metadata": {},
   "outputs": [],
   "source": [
    "customers_emplength_cleaned = customers_income_filtered.withColumn(\"emp_length\", regexp_replace(col(\"emp_length\"), \"(\\D)\",\"\"))"
   ]
  },
  {
   "cell_type": "code",
   "execution_count": 29,
   "id": "121058c2",
   "metadata": {},
   "outputs": [
    {
     "data": {
      "text/html": [
       "<table border='1'>\n",
       "<tr><th>member_id</th><th>emp_title</th><th>emp_length</th><th>home_ownership</th><th>annual_income</th><th>address_state</th><th>address_zipcode</th><th>address_country</th><th>grade</th><th>sub_grade</th><th>verification_status</th><th>total_high_credit_limit</th><th>application_type</th><th>join_annual_income</th><th>verification_status_joint</th><th>ingest_date</th></tr>\n",
       "<tr><td>6e59482480a86baf1...</td><td>TRX</td><td>2</td><td>MORTGAGE</td><td>150000.0</td><td>SC</td><td>290xx</td><td>USA</td><td>A</td><td>A3</td><td>Not Verified</td><td>null</td><td>Individual</td><td>null</td><td>null</td><td>2024-12-15 05:55:...</td></tr>\n",
       "<tr><td>84e0ce11e550a6c0f...</td><td>mayo clinic roche...</td><td>4</td><td>MORTGAGE</td><td>41008.0</td><td>MN</td><td>559xx</td><td>USA</td><td>D</td><td>D2</td><td>Not Verified</td><td>null</td><td>Individual</td><td>null</td><td>null</td><td>2024-12-15 05:55:...</td></tr>\n",
       "<tr><td>f60dc956e619f9fb8...</td><td>null</td><td>null</td><td>MORTGAGE</td><td>25000.0</td><td>AZ</td><td>850xx</td><td>USA</td><td>A</td><td>A3</td><td>Source Verified</td><td>null</td><td>Individual</td><td>null</td><td>null</td><td>2024-12-15 05:55:...</td></tr>\n",
       "<tr><td>35de8763344168d36...</td><td>SC Education Lottery</td><td>10</td><td>MORTGAGE</td><td>50000.0</td><td>SC</td><td>296xx</td><td>USA</td><td>B</td><td>B3</td><td>Not Verified</td><td>null</td><td>Individual</td><td>null</td><td>null</td><td>2024-12-15 05:55:...</td></tr>\n",
       "<tr><td>69d359742b011aacb...</td><td>Raytheon Company</td><td>10</td><td>RENT</td><td>144720.0</td><td>CA</td><td>930xx</td><td>USA</td><td>D</td><td>D2</td><td>Verified</td><td>null</td><td>Individual</td><td>null</td><td>null</td><td>2024-12-15 05:55:...</td></tr>\n",
       "<tr><td>88e5c7b828ea3966e...</td><td>Northeast Redistr...</td><td>5</td><td>MORTGAGE</td><td>44000.0</td><td>VA</td><td>226xx</td><td>USA</td><td>E</td><td>E5</td><td>Verified</td><td>null</td><td>Individual</td><td>null</td><td>null</td><td>2024-12-15 05:55:...</td></tr>\n",
       "<tr><td>a6c046d5b4554ff5c...</td><td>nestle purina</td><td>5</td><td>OWN</td><td>60000.0</td><td>GA</td><td>302xx</td><td>USA</td><td>D</td><td>D3</td><td>Verified</td><td>null</td><td>Individual</td><td>null</td><td>null</td><td>2024-12-15 05:55:...</td></tr>\n",
       "<tr><td>7cf885603d3ab6792...</td><td>Redlands Unified ...</td><td>8</td><td>OWN</td><td>75000.0</td><td>CA</td><td>925xx</td><td>USA</td><td>B</td><td>B2</td><td>Verified</td><td>null</td><td>Individual</td><td>null</td><td>null</td><td>2024-12-15 05:55:...</td></tr>\n",
       "<tr><td>db870aadc97f30f3b...</td><td>Interstate hotels...</td><td>8</td><td>OWN</td><td>55000.0</td><td>TX</td><td>750xx</td><td>USA</td><td>C</td><td>C1</td><td>Source Verified</td><td>null</td><td>Individual</td><td>null</td><td>null</td><td>2024-12-15 05:55:...</td></tr>\n",
       "<tr><td>05f7a34bdcdaf3667...</td><td>Federal Aviation ...</td><td>9</td><td>MORTGAGE</td><td>116000.0</td><td>NM</td><td>871xx</td><td>USA</td><td>E</td><td>E2</td><td>Verified</td><td>null</td><td>Individual</td><td>null</td><td>null</td><td>2024-12-15 05:55:...</td></tr>\n",
       "<tr><td>743e1b577d868a620...</td><td>Big Lots</td><td>10</td><td>RENT</td><td>39000.0</td><td>CA</td><td>953xx</td><td>USA</td><td>B</td><td>B2</td><td>Not Verified</td><td>null</td><td>Individual</td><td>null</td><td>null</td><td>2024-12-15 05:55:...</td></tr>\n",
       "<tr><td>b4996255c9123845c...</td><td>US Air Force</td><td>10</td><td>OWN</td><td>80000.0</td><td>AK</td><td>995xx</td><td>USA</td><td>C</td><td>C5</td><td>Verified</td><td>null</td><td>Individual</td><td>null</td><td>null</td><td>2024-12-15 05:55:...</td></tr>\n",
       "<tr><td>9df4a22ebd7d82419...</td><td>Chicago Public Sc...</td><td>10</td><td>RENT</td><td>75000.0</td><td>IL</td><td>606xx</td><td>USA</td><td>F</td><td>F1</td><td>Verified</td><td>null</td><td>Individual</td><td>null</td><td>null</td><td>2024-12-15 05:55:...</td></tr>\n",
       "<tr><td>4c93b641e52dcd60d...</td><td>Sprint</td><td>10</td><td>MORTGAGE</td><td>83000.0</td><td>NC</td><td>282xx</td><td>USA</td><td>E</td><td>E5</td><td>Verified</td><td>null</td><td>Individual</td><td>null</td><td>null</td><td>2024-12-15 05:55:...</td></tr>\n",
       "<tr><td>31026763c6d2ab86b...</td><td>Fidelity Investments</td><td>4</td><td>MORTGAGE</td><td>350000.0</td><td>MA</td><td>023xx</td><td>USA</td><td>B</td><td>B5</td><td>Verified</td><td>null</td><td>Individual</td><td>null</td><td>null</td><td>2024-12-15 05:55:...</td></tr>\n",
       "<tr><td>1747f06d6537baabe...</td><td>Golden Gates Casino</td><td>3</td><td>RENT</td><td>60000.0</td><td>CO</td><td>804xx</td><td>USA</td><td>E</td><td>E2</td><td>Verified</td><td>null</td><td>Individual</td><td>null</td><td>null</td><td>2024-12-15 05:55:...</td></tr>\n",
       "<tr><td>1f95c18c362f02f75...</td><td>Newell Rubbermaid</td><td>10</td><td>MORTGAGE</td><td>37000.0</td><td>IL</td><td>610xx</td><td>USA</td><td>A</td><td>A4</td><td>Verified</td><td>null</td><td>Individual</td><td>null</td><td>null</td><td>2024-12-15 05:55:...</td></tr>\n",
       "<tr><td>e4a195304cf036a13...</td><td>pennsylvania grai...</td><td>1</td><td>OWN</td><td>31750.0</td><td>PA</td><td>168xx</td><td>USA</td><td>A</td><td>A5</td><td>Not Verified</td><td>null</td><td>Individual</td><td>null</td><td>null</td><td>2024-12-15 05:55:...</td></tr>\n",
       "<tr><td>0376aaec42e822102...</td><td>Animal Kind Veter...</td><td>10</td><td>MORTGAGE</td><td>71799.0</td><td>CA</td><td>949xx</td><td>USA</td><td>A</td><td>A1</td><td>Not Verified</td><td>null</td><td>Individual</td><td>null</td><td>null</td><td>2024-12-15 05:55:...</td></tr>\n",
       "<tr><td>d7c4ab7c5c9188d87...</td><td>Honda East</td><td>10</td><td>MORTGAGE</td><td>300000.0</td><td>OH</td><td>450xx</td><td>USA</td><td>B</td><td>B1</td><td>Not Verified</td><td>null</td><td>Individual</td><td>null</td><td>null</td><td>2024-12-15 05:55:...</td></tr>\n",
       "</table>\n",
       "only showing top 20 rows\n"
      ],
      "text/plain": [
       "+--------------------+--------------------+----------+--------------+-------------+-------------+---------------+---------------+-----+---------+-------------------+-----------------------+----------------+------------------+-------------------------+--------------------+\n",
       "|           member_id|           emp_title|emp_length|home_ownership|annual_income|address_state|address_zipcode|address_country|grade|sub_grade|verification_status|total_high_credit_limit|application_type|join_annual_income|verification_status_joint|         ingest_date|\n",
       "+--------------------+--------------------+----------+--------------+-------------+-------------+---------------+---------------+-----+---------+-------------------+-----------------------+----------------+------------------+-------------------------+--------------------+\n",
       "|c5ab21f5c67ccd3e5...|       Nurse Auditor|         3|      MORTGAGE|      95000.0|           NJ|          088xx|            USA|    E|       E3|           Verified|               451752.0|      Individual|              null|                     null|2024-12-15 05:55:...|\n",
       "|791da86cdf4635c02...|Operations Coordi...|         4|          RENT|      36200.0|           FL|          333xx|            USA|    B|       B3|    Source Verified|                81645.0|      Individual|              null|                     null|2024-12-15 05:55:...|\n",
       "|555dfd131e3ce875a...|Senior Software D...|         1|      MORTGAGE|      90000.0|           MT|          591xx|            USA|    E|       E5|    Source Verified|               275713.0|      Individual|              null|                     null|2024-12-15 05:55:...|\n",
       "|09c03f836974e31e1...|           Carpenter|        10|      MORTGAGE|      35000.0|           PA|          151xx|            USA|    C|       C3|           Verified|                96467.0|      Individual|              null|                     null|2024-12-15 05:55:...|\n",
       "|25db1b557ac993108...|       Requisitioner|         3|      MORTGAGE|      50481.0|           LA|          703xx|            USA|    B|       B4|       Not Verified|               122575.0|      Individual|              null|                     null|2024-12-15 05:55:...|\n",
       "|d5e75100380970e03...|      police officer|         7|      MORTGAGE|      84000.0|           NV|          890xx|            USA|    B|       B5|           Verified|               290010.0|      Individual|              null|                     null|2024-12-15 05:55:...|\n",
       "|44ee8032205ecabf8...|S1 Telecom Techni...|         2|      MORTGAGE|      39520.0|           FL|          327xx|            USA|    C|       C4|    Source Verified|               146493.0|      Individual|              null|                     null|2024-12-15 05:55:...|\n",
       "|78126299cb7f35cd4...|      Office Manager|         8|          RENT|     30867.62|           OH|          433xx|            USA|    B|       B1|    Source Verified|                18100.0|      Individual|              null|                     null|2024-12-15 05:55:...|\n",
       "|4f3edda216ac389ea...|               Owner|         4|      MORTGAGE|      60000.0|           MA|          025xx|            USA|    C|       C1|    Source Verified|                57808.0|      Individual|              null|                     null|2024-12-15 05:55:...|\n",
       "|9b59af2b9951034ea...|   assistant manager|         1|      MORTGAGE|      65000.0|           CO|          800xx|            USA|    C|       C3|    Source Verified|                75048.0|      Individual|              null|                     null|2024-12-15 05:55:...|\n",
       "|0838004782df362e7...|long haul truck d...|         1|      MORTGAGE|      45000.0|           AZ|          853xx|            USA|    C|       C5|    Source Verified|               181364.0|      Individual|              null|                     null|2024-12-15 05:55:...|\n",
       "|3323cb24fb8610f13...|    School Counselor|         8|           OWN|      58775.0|           NY|          149xx|            USA|    B|       B4|       Not Verified|                74313.0|      Individual|              null|                     null|2024-12-15 05:55:...|\n",
       "|334382b1be4005dea...|  marketing director|         1|          RENT|      42000.0|           NC|          280xx|            USA|    F|       F3|           Verified|               100840.0|      Individual|              null|                     null|2024-12-15 05:55:...|\n",
       "|e89ab66ebedce475a...|      Office Mnaager|         6|      MORTGAGE|      53000.0|           SC|          290xx|            USA|    A|       A2|    Source Verified|               229121.0|      Individual|              null|                     null|2024-12-15 05:55:...|\n",
       "|78ea26016987961bf...|          Accountant|        10|      MORTGAGE|      75400.0|           NM|          871xx|            USA|    B|       B4|    Source Verified|                39376.0|      Individual|              null|                     null|2024-12-15 05:55:...|\n",
       "|9a6a4e18bb3290cd2...|         waste water|        10|      MORTGAGE|      60000.0|           IN|          460xx|            USA|    C|       C2|           Verified|               139311.0|      Individual|              null|                     null|2024-12-15 05:55:...|\n",
       "|0ce5b613af16b57a9...|      Senior Manager|         1|           OWN|     150000.0|           KS|          662xx|            USA|    A|       A1|       Not Verified|               243692.0|      Individual|              null|                     null|2024-12-15 05:55:...|\n",
       "|f09bb015f0bb5aa54...|Commercial Credit...|         7|          RENT|      65000.0|           NC|          283xx|            USA|    B|       B4|    Source Verified|                81164.0|      Individual|              null|                     null|2024-12-15 05:55:...|\n",
       "|bc1c8ae2c71f6868f...|     General Manager|         2|          RENT|     150000.0|           TX|          770xx|            USA|    A|       A5|    Source Verified|               114200.0|      Individual|              null|                     null|2024-12-15 05:55:...|\n",
       "|7250075689ff699b1...|         Mailhandler|        10|      MORTGAGE|      90000.0|           CA|          945xx|            USA|    B|       B4|    Source Verified|                86792.0|      Individual|              null|                     null|2024-12-15 05:55:...|\n",
       "+--------------------+--------------------+----------+--------------+-------------+-------------+---------------+---------------+-----+---------+-------------------+-----------------------+----------------+------------------+-------------------------+--------------------+\n",
       "only showing top 20 rows"
      ]
     },
     "execution_count": 29,
     "metadata": {},
     "output_type": "execute_result"
    }
   ],
   "source": [
    "customers_emplength_cleaned"
   ]
  },
  {
   "cell_type": "code",
   "execution_count": 30,
   "id": "d539d5d5",
   "metadata": {},
   "outputs": [
    {
     "name": "stdout",
     "output_type": "stream",
     "text": [
      "root\n",
      " |-- member_id: string (nullable = true)\n",
      " |-- emp_title: string (nullable = true)\n",
      " |-- emp_length: string (nullable = true)\n",
      " |-- home_ownership: string (nullable = true)\n",
      " |-- annual_income: float (nullable = true)\n",
      " |-- address_state: string (nullable = true)\n",
      " |-- address_zipcode: string (nullable = true)\n",
      " |-- address_country: string (nullable = true)\n",
      " |-- grade: string (nullable = true)\n",
      " |-- sub_grade: string (nullable = true)\n",
      " |-- verification_status: string (nullable = true)\n",
      " |-- total_high_credit_limit: float (nullable = true)\n",
      " |-- application_type: string (nullable = true)\n",
      " |-- join_annual_income: float (nullable = true)\n",
      " |-- verification_status_joint: string (nullable = true)\n",
      " |-- ingest_date: timestamp (nullable = false)\n",
      "\n"
     ]
    }
   ],
   "source": [
    "customers_emplength_cleaned.printSchema()"
   ]
  },
  {
   "cell_type": "code",
   "execution_count": 31,
   "id": "17122230",
   "metadata": {},
   "outputs": [],
   "source": [
    "customers_emplength_casted = customers_emplength_cleaned.withColumn(\"emp_length\", customers_emplength_cleaned.emp_length.cast('int'))"
   ]
  },
  {
   "cell_type": "code",
   "execution_count": 32,
   "id": "77811f58",
   "metadata": {},
   "outputs": [
    {
     "data": {
      "text/html": [
       "<table border='1'>\n",
       "<tr><th>member_id</th><th>emp_title</th><th>emp_length</th><th>home_ownership</th><th>annual_income</th><th>address_state</th><th>address_zipcode</th><th>address_country</th><th>grade</th><th>sub_grade</th><th>verification_status</th><th>total_high_credit_limit</th><th>application_type</th><th>join_annual_income</th><th>verification_status_joint</th><th>ingest_date</th></tr>\n",
       "<tr><td>95479952a09c82f81...</td><td>Retail personal b...</td><td>10</td><td>MORTGAGE</td><td>45000.0</td><td>MI</td><td>480xx</td><td>USA</td><td>C</td><td>C5</td><td>Verified</td><td>46402.0</td><td>Joint App</td><td>95000.0</td><td>Verified</td><td>2024-12-15 05:55:...</td></tr>\n",
       "<tr><td>e490e5dd80f6eef89...</td><td>Music Teacher</td><td>1</td><td>RENT</td><td>45000.0</td><td>NY</td><td>135xx</td><td>USA</td><td>C</td><td>C4</td><td>Not Verified</td><td>71515.0</td><td>Individual</td><td>null</td><td>null</td><td>2024-12-15 05:55:...</td></tr>\n",
       "<tr><td>9c4f39ba56bef4285...</td><td>Supervisor</td><td>10</td><td>MORTGAGE</td><td>78000.0</td><td>NY</td><td>147xx</td><td>USA</td><td>C</td><td>C2</td><td>Source Verified</td><td>309722.0</td><td>Individual</td><td>null</td><td>null</td><td>2024-12-15 05:55:...</td></tr>\n",
       "<tr><td>6f928c148abe420cc...</td><td>Social Work</td><td>3</td><td>RENT</td><td>63000.0</td><td>SD</td><td>577xx</td><td>USA</td><td>C</td><td>C5</td><td>Verified</td><td>257651.0</td><td>Individual</td><td>null</td><td>null</td><td>2024-12-15 05:55:...</td></tr>\n",
       "<tr><td>1ddb4436b7b0c1415...</td><td>Managing partner</td><td>3</td><td>MORTGAGE</td><td>120088.0</td><td>CA</td><td>945xx</td><td>USA</td><td>D</td><td>D5</td><td>Verified</td><td>63590.0</td><td>Individual</td><td>null</td><td>null</td><td>2024-12-15 05:55:...</td></tr>\n",
       "<tr><td>0153910e4720863ab...</td><td>Chief instructor</td><td>10</td><td>MORTGAGE</td><td>62000.0</td><td>AZ</td><td>853xx</td><td>USA</td><td>E</td><td>E3</td><td>Verified</td><td>385367.0</td><td>Individual</td><td>null</td><td>null</td><td>2024-12-15 05:55:...</td></tr>\n",
       "<tr><td>aed25052d608aa0b4...</td><td>Investigator</td><td>10</td><td>MORTGAGE</td><td>82000.0</td><td>TX</td><td>775xx</td><td>USA</td><td>B</td><td>B5</td><td>Verified</td><td>116004.0</td><td>Individual</td><td>null</td><td>null</td><td>2024-12-15 05:55:...</td></tr>\n",
       "<tr><td>b52f17d70f81a1511...</td><td>null</td><td>null</td><td>MORTGAGE</td><td>32712.0</td><td>MS</td><td>389xx</td><td>USA</td><td>A</td><td>A5</td><td>Verified</td><td>106809.0</td><td>Individual</td><td>null</td><td>null</td><td>2024-12-15 05:55:...</td></tr>\n",
       "<tr><td>e6bf7f9186532cd7a...</td><td>Teacher/Coach</td><td>10</td><td>OWN</td><td>78986.0</td><td>GA</td><td>319xx</td><td>USA</td><td>D</td><td>D5</td><td>Source Verified</td><td>215456.0</td><td>Individual</td><td>null</td><td>null</td><td>2024-12-15 05:55:...</td></tr>\n",
       "<tr><td>b02d2397cf468b732...</td><td>Sergeant</td><td>10</td><td>MORTGAGE</td><td>190000.0</td><td>WA</td><td>982xx</td><td>USA</td><td>B</td><td>B3</td><td>Source Verified</td><td>682991.0</td><td>Individual</td><td>null</td><td>null</td><td>2024-12-15 05:55:...</td></tr>\n",
       "<tr><td>ce074168527be368d...</td><td>President</td><td>5</td><td>MORTGAGE</td><td>60000.0</td><td>MD</td><td>208xx</td><td>USA</td><td>C</td><td>C3</td><td>Not Verified</td><td>520724.0</td><td>Individual</td><td>null</td><td>null</td><td>2024-12-15 05:55:...</td></tr>\n",
       "<tr><td>c66eeedfad2094436...</td><td>Corrections Officer</td><td>4</td><td>RENT</td><td>94800.0</td><td>NY</td><td>114xx</td><td>USA</td><td>C</td><td>C3</td><td>Not Verified</td><td>27185.0</td><td>Individual</td><td>null</td><td>null</td><td>2024-12-15 05:55:...</td></tr>\n",
       "<tr><td>acd262cfdf17fd6ee...</td><td>Proprietor/Manager</td><td>10</td><td>MORTGAGE</td><td>70000.0</td><td>MO</td><td>630xx</td><td>USA</td><td>B</td><td>B4</td><td>Source Verified</td><td>272206.0</td><td>Individual</td><td>null</td><td>null</td><td>2024-12-15 05:55:...</td></tr>\n",
       "<tr><td>f572bac4b748ccb39...</td><td>Owner operator</td><td>7</td><td>MORTGAGE</td><td>45000.0</td><td>OH</td><td>440xx</td><td>USA</td><td>A</td><td>A4</td><td>Not Verified</td><td>73250.0</td><td>Individual</td><td>null</td><td>null</td><td>2024-12-15 05:55:...</td></tr>\n",
       "<tr><td>b59e774011623ffea...</td><td>TL/PCA</td><td>2</td><td>RENT</td><td>50000.0</td><td>PA</td><td>180xx</td><td>USA</td><td>C</td><td>C4</td><td>Verified</td><td>51536.0</td><td>Individual</td><td>null</td><td>null</td><td>2024-12-15 05:55:...</td></tr>\n",
       "<tr><td>e43e56985995b8112...</td><td>Clinical Therapist</td><td>3</td><td>MORTGAGE</td><td>102000.0</td><td>CA</td><td>917xx</td><td>USA</td><td>A</td><td>A2</td><td>Not Verified</td><td>222272.0</td><td>Individual</td><td>null</td><td>null</td><td>2024-12-15 05:55:...</td></tr>\n",
       "<tr><td>7aa62cba12e6641e8...</td><td>Administrator / L...</td><td>1</td><td>MORTGAGE</td><td>32000.0</td><td>CA</td><td>954xx</td><td>USA</td><td>A</td><td>A4</td><td>Source Verified</td><td>366524.0</td><td>Joint App</td><td>118000.0</td><td>Source Verified</td><td>2024-12-15 05:55:...</td></tr>\n",
       "<tr><td>3e5b234cec4e8c269...</td><td>Chaplain/PhD</td><td>3</td><td>MORTGAGE</td><td>70000.0</td><td>MN</td><td>559xx</td><td>USA</td><td>A</td><td>A4</td><td>Not Verified</td><td>377505.0</td><td>Individual</td><td>null</td><td>null</td><td>2024-12-15 05:55:...</td></tr>\n",
       "<tr><td>b8ffdc9562854ae01...</td><td>BUDGET MGR</td><td>10</td><td>RENT</td><td>132000.0</td><td>NC</td><td>283xx</td><td>USA</td><td>C</td><td>C3</td><td>Source Verified</td><td>284912.0</td><td>Individual</td><td>null</td><td>null</td><td>2024-12-15 05:55:...</td></tr>\n",
       "<tr><td>7ee860da12a25fb6a...</td><td>Marketing Manager</td><td>3</td><td>MORTGAGE</td><td>45000.0</td><td>SD</td><td>571xx</td><td>USA</td><td>B</td><td>B1</td><td>Not Verified</td><td>87150.0</td><td>Individual</td><td>null</td><td>null</td><td>2024-12-15 05:55:...</td></tr>\n",
       "</table>\n",
       "only showing top 20 rows\n"
      ],
      "text/plain": [
       "+--------------------+--------------------+----------+--------------+-------------+-------------+---------------+---------------+-----+---------+-------------------+-----------------------+----------------+------------------+-------------------------+--------------------+\n",
       "|           member_id|           emp_title|emp_length|home_ownership|annual_income|address_state|address_zipcode|address_country|grade|sub_grade|verification_status|total_high_credit_limit|application_type|join_annual_income|verification_status_joint|         ingest_date|\n",
       "+--------------------+--------------------+----------+--------------+-------------+-------------+---------------+---------------+-----+---------+-------------------+-----------------------+----------------+------------------+-------------------------+--------------------+\n",
       "|82a2dfd673f410055...|           President|        10|      MORTGAGE|     150000.0|           FL|          331xx|            USA|    B|       B3|       Not Verified|                53320.0|      Individual|              null|                     null|2024-12-15 05:55:...|\n",
       "|a6dc658898884e45c...|       Night Auditor|         8|          RENT|      30000.0|           CA|          930xx|            USA|    B|       B1|       Not Verified|                47100.0|      Individual|              null|                     null|2024-12-15 05:55:...|\n",
       "|e54e63f537ac569ab...|               Owner|         7|          RENT|     125000.0|           IL|          604xx|            USA|    C|       C1|    Source Verified|               140830.0|      Individual|              null|                     null|2024-12-15 05:55:...|\n",
       "|31e67c9257c7f23b6...|Information Techn...|        10|      MORTGAGE|     108252.0|           NC|          283xx|            USA|    B|       B3|           Verified|               262999.0|       Joint App|          118252.0|             Not Verified|2024-12-15 05:55:...|\n",
       "|b2cfbfa3e5f8fb6d3...|        Truck Driver|         1|          RENT|      36000.0|           MN|          561xx|            USA|    C|       C5|    Source Verified|                 6500.0|       Joint App|           88000.0|          Source Verified|2024-12-15 05:55:...|\n",
       "|a7072b5dc868ce7b8...|     Utility/wrapper|         7|           OWN|      50000.0|           LA|          714xx|            USA|    B|       B4|    Source Verified|                39152.0|      Individual|              null|                     null|2024-12-15 05:55:...|\n",
       "|f60427f8f314f68f8...|      Police Officer|         2|          RENT|      85000.0|           FL|          331xx|            USA|    B|       B2|       Not Verified|                66523.0|      Individual|              null|                     null|2024-12-15 05:55:...|\n",
       "|0b6a92c40b6b0e193...|      Branch Manager|         9|      MORTGAGE|      90000.0|           ID|          837xx|            USA|    C|       C2|    Source Verified|                75000.0|      Individual|              null|                     null|2024-12-15 05:55:...|\n",
       "|a4d35eada026a5215...|     Product Manager|        10|      MORTGAGE|     110000.0|           NV|          895xx|            USA|    C|       C3|    Source Verified|               501741.0|      Individual|              null|                     null|2024-12-15 05:55:...|\n",
       "|679fc22153fa4519d...|             Laboror|        10|      MORTGAGE|      56000.0|           NV|          891xx|            USA|    C|       C2|           Verified|               143650.0|      Individual|              null|                     null|2024-12-15 05:55:...|\n",
       "|48ccc05143d71f03e...|Qaulification Spe...|        10|          RENT|      68000.0|           OR|          973xx|            USA|    D|       D3|    Source Verified|                54142.0|      Individual|              null|                     null|2024-12-15 05:55:...|\n",
       "|330fb6c586c56159f...|           President|         7|      MORTGAGE|      81000.0|           TN|          371xx|            USA|    E|       E5|    Source Verified|                66408.0|      Individual|              null|                     null|2024-12-15 05:55:...|\n",
       "|ffbdfb4ce165641bd...|               Owner|        10|          RENT|      60000.0|           MN|          550xx|            USA|    A|       A2|       Not Verified|                46000.0|      Individual|              null|                     null|2024-12-15 05:55:...|\n",
       "|b15b9c173ddb47ef1...|  Sr Project Manager|         2|          RENT|     125000.0|           WA|          980xx|            USA|    C|       C4|           Verified|               106168.0|      Individual|              null|                     null|2024-12-15 05:55:...|\n",
       "|4c6dedc9d9050c0b2...|              Fellow|         1|          RENT|     113000.0|           NY|          100xx|            USA|    B|       B2|    Source Verified|                35600.0|      Individual|              null|                     null|2024-12-15 05:55:...|\n",
       "|390f3353f3add5f75...|      Transportation|         6|          RENT|     100000.0|           NY|          114xx|            USA|    E|       E3|           Verified|                54759.0|      Individual|              null|                     null|2024-12-15 05:55:...|\n",
       "|cddbe4dfcf9c9f90b...|      Deputy Sheriff|         9|      MORTGAGE|     114000.0|           CA|          917xx|            USA|    E|       E5|           Verified|               791616.0|      Individual|              null|                     null|2024-12-15 05:55:...|\n",
       "|14f94b2ecf4d25b0e...|Conflicts, Credit...|        10|           OWN|     111000.0|           IN|          462xx|            USA|    A|       A1|    Source Verified|               366450.0|      Individual|              null|                     null|2024-12-15 05:55:...|\n",
       "|21fee7e551615b953...|QC Assistant/Admi...|         1|          RENT|      37961.0|           MN|          554xx|            USA|    C|       C2|    Source Verified|                50093.0|      Individual|              null|                     null|2024-12-15 05:55:...|\n",
       "|f62c748cd7623645f...|     Project Manager|        10|      MORTGAGE|      58000.0|           GA|          306xx|            USA|    B|       B3|       Not Verified|               158773.0|      Individual|              null|                     null|2024-12-15 05:55:...|\n",
       "+--------------------+--------------------+----------+--------------+-------------+-------------+---------------+---------------+-----+---------+-------------------+-----------------------+----------------+------------------+-------------------------+--------------------+\n",
       "only showing top 20 rows"
      ]
     },
     "execution_count": 32,
     "metadata": {},
     "output_type": "execute_result"
    }
   ],
   "source": [
    "customers_emplength_casted"
   ]
  },
  {
   "cell_type": "code",
   "execution_count": 33,
   "id": "34c5b51f",
   "metadata": {},
   "outputs": [
    {
     "name": "stdout",
     "output_type": "stream",
     "text": [
      "root\n",
      " |-- member_id: string (nullable = true)\n",
      " |-- emp_title: string (nullable = true)\n",
      " |-- emp_length: integer (nullable = true)\n",
      " |-- home_ownership: string (nullable = true)\n",
      " |-- annual_income: float (nullable = true)\n",
      " |-- address_state: string (nullable = true)\n",
      " |-- address_zipcode: string (nullable = true)\n",
      " |-- address_country: string (nullable = true)\n",
      " |-- grade: string (nullable = true)\n",
      " |-- sub_grade: string (nullable = true)\n",
      " |-- verification_status: string (nullable = true)\n",
      " |-- total_high_credit_limit: float (nullable = true)\n",
      " |-- application_type: string (nullable = true)\n",
      " |-- join_annual_income: float (nullable = true)\n",
      " |-- verification_status_joint: string (nullable = true)\n",
      " |-- ingest_date: timestamp (nullable = false)\n",
      "\n"
     ]
    }
   ],
   "source": [
    "customers_emplength_casted.printSchema()"
   ]
  },
  {
   "cell_type": "markdown",
   "id": "1548461d",
   "metadata": {},
   "source": [
    "#### 7. we need to replace all the nulls in emp_length column with average of this column"
   ]
  },
  {
   "cell_type": "code",
   "execution_count": 34,
   "id": "a8be857e",
   "metadata": {},
   "outputs": [
    {
     "data": {
      "text/plain": [
       "146903"
      ]
     },
     "execution_count": 34,
     "metadata": {},
     "output_type": "execute_result"
    }
   ],
   "source": [
    "customers_emplength_casted.filter(\"emp_length is null\").count()"
   ]
  },
  {
   "cell_type": "code",
   "execution_count": 35,
   "id": "220b1583",
   "metadata": {},
   "outputs": [],
   "source": [
    "customers_emplength_casted.createOrReplaceTempView(\"customers\")"
   ]
  },
  {
   "cell_type": "code",
   "execution_count": 36,
   "id": "4f1d8e7f",
   "metadata": {},
   "outputs": [],
   "source": [
    "avg_emp_length = spark.sql(\"select floor(avg(emp_length)) as avg_emp_length from customers\").collect()"
   ]
  },
  {
   "cell_type": "code",
   "execution_count": 37,
   "id": "99a17c77",
   "metadata": {},
   "outputs": [
    {
     "name": "stdout",
     "output_type": "stream",
     "text": [
      "[Row(avg_emp_length=6)]\n"
     ]
    }
   ],
   "source": [
    "print(avg_emp_length)"
   ]
  },
  {
   "cell_type": "code",
   "execution_count": 38,
   "id": "fd889063",
   "metadata": {},
   "outputs": [],
   "source": [
    "avg_emp_duration = avg_emp_length[0][0]"
   ]
  },
  {
   "cell_type": "code",
   "execution_count": 39,
   "id": "241749e0",
   "metadata": {},
   "outputs": [
    {
     "name": "stdout",
     "output_type": "stream",
     "text": [
      "6\n"
     ]
    }
   ],
   "source": [
    "print(avg_emp_duration)"
   ]
  },
  {
   "cell_type": "code",
   "execution_count": 40,
   "id": "a9d87372",
   "metadata": {},
   "outputs": [],
   "source": [
    "customers_emplength_replaced = customers_emplength_casted.na.fill(avg_emp_duration, subset=['emp_length'])"
   ]
  },
  {
   "cell_type": "code",
   "execution_count": 41,
   "id": "8c20460e",
   "metadata": {},
   "outputs": [
    {
     "data": {
      "text/html": [
       "<table border='1'>\n",
       "<tr><th>member_id</th><th>emp_title</th><th>emp_length</th><th>home_ownership</th><th>annual_income</th><th>address_state</th><th>address_zipcode</th><th>address_country</th><th>grade</th><th>sub_grade</th><th>verification_status</th><th>total_high_credit_limit</th><th>application_type</th><th>join_annual_income</th><th>verification_status_joint</th><th>ingest_date</th></tr>\n",
       "<tr><td>c3d0ce3ab4edd215f...</td><td>owner</td><td>7</td><td>RENT</td><td>45000.0</td><td>PA</td><td>194xx</td><td>USA</td><td>B</td><td>B4</td><td>Not Verified</td><td>95410.0</td><td>Joint App</td><td>122500.0</td><td>Not Verified</td><td>2024-12-15 05:56:...</td></tr>\n",
       "<tr><td>1490283fd9e87f568...</td><td>Technician</td><td>7</td><td>OWN</td><td>55000.0</td><td>NY</td><td>114xx</td><td>USA</td><td>B</td><td>B1</td><td>Not Verified</td><td>90390.0</td><td>Individual</td><td>null</td><td>null</td><td>2024-12-15 05:56:...</td></tr>\n",
       "<tr><td>24f25160182f918f4...</td><td>Forklift driver</td><td>10</td><td>MORTGAGE</td><td>75000.0</td><td>CA</td><td>959xx</td><td>USA</td><td>D</td><td>D5</td><td>Source Verified</td><td>264393.0</td><td>Joint App</td><td>98000.0</td><td>Source Verified</td><td>2024-12-15 05:56:...</td></tr>\n",
       "<tr><td>81ee6f7b78b493e7d...</td><td>Deputy Chief Exec...</td><td>5</td><td>MORTGAGE</td><td>146000.0</td><td>PA</td><td>191xx</td><td>USA</td><td>A</td><td>A2</td><td>Not Verified</td><td>321027.0</td><td>Individual</td><td>null</td><td>null</td><td>2024-12-15 05:56:...</td></tr>\n",
       "<tr><td>efaf4fb854e3b2fbf...</td><td>Sous chef</td><td>3</td><td>RENT</td><td>40000.0</td><td>CO</td><td>803xx</td><td>USA</td><td>B</td><td>B1</td><td>Source Verified</td><td>97903.0</td><td>Individual</td><td>null</td><td>null</td><td>2024-12-15 05:56:...</td></tr>\n",
       "<tr><td>7b823ac777337238e...</td><td>null</td><td>6</td><td>RENT</td><td>37620.0</td><td>CA</td><td>956xx</td><td>USA</td><td>C</td><td>C1</td><td>Source Verified</td><td>18100.0</td><td>Individual</td><td>null</td><td>null</td><td>2024-12-15 05:56:...</td></tr>\n",
       "<tr><td>95a33e46a8f59311f...</td><td>Sales</td><td>3</td><td>MORTGAGE</td><td>57000.0</td><td>NY</td><td>105xx</td><td>USA</td><td>E</td><td>E4</td><td>Verified</td><td>183735.0</td><td>Individual</td><td>null</td><td>null</td><td>2024-12-15 05:56:...</td></tr>\n",
       "<tr><td>4b4ea7c591ae86271...</td><td>Office Manager</td><td>10</td><td>MORTGAGE</td><td>57000.0</td><td>MS</td><td>390xx</td><td>USA</td><td>D</td><td>D3</td><td>Source Verified</td><td>141564.0</td><td>Individual</td><td>null</td><td>null</td><td>2024-12-15 05:56:...</td></tr>\n",
       "<tr><td>5f797a0c3eed500eb...</td><td>Conductor</td><td>10</td><td>MORTGAGE</td><td>150000.0</td><td>NJ</td><td>072xx</td><td>USA</td><td>C</td><td>C5</td><td>Source Verified</td><td>246081.0</td><td>Individual</td><td>null</td><td>null</td><td>2024-12-15 05:56:...</td></tr>\n",
       "<tr><td>f39aab264023064a5...</td><td>null</td><td>6</td><td>OWN</td><td>17000.0</td><td>PA</td><td>182xx</td><td>USA</td><td>C</td><td>C3</td><td>Verified</td><td>6700.0</td><td>Individual</td><td>null</td><td>null</td><td>2024-12-15 05:56:...</td></tr>\n",
       "<tr><td>6aea4a28e5dc8d45d...</td><td>Shipping Lead</td><td>1</td><td>MORTGAGE</td><td>28000.0</td><td>AZ</td><td>851xx</td><td>USA</td><td>C</td><td>C4</td><td>Source Verified</td><td>48505.0</td><td>Joint App</td><td>60000.0</td><td>Source Verified</td><td>2024-12-15 05:56:...</td></tr>\n",
       "<tr><td>c4e4ef3e874de0222...</td><td>client services mgr</td><td>2</td><td>MORTGAGE</td><td>61000.0</td><td>PA</td><td>196xx</td><td>USA</td><td>D</td><td>D1</td><td>Verified</td><td>261138.0</td><td>Individual</td><td>null</td><td>null</td><td>2024-12-15 05:56:...</td></tr>\n",
       "<tr><td>2b7d5ce4e130d6c76...</td><td>Account Executive</td><td>10</td><td>MORTGAGE</td><td>145000.0</td><td>TN</td><td>374xx</td><td>USA</td><td>A</td><td>A5</td><td>Source Verified</td><td>439664.0</td><td>Individual</td><td>null</td><td>null</td><td>2024-12-15 05:56:...</td></tr>\n",
       "<tr><td>1958ae9a366e0b627...</td><td>Financial Specialist</td><td>10</td><td>MORTGAGE</td><td>65000.0</td><td>NE</td><td>681xx</td><td>USA</td><td>B</td><td>B4</td><td>Source Verified</td><td>55800.0</td><td>Individual</td><td>null</td><td>null</td><td>2024-12-15 05:56:...</td></tr>\n",
       "<tr><td>222c08818b8314dfc...</td><td>Sales</td><td>5</td><td>MORTGAGE</td><td>75000.0</td><td>CT</td><td>060xx</td><td>USA</td><td>C</td><td>C1</td><td>Verified</td><td>32000.0</td><td>Individual</td><td>null</td><td>null</td><td>2024-12-15 05:56:...</td></tr>\n",
       "<tr><td>0b2aa0f5c5d1ed249...</td><td>Assistant Branch ...</td><td>10</td><td>RENT</td><td>45000.0</td><td>CA</td><td>903xx</td><td>USA</td><td>A</td><td>A5</td><td>Not Verified</td><td>44007.0</td><td>Individual</td><td>null</td><td>null</td><td>2024-12-15 05:56:...</td></tr>\n",
       "<tr><td>ad7b9f1e4f8559e4f...</td><td>Assistant Front E...</td><td>4</td><td>RENT</td><td>40000.0</td><td>FL</td><td>326xx</td><td>USA</td><td>B</td><td>B2</td><td>Not Verified</td><td>50113.0</td><td>Individual</td><td>null</td><td>null</td><td>2024-12-15 05:56:...</td></tr>\n",
       "<tr><td>326a78211c28becc3...</td><td>Fleet maintenance...</td><td>8</td><td>MORTGAGE</td><td>31226.0</td><td>AL</td><td>368xx</td><td>USA</td><td>B</td><td>B2</td><td>Source Verified</td><td>120550.0</td><td>Individual</td><td>null</td><td>null</td><td>2024-12-15 05:56:...</td></tr>\n",
       "<tr><td>94b330dd52121837d...</td><td>Aid</td><td>10</td><td>OWN</td><td>32132.0</td><td>MI</td><td>494xx</td><td>USA</td><td>B</td><td>B1</td><td>Not Verified</td><td>185300.0</td><td>Joint App</td><td>54234.0</td><td>Not Verified</td><td>2024-12-15 05:56:...</td></tr>\n",
       "<tr><td>aafc3b5685f792e4d...</td><td>Sales</td><td>10</td><td>MORTGAGE</td><td>55000.0</td><td>OH</td><td>452xx</td><td>USA</td><td>A</td><td>A4</td><td>Source Verified</td><td>350836.0</td><td>Individual</td><td>null</td><td>null</td><td>2024-12-15 05:56:...</td></tr>\n",
       "</table>\n",
       "only showing top 20 rows\n"
      ],
      "text/plain": [
       "+--------------------+--------------------+----------+--------------+-------------+-------------+---------------+---------------+-----+---------+-------------------+-----------------------+----------------+------------------+-------------------------+--------------------+\n",
       "|           member_id|           emp_title|emp_length|home_ownership|annual_income|address_state|address_zipcode|address_country|grade|sub_grade|verification_status|total_high_credit_limit|application_type|join_annual_income|verification_status_joint|         ingest_date|\n",
       "+--------------------+--------------------+----------+--------------+-------------+-------------+---------------+---------------+-----+---------+-------------------+-----------------------+----------------+------------------+-------------------------+--------------------+\n",
       "|0e66d828f332e0397...|        Mail Carrier|         2|          RENT|      55000.0|           CA|          913xx|            USA|    C|       C2|    Source Verified|                30597.0|      Individual|              null|                     null|2024-12-15 05:56:...|\n",
       "|7a458e8393860e2f8...|              Driver|         7|          RENT|      38000.0|           NY|          113xx|            USA|    D|       D5|    Source Verified|                38050.0|      Individual|              null|                     null|2024-12-15 05:56:...|\n",
       "|635e4165d69f13359...|    Nurse Technician|        10|      MORTGAGE|      85000.0|           NY|          114xx|            USA|    B|       B2|       Not Verified|               495634.0|      Individual|              null|                     null|2024-12-15 05:56:...|\n",
       "|3f56ce4906e7f3a9a...|Clinical Operatio...|         2|          RENT|     110000.0|           MD|          210xx|            USA|    A|       A5|    Source Verified|               168512.0|      Individual|              null|                     null|2024-12-15 05:56:...|\n",
       "|9176bf157401d92c8...|          Child/care|         2|          RENT|      33600.0|           NY|          112xx|            USA|    C|       C5|       Not Verified|                61254.0|      Individual|              null|                     null|2024-12-15 05:56:...|\n",
       "|f74067de5da26daad...|                 LPN|        10|           OWN|      40000.0|           VA|          230xx|            USA|    C|       C4|    Source Verified|                99865.0|      Individual|              null|                     null|2024-12-15 05:56:...|\n",
       "|9b2313bc5bc27bc37...|              Editor|         1|          RENT|      60000.0|           MO|          631xx|            USA|    C|       C1|       Not Verified|                32707.0|      Individual|              null|                     null|2024-12-15 05:56:...|\n",
       "|1d5a3a8f83b681509...|          Accountant|        10|      MORTGAGE|     233450.0|           NY|          138xx|            USA|    C|       C1|    Source Verified|                95978.0|      Individual|              null|                     null|2024-12-15 05:56:...|\n",
       "|9f337ce4cc34ced3d...|                null|         6|           OWN|      11782.0|           NJ|          070xx|            USA|    C|       C4|           Verified|                 4800.0|      Individual|              null|                     null|2024-12-15 05:56:...|\n",
       "|524df71355238c373...|                Onew|        10|          RENT|      73000.0|           MA|          026xx|            USA|    B|       B2|    Source Verified|                58990.0|      Individual|              null|                     null|2024-12-15 05:56:...|\n",
       "|203410848525afdbf...|MEDICAL RECORDS T...|         3|      MORTGAGE|      80000.0|           OK|          731xx|            USA|    D|       D4|    Source Verified|                41099.0|      Individual|              null|                     null|2024-12-15 05:56:...|\n",
       "|fdcc567173eaea6cf...|     Resp. Therapist|         6|      MORTGAGE|      75000.0|           DE|          199xx|            USA|    B|       B5|    Source Verified|               133628.0|      Individual|              null|                     null|2024-12-15 05:56:...|\n",
       "|a8be1e20d96ca775f...|         dept manger|        10|      MORTGAGE|      22084.0|           NC|          272xx|            USA|    C|       C5|    Source Verified|                71489.0|      Individual|              null|                     null|2024-12-15 05:56:...|\n",
       "|20ff953d2ba84b277...|            Operator|         2|      MORTGAGE|     103000.0|           LA|          707xx|            USA|    C|       C4|    Source Verified|               256558.0|      Individual|              null|                     null|2024-12-15 05:56:...|\n",
       "|95d1b89be7d222019...|                null|         6|      MORTGAGE|      53000.0|           SC|          296xx|            USA|    C|       C1|           Verified|               190039.0|      Individual|              null|                     null|2024-12-15 05:56:...|\n",
       "|30a09da4cfc175503...|          Operations|        10|      MORTGAGE|      58000.0|           IL|          600xx|            USA|    C|       C2|    Source Verified|                97777.0|      Individual|              null|                     null|2024-12-15 05:56:...|\n",
       "|9f8bfea0a7afb1839...|       Trust Manager|        10|      MORTGAGE|      48000.0|           SC|          290xx|            USA|    B|       B4|           Verified|               188873.0|      Individual|              null|                     null|2024-12-15 05:56:...|\n",
       "|953e30ddc695ded90...|       Web Developer|         3|      MORTGAGE|     145000.0|           MD|          210xx|            USA|    B|       B2|    Source Verified|               677267.0|      Individual|              null|                     null|2024-12-15 05:56:...|\n",
       "|2a666ffee3773960d...|           Architect|         2|           OWN|     185000.0|           IL|          602xx|            USA|    B|       B5|       Not Verified|               296176.0|      Individual|              null|                     null|2024-12-15 05:56:...|\n",
       "|d74bef5b63de23ff9...|   SUPPLY SPECIALIST|         7|          RENT|      75000.0|           TX|          775xx|            USA|    F|       F4|           Verified|               118129.0|      Individual|              null|                     null|2024-12-15 05:56:...|\n",
       "+--------------------+--------------------+----------+--------------+-------------+-------------+---------------+---------------+-----+---------+-------------------+-----------------------+----------------+------------------+-------------------------+--------------------+\n",
       "only showing top 20 rows"
      ]
     },
     "execution_count": 41,
     "metadata": {},
     "output_type": "execute_result"
    }
   ],
   "source": [
    "customers_emplength_replaced"
   ]
  },
  {
   "cell_type": "code",
   "execution_count": 42,
   "id": "fcd17951",
   "metadata": {},
   "outputs": [
    {
     "data": {
      "text/plain": [
       "0"
      ]
     },
     "execution_count": 42,
     "metadata": {},
     "output_type": "execute_result"
    }
   ],
   "source": [
    "customers_emplength_replaced.filter(\"emp_length is null\").count()"
   ]
  },
  {
   "cell_type": "code",
   "execution_count": 43,
   "id": "db27417d",
   "metadata": {},
   "outputs": [],
   "source": [
    "customers_emplength_replaced.createOrReplaceTempView(\"customers\")"
   ]
  },
  {
   "cell_type": "code",
   "execution_count": 44,
   "id": "241b7074",
   "metadata": {},
   "outputs": [
    {
     "data": {
      "text/html": [
       "<table border='1'>\n",
       "<tr><th>address_state</th></tr>\n",
       "<tr><td>Helping Kenya&#x27;s D...</td></tr>\n",
       "<tr><td>223xx</td></tr>\n",
       "<tr><td>175 (total projec...</td></tr>\n",
       "<tr><td>AZ</td></tr>\n",
       "<tr><td>SC</td></tr>\n",
       "<tr><td>I am 56 yrs. old ...</td></tr>\n",
       "<tr><td>so Plan &quot;&quot;C&quot;&quot; is ...</td></tr>\n",
       "<tr><td>financially I mad...</td></tr>\n",
       "<tr><td>but no one will l...</td></tr>\n",
       "<tr><td>LA</td></tr>\n",
       "<tr><td>etc.  First</td></tr>\n",
       "<tr><td>MN</td></tr>\n",
       "<tr><td>499xx</td></tr>\n",
       "<tr><td>850xx</td></tr>\n",
       "<tr><td>yet Capital One n...</td></tr>\n",
       "<tr><td>Eliminating Credi...</td></tr>\n",
       "<tr><td>Advocate business...</td></tr>\n",
       "<tr><td>and MBA&#x27;s are ove...</td></tr>\n",
       "<tr><td>662xx</td></tr>\n",
       "<tr><td>I the credit card...</td></tr>\n",
       "</table>\n",
       "only showing top 20 rows\n"
      ],
      "text/plain": [
       "+--------------------+\n",
       "|       address_state|\n",
       "+--------------------+\n",
       "|Helping Kenya's D...|\n",
       "|               223xx|\n",
       "|175 (total projec...|\n",
       "|                  AZ|\n",
       "|                  SC|\n",
       "|so Plan \"\"C\"\" is ...|\n",
       "|I am 56 yrs. old ...|\n",
       "|financially I mad...|\n",
       "|but no one will l...|\n",
       "|                  LA|\n",
       "|         etc.  First|\n",
       "|                  MN|\n",
       "|yet Capital One n...|\n",
       "|               499xx|\n",
       "|               850xx|\n",
       "|and MBA's are ove...|\n",
       "|Eliminating Credi...|\n",
       "|Advocate business...|\n",
       "|               951xx|\n",
       "|               662xx|\n",
       "+--------------------+\n",
       "only showing top 20 rows"
      ]
     },
     "execution_count": 44,
     "metadata": {},
     "output_type": "execute_result"
    }
   ],
   "source": [
    "spark.sql(\"select distinct(address_state) from customers\")"
   ]
  },
  {
   "cell_type": "code",
   "execution_count": 45,
   "id": "58b2b1bb",
   "metadata": {},
   "outputs": [
    {
     "data": {
      "text/html": [
       "<table border='1'>\n",
       "<tr><th>count(address_state)</th></tr>\n",
       "<tr><td>254</td></tr>\n",
       "</table>\n"
      ],
      "text/plain": [
       "+--------------------+\n",
       "|count(address_state)|\n",
       "+--------------------+\n",
       "|                 254|\n",
       "+--------------------+"
      ]
     },
     "execution_count": 45,
     "metadata": {},
     "output_type": "execute_result"
    }
   ],
   "source": [
    "spark.sql(\"select count(address_state) from customers where length(address_state)>2\")"
   ]
  },
  {
   "cell_type": "code",
   "execution_count": 46,
   "id": "9d83a6e5",
   "metadata": {},
   "outputs": [],
   "source": [
    "from pyspark.sql.functions import when, col, length"
   ]
  },
  {
   "cell_type": "code",
   "execution_count": 47,
   "id": "9a4e139b",
   "metadata": {},
   "outputs": [],
   "source": [
    "customers_state_cleaned = customers_emplength_replaced.withColumn(\n",
    "    \"address_state\",\n",
    "    when(length(col(\"address_state\"))> 2, \"NA\").otherwise(col(\"address_state\"))\n",
    ")"
   ]
  },
  {
   "cell_type": "code",
   "execution_count": 48,
   "id": "1dbc9dfe",
   "metadata": {},
   "outputs": [
    {
     "data": {
      "text/html": [
       "<table border='1'>\n",
       "<tr><th>member_id</th><th>emp_title</th><th>emp_length</th><th>home_ownership</th><th>annual_income</th><th>address_state</th><th>address_zipcode</th><th>address_country</th><th>grade</th><th>sub_grade</th><th>verification_status</th><th>total_high_credit_limit</th><th>application_type</th><th>join_annual_income</th><th>verification_status_joint</th><th>ingest_date</th></tr>\n",
       "<tr><td>ce191f43f5c78b91a...</td><td>Supervisor</td><td>10</td><td>MORTGAGE</td><td>104000.0</td><td>MI</td><td>482xx</td><td>USA</td><td>C</td><td>C3</td><td>Source Verified</td><td>84852.0</td><td>Individual</td><td>null</td><td>null</td><td>2024-12-15 05:56:...</td></tr>\n",
       "<tr><td>285ab34b0ca60ee0c...</td><td>null</td><td>6</td><td>MORTGAGE</td><td>60000.0</td><td>TX</td><td>796xx</td><td>USA</td><td>B</td><td>B1</td><td>Not Verified</td><td>276696.0</td><td>Individual</td><td>null</td><td>null</td><td>2024-12-15 05:56:...</td></tr>\n",
       "<tr><td>a3fb2bc90f651e2b4...</td><td>Rn</td><td>1</td><td>RENT</td><td>91000.0</td><td>TX</td><td>774xx</td><td>USA</td><td>C</td><td>C1</td><td>Source Verified</td><td>101704.0</td><td>Individual</td><td>null</td><td>null</td><td>2024-12-15 05:56:...</td></tr>\n",
       "<tr><td>533ae0cb0749f1687...</td><td>Production Coordi...</td><td>3</td><td>MORTGAGE</td><td>40000.0</td><td>TX</td><td>761xx</td><td>USA</td><td>C</td><td>C2</td><td>Verified</td><td>155376.0</td><td>Individual</td><td>null</td><td>null</td><td>2024-12-15 05:56:...</td></tr>\n",
       "<tr><td>02fa74c0ff360cc66...</td><td>Maintenance</td><td>3</td><td>RENT</td><td>42000.0</td><td>OR</td><td>970xx</td><td>USA</td><td>B</td><td>B5</td><td>Source Verified</td><td>49000.0</td><td>Individual</td><td>null</td><td>null</td><td>2024-12-15 05:56:...</td></tr>\n",
       "<tr><td>860219576cd7a20a1...</td><td>null</td><td>6</td><td>OWN</td><td>100000.0</td><td>UT</td><td>846xx</td><td>USA</td><td>C</td><td>C3</td><td>Verified</td><td>114195.0</td><td>Individual</td><td>null</td><td>null</td><td>2024-12-15 05:56:...</td></tr>\n",
       "<tr><td>bd1cc32eb6ca527c8...</td><td>VP Signals and Co...</td><td>5</td><td>RENT</td><td>159000.0</td><td>TX</td><td>760xx</td><td>USA</td><td>B</td><td>B1</td><td>Not Verified</td><td>159398.0</td><td>Individual</td><td>null</td><td>null</td><td>2024-12-15 05:56:...</td></tr>\n",
       "<tr><td>5fb03a5c551347897...</td><td>Assembly</td><td>10</td><td>OWN</td><td>35000.0</td><td>MI</td><td>480xx</td><td>USA</td><td>B</td><td>B2</td><td>Not Verified</td><td>155142.0</td><td>Individual</td><td>null</td><td>null</td><td>2024-12-15 05:56:...</td></tr>\n",
       "<tr><td>9d09e0cdb6da70c82...</td><td>Lift Driver</td><td>2</td><td>RENT</td><td>31900.0</td><td>NC</td><td>274xx</td><td>USA</td><td>D</td><td>D2</td><td>Verified</td><td>31132.0</td><td>Individual</td><td>null</td><td>null</td><td>2024-12-15 05:56:...</td></tr>\n",
       "<tr><td>a119ca5e1a567a6f3...</td><td>Technician</td><td>10</td><td>MORTGAGE</td><td>58000.0</td><td>WI</td><td>531xx</td><td>USA</td><td>C</td><td>C3</td><td>Not Verified</td><td>358951.0</td><td>Individual</td><td>null</td><td>null</td><td>2024-12-15 05:56:...</td></tr>\n",
       "<tr><td>3b8af60fcc0734c21...</td><td>owner/operator</td><td>10</td><td>MORTGAGE</td><td>75000.0</td><td>NJ</td><td>087xx</td><td>USA</td><td>D</td><td>D1</td><td>Not Verified</td><td>45700.0</td><td>Individual</td><td>null</td><td>null</td><td>2024-12-15 05:56:...</td></tr>\n",
       "<tr><td>2dd5a49cfd180feb8...</td><td>Consultation Agent</td><td>10</td><td>OWN</td><td>30000.0</td><td>MN</td><td>551xx</td><td>USA</td><td>A</td><td>A5</td><td>Not Verified</td><td>24100.0</td><td>Individual</td><td>null</td><td>null</td><td>2024-12-15 05:56:...</td></tr>\n",
       "<tr><td>279a5e8c2edfce3c5...</td><td>Manager</td><td>8</td><td>MORTGAGE</td><td>128180.0</td><td>CA</td><td>913xx</td><td>USA</td><td>C</td><td>C4</td><td>Verified</td><td>636383.0</td><td>Individual</td><td>null</td><td>null</td><td>2024-12-15 05:56:...</td></tr>\n",
       "<tr><td>e157ce9c05d97ed23...</td><td>Senior Loan Closer</td><td>10</td><td>MORTGAGE</td><td>86000.0</td><td>AZ</td><td>853xx</td><td>USA</td><td>B</td><td>B3</td><td>Source Verified</td><td>353434.0</td><td>Individual</td><td>null</td><td>null</td><td>2024-12-15 05:56:...</td></tr>\n",
       "<tr><td>b7214d10a5d79ac21...</td><td>deputy sheriff</td><td>10</td><td>MORTGAGE</td><td>62000.0</td><td>NC</td><td>280xx</td><td>USA</td><td>C</td><td>C3</td><td>Source Verified</td><td>105539.0</td><td>Individual</td><td>null</td><td>null</td><td>2024-12-15 05:56:...</td></tr>\n",
       "<tr><td>1bfc8380327736396...</td><td>Manager</td><td>8</td><td>RENT</td><td>18000.0</td><td>TX</td><td>770xx</td><td>USA</td><td>C</td><td>C1</td><td>Source Verified</td><td>10300.0</td><td>Individual</td><td>null</td><td>null</td><td>2024-12-15 05:56:...</td></tr>\n",
       "<tr><td>2285fea2657a8d948...</td><td>iOS Engineer</td><td>1</td><td>RENT</td><td>100000.0</td><td>CA</td><td>941xx</td><td>USA</td><td>D</td><td>D3</td><td>Verified</td><td>57070.0</td><td>Individual</td><td>null</td><td>null</td><td>2024-12-15 05:56:...</td></tr>\n",
       "<tr><td>203d6225c60feca8f...</td><td>Inside Sales</td><td>5</td><td>MORTGAGE</td><td>60000.0</td><td>NC</td><td>273xx</td><td>USA</td><td>B</td><td>B1</td><td>Not Verified</td><td>232421.0</td><td>Individual</td><td>null</td><td>null</td><td>2024-12-15 05:56:...</td></tr>\n",
       "<tr><td>115e9fb977c6d11a2...</td><td>Quality Assurance...</td><td>10</td><td>RENT</td><td>52000.0</td><td>NJ</td><td>078xx</td><td>USA</td><td>C</td><td>C2</td><td>Source Verified</td><td>20520.0</td><td>Individual</td><td>null</td><td>null</td><td>2024-12-15 05:56:...</td></tr>\n",
       "<tr><td>69cd55cb99c01a403...</td><td>Aircraft Support ...</td><td>3</td><td>MORTGAGE</td><td>49000.0</td><td>GA</td><td>302xx</td><td>USA</td><td>E</td><td>E5</td><td>Not Verified</td><td>171339.0</td><td>Joint App</td><td>61000.0</td><td>Not Verified</td><td>2024-12-15 05:56:...</td></tr>\n",
       "</table>\n",
       "only showing top 20 rows\n"
      ],
      "text/plain": [
       "+--------------------+--------------------+----------+--------------+-------------+-------------+---------------+---------------+-----+---------+-------------------+-----------------------+----------------+------------------+-------------------------+--------------------+\n",
       "|           member_id|           emp_title|emp_length|home_ownership|annual_income|address_state|address_zipcode|address_country|grade|sub_grade|verification_status|total_high_credit_limit|application_type|join_annual_income|verification_status_joint|         ingest_date|\n",
       "+--------------------+--------------------+----------+--------------+-------------+-------------+---------------+---------------+-----+---------+-------------------+-----------------------+----------------+------------------+-------------------------+--------------------+\n",
       "|7ddf54e73128f730f...|Field Service  En...|        10|      MORTGAGE|     120000.0|           RI|          028xx|            USA|    A|       A2|       Not Verified|               283205.0|      Individual|              null|                     null|2024-12-15 05:56:...|\n",
       "|8e7dac16e7e038529...| Furniture Associate|         2|          RENT|      27000.0|           WA|          983xx|            USA|    C|       C5|           Verified|                18225.0|      Individual|              null|                     null|2024-12-15 05:56:...|\n",
       "|beee87b21af463728...|      Auto Assembler|         3|          RENT|      56000.0|           MO|          633xx|            USA|    C|       C1|    Source Verified|                71402.0|      Individual|              null|                     null|2024-12-15 05:56:...|\n",
       "|53e8d7b4fc323c221...|Nurse - Registere...|         3|      MORTGAGE|      93000.0|           TX|          775xx|            USA|    B|       B1|           Verified|               422971.0|      Individual|              null|                     null|2024-12-15 05:56:...|\n",
       "|c1792a98920d404b8...|            Plumnber|         1|           OWN|      63000.0|           CO|          806xx|            USA|    E|       E4|    Source Verified|               348901.0|      Individual|              null|                     null|2024-12-15 05:56:...|\n",
       "|026f5c700d37240ea...|Resource Center S...|        10|      MORTGAGE|      64500.0|           NC|          282xx|            USA|    B|       B2|    Source Verified|               221098.0|      Individual|              null|                     null|2024-12-15 05:56:...|\n",
       "|fca36433c53ac67a5...|Transportation Co...|        10|      MORTGAGE|      82200.0|           CO|          811xx|            USA|    C|       C5|    Source Verified|               356384.0|      Individual|              null|                     null|2024-12-15 05:56:...|\n",
       "|ee5a7029387771a63...|      Event Producer|         4|          RENT|      50000.0|           CA|          902xx|            USA|    C|       C1|    Source Verified|                11277.0|      Individual|              null|                     null|2024-12-15 05:56:...|\n",
       "|985a0d02b893a07b0...|     HOME HEALTH AID|         3|          RENT|      36400.0|           NY|          105xx|            USA|    B|       B5|    Source Verified|                22100.0|      Individual|              null|                     null|2024-12-15 05:56:...|\n",
       "|c52a9e66960eff99a...|              Driver|        10|           OWN|      89000.0|           NY|          112xx|            USA|    D|       D2|    Source Verified|                97398.0|      Individual|              null|                     null|2024-12-15 05:56:...|\n",
       "|05357ffa486c620e2...|                  GM|        10|          RENT|     120000.0|           FL|          329xx|            USA|    C|       C1|           Verified|                10600.0|      Individual|              null|                     null|2024-12-15 05:56:...|\n",
       "|abdd7747b7e22d196...|      Letter Carrier|        10|           OWN|      70000.0|           PA|          190xx|            USA|    B|       B3|           Verified|                79656.0|      Individual|              null|                     null|2024-12-15 05:56:...|\n",
       "|f2694b8b79ec1c7c1...|   Journyman Wireman|         7|      MORTGAGE|     120000.0|           UT|          841xx|            USA|    C|       C1|       Not Verified|               344407.0|      Individual|              null|                     null|2024-12-15 05:56:...|\n",
       "|f13bc353da5b04508...|Customer Service ...|         3|          RENT|      28000.0|           NM|          881xx|            USA|    D|       D3|           Verified|                16270.0|      Individual|              null|                     null|2024-12-15 05:56:...|\n",
       "|8296aa21ee182b24e...|             Teacher|        10|      MORTGAGE|      53000.0|           MI|          492xx|            USA|    B|       B2|       Not Verified|               145123.0|      Individual|              null|                     null|2024-12-15 05:56:...|\n",
       "|a1e849e4b39b2bb2a...|  DMV representative|         2|           OWN|      30000.0|           NY|          147xx|            USA|    B|       B1|       Not Verified|                15600.0|      Individual|              null|                     null|2024-12-15 05:56:...|\n",
       "|a3813523e8933e167...|             Manager|         1|           OWN|      52000.0|           VA|          201xx|            USA|    C|       C1|           Verified|               411265.0|      Individual|              null|                     null|2024-12-15 05:56:...|\n",
       "|7fe2e5920aff1d47e...| Business Management|        10|          RENT|      80000.0|           CA|          949xx|            USA|    C|       C4|    Source Verified|                66709.0|      Individual|              null|                     null|2024-12-15 05:56:...|\n",
       "|290ff4a2924bc1a15...|Operating Room Re...|         1|          RENT|      54000.0|           IN|          463xx|            USA|    C|       C3|           Verified|               155241.0|       Joint App|          114000.0|                 Verified|2024-12-15 05:56:...|\n",
       "|d7e79781968ea51cb...|      Branch Manager|         8|      MORTGAGE|     124000.0|           CA|          907xx|            USA|    C|       C2|    Source Verified|               379950.0|      Individual|              null|                     null|2024-12-15 05:56:...|\n",
       "+--------------------+--------------------+----------+--------------+-------------+-------------+---------------+---------------+-----+---------+-------------------+-----------------------+----------------+------------------+-------------------------+--------------------+\n",
       "only showing top 20 rows"
      ]
     },
     "execution_count": 48,
     "metadata": {},
     "output_type": "execute_result"
    }
   ],
   "source": [
    "customers_state_cleaned"
   ]
  },
  {
   "cell_type": "code",
   "execution_count": 49,
   "id": "25a4d4df",
   "metadata": {},
   "outputs": [
    {
     "data": {
      "text/html": [
       "<table border='1'>\n",
       "<tr><th>address_state</th></tr>\n",
       "<tr><td>AZ</td></tr>\n",
       "<tr><td>SC</td></tr>\n",
       "<tr><td>LA</td></tr>\n",
       "<tr><td>MN</td></tr>\n",
       "<tr><td>NJ</td></tr>\n",
       "<tr><td>DC</td></tr>\n",
       "<tr><td>OR</td></tr>\n",
       "<tr><td>NA</td></tr>\n",
       "<tr><td>VA</td></tr>\n",
       "<tr><td>null</td></tr>\n",
       "<tr><td>RI</td></tr>\n",
       "<tr><td>KY</td></tr>\n",
       "<tr><td>WY</td></tr>\n",
       "<tr><td>NH</td></tr>\n",
       "<tr><td>MI</td></tr>\n",
       "<tr><td>NV</td></tr>\n",
       "<tr><td>WI</td></tr>\n",
       "<tr><td>ID</td></tr>\n",
       "<tr><td>CA</td></tr>\n",
       "<tr><td>NE</td></tr>\n",
       "</table>\n",
       "only showing top 20 rows\n"
      ],
      "text/plain": [
       "+-------------+\n",
       "|address_state|\n",
       "+-------------+\n",
       "|           AZ|\n",
       "|           SC|\n",
       "|           LA|\n",
       "|           MN|\n",
       "|           NJ|\n",
       "|           DC|\n",
       "|           OR|\n",
       "|           NA|\n",
       "|           VA|\n",
       "|         null|\n",
       "|           RI|\n",
       "|           KY|\n",
       "|           WY|\n",
       "|           NH|\n",
       "|           MI|\n",
       "|           NV|\n",
       "|           WI|\n",
       "|           ID|\n",
       "|           CA|\n",
       "|           CT|\n",
       "+-------------+\n",
       "only showing top 20 rows"
      ]
     },
     "execution_count": 49,
     "metadata": {},
     "output_type": "execute_result"
    }
   ],
   "source": [
    "customers_state_cleaned.select(\"address_state\").distinct()"
   ]
  },
  {
   "cell_type": "code",
   "execution_count": 50,
   "id": "0f65cdfb",
   "metadata": {},
   "outputs": [],
   "source": [
    "customers_state_cleaned.write \\\n",
    ".format(\"parquet\") \\\n",
    ".mode(\"overwrite\") \\\n",
    ".option(\"path\", \"/user/itv012740/lendingclubproject/raw/cleaned/customers_parquet\") \\\n",
    ".save()"
   ]
  },
  {
   "cell_type": "code",
   "execution_count": 51,
   "id": "788199c9",
   "metadata": {},
   "outputs": [],
   "source": [
    "customers_state_cleaned.write \\\n",
    ".option(\"header\", True) \\\n",
    ".format(\"csv\") \\\n",
    ".mode(\"overwrite\") \\\n",
    ".option(\"path\", \"/user/itv012740/lendingclubproject/raw/cleaned/customers_csv\") \\\n",
    ".save()"
   ]
  },
  {
   "cell_type": "code",
   "execution_count": null,
   "id": "3ae7fbf0",
   "metadata": {},
   "outputs": [],
   "source": []
  }
 ],
 "metadata": {
  "kernelspec": {
   "display_name": "Pyspark 3",
   "language": "python",
   "name": "pyspark3"
  },
  "language_info": {
   "codemirror_mode": {
    "name": "ipython",
    "version": 3
   },
   "file_extension": ".py",
   "mimetype": "text/x-python",
   "name": "python",
   "nbconvert_exporter": "python",
   "pygments_lexer": "ipython3",
   "version": "3.6.12"
  }
 },
 "nbformat": 4,
 "nbformat_minor": 5
}
