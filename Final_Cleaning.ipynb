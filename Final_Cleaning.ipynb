{
 "cells": [
  {
   "cell_type": "code",
   "execution_count": 1,
   "id": "4c20da77",
   "metadata": {},
   "outputs": [],
   "source": [
    "from pyspark.sql import SparkSession\n",
    "import getpass \n",
    "username=getpass.getuser()\n",
    "spark=SparkSession. \\\n",
    "    builder. \\\n",
    "    config('spark.ui.port','0'). \\\n",
    "    config(\"spark.sql.warehouse.dir\", f\"/user/itv012740/warehouse\"). \\\n",
    "    config('spark.shuffle.useOldFetchProtocol', 'true'). \\\n",
    "    enableHiveSupport(). \\\n",
    "    master('yarn'). \\\n",
    "    getOrCreate()"
   ]
  },
  {
   "cell_type": "code",
   "execution_count": 2,
   "id": "98501264",
   "metadata": {},
   "outputs": [
    {
     "data": {
      "text/html": [
       "<table border='1'>\n",
       "<tr><th>member_id</th><th>total</th></tr>\n",
       "<tr><td>e4c167053d5418230...</td><td>5</td></tr>\n",
       "<tr><td>ad8e5d384dae17e06...</td><td>4</td></tr>\n",
       "<tr><td>3f87585a20f702838...</td><td>4</td></tr>\n",
       "<tr><td>76b577467eda5bdbc...</td><td>4</td></tr>\n",
       "<tr><td>a2356725aa9da92c6...</td><td>3</td></tr>\n",
       "<tr><td>c92062bb371842b3d...</td><td>3</td></tr>\n",
       "<tr><td>035bf3d8288d803bd...</td><td>3</td></tr>\n",
       "<tr><td>22593a1870543b2db...</td><td>3</td></tr>\n",
       "<tr><td>819453be77718d747...</td><td>3</td></tr>\n",
       "<tr><td>c563428cb58da48ff...</td><td>3</td></tr>\n",
       "<tr><td>d3731bad3e6a82515...</td><td>3</td></tr>\n",
       "<tr><td>066ddaa64bee66dff...</td><td>3</td></tr>\n",
       "<tr><td>291ca1b09ef11ca3e...</td><td>3</td></tr>\n",
       "<tr><td>e7d8d16928817ec8f...</td><td>3</td></tr>\n",
       "<tr><td>498bb6b1f0099cb47...</td><td>3</td></tr>\n",
       "<tr><td>53789bea7edc660ed...</td><td>3</td></tr>\n",
       "<tr><td>059d401bb603d9a80...</td><td>3</td></tr>\n",
       "<tr><td>4ab6205de571ccb7b...</td><td>3</td></tr>\n",
       "<tr><td>5d52e7773cb0efff3...</td><td>3</td></tr>\n",
       "<tr><td>f54295a60946dedad...</td><td>3</td></tr>\n",
       "</table>\n",
       "only showing top 20 rows\n"
      ],
      "text/plain": [
       "+--------------------+-----+\n",
       "|           member_id|total|\n",
       "+--------------------+-----+\n",
       "|e4c167053d5418230...|    5|\n",
       "|76b577467eda5bdbc...|    4|\n",
       "|3f87585a20f702838...|    4|\n",
       "|ad8e5d384dae17e06...|    4|\n",
       "|e7d8d16928817ec8f...|    3|\n",
       "|3ae415acd6bbfaac1...|    3|\n",
       "|d93573e2883e37904...|    3|\n",
       "|059d401bb603d9a80...|    3|\n",
       "|a2356725aa9da92c6...|    3|\n",
       "|d3731bad3e6a82515...|    3|\n",
       "|f9fc581aae696e0bd...|    3|\n",
       "|066ddaa64bee66dff...|    3|\n",
       "|c92062bb371842b3d...|    3|\n",
       "|819453be77718d747...|    3|\n",
       "|498bb6b1f0099cb47...|    3|\n",
       "|4ab6205de571ccb7b...|    3|\n",
       "|c563428cb58da48ff...|    3|\n",
       "|d9ce4046daf599732...|    3|\n",
       "|bf3d06b33c49a9375...|    3|\n",
       "|f54295a60946dedad...|    3|\n",
       "+--------------------+-----+\n",
       "only showing top 20 rows"
      ]
     },
     "execution_count": 2,
     "metadata": {},
     "output_type": "execute_result"
    }
   ],
   "source": [
    "spark.sql(\"\"\"select member_id, count(*) as total \n",
    "from itv012740_lending_club_project_db.customers\n",
    "group by member_id order by total desc\n",
    "\"\"\")"
   ]
  },
  {
   "cell_type": "code",
   "execution_count": 3,
   "id": "a22f3700",
   "metadata": {},
   "outputs": [
    {
     "data": {
      "text/html": [
       "<table border='1'>\n",
       "<tr><th>member_id</th><th>emp_title</th><th>emp_length</th><th>home_ownership</th><th>annual_income</th><th>address_state</th><th>address_zipcode</th><th>address_country</th><th>grade</th><th>sub_grade</th><th>verification_status</th><th>total_high_credit_limit</th><th>application_type</th><th>join_annual_income</th><th>verification_status_joint</th><th>ingest_date</th></tr>\n",
       "<tr><td>e4c167053d5418230...</td><td>null</td><td>6</td><td>MORTGAGE</td><td>55000.0</td><td>IL</td><td>604xx</td><td>USA</td><td>B</td><td>B5</td><td>Verified</td><td>110907.0</td><td>Individual</td><td>null</td><td>null</td><td>2024-12-15 05:57:...</td></tr>\n",
       "<tr><td>e4c167053d5418230...</td><td>null</td><td>6</td><td>MORTGAGE</td><td>55000.0</td><td>IL</td><td>604xx</td><td>USA</td><td>B</td><td>B5</td><td>Verified</td><td>207300.0</td><td>Individual</td><td>null</td><td>null</td><td>2024-12-15 05:57:...</td></tr>\n",
       "<tr><td>e4c167053d5418230...</td><td>null</td><td>6</td><td>MORTGAGE</td><td>55000.0</td><td>IL</td><td>604xx</td><td>USA</td><td>B</td><td>B5</td><td>Verified</td><td>129833.0</td><td>Individual</td><td>null</td><td>null</td><td>2024-12-15 05:57:...</td></tr>\n",
       "<tr><td>e4c167053d5418230...</td><td>null</td><td>6</td><td>MORTGAGE</td><td>55000.0</td><td>IL</td><td>604xx</td><td>USA</td><td>B</td><td>B5</td><td>Verified</td><td>138780.0</td><td>Individual</td><td>null</td><td>null</td><td>2024-12-15 05:57:...</td></tr>\n",
       "<tr><td>e4c167053d5418230...</td><td>null</td><td>6</td><td>MORTGAGE</td><td>55000.0</td><td>IL</td><td>604xx</td><td>USA</td><td>B</td><td>B5</td><td>Verified</td><td>171165.0</td><td>Individual</td><td>null</td><td>null</td><td>2024-12-15 05:57:...</td></tr>\n",
       "</table>\n"
      ],
      "text/plain": [
       "+--------------------+---------+----------+--------------+-------------+-------------+---------------+---------------+-----+---------+-------------------+-----------------------+----------------+------------------+-------------------------+--------------------+\n",
       "|           member_id|emp_title|emp_length|home_ownership|annual_income|address_state|address_zipcode|address_country|grade|sub_grade|verification_status|total_high_credit_limit|application_type|join_annual_income|verification_status_joint|         ingest_date|\n",
       "+--------------------+---------+----------+--------------+-------------+-------------+---------------+---------------+-----+---------+-------------------+-----------------------+----------------+------------------+-------------------------+--------------------+\n",
       "|e4c167053d5418230...|     null|         6|      MORTGAGE|      55000.0|           IL|          604xx|            USA|    B|       B5|           Verified|               110907.0|      Individual|              null|                     null|2024-12-15 05:57:...|\n",
       "|e4c167053d5418230...|     null|         6|      MORTGAGE|      55000.0|           IL|          604xx|            USA|    B|       B5|           Verified|               207300.0|      Individual|              null|                     null|2024-12-15 05:57:...|\n",
       "|e4c167053d5418230...|     null|         6|      MORTGAGE|      55000.0|           IL|          604xx|            USA|    B|       B5|           Verified|               129833.0|      Individual|              null|                     null|2024-12-15 05:57:...|\n",
       "|e4c167053d5418230...|     null|         6|      MORTGAGE|      55000.0|           IL|          604xx|            USA|    B|       B5|           Verified|               138780.0|      Individual|              null|                     null|2024-12-15 05:57:...|\n",
       "|e4c167053d5418230...|     null|         6|      MORTGAGE|      55000.0|           IL|          604xx|            USA|    B|       B5|           Verified|               171165.0|      Individual|              null|                     null|2024-12-15 05:57:...|\n",
       "+--------------------+---------+----------+--------------+-------------+-------------+---------------+---------------+-----+---------+-------------------+-----------------------+----------------+------------------+-------------------------+--------------------+"
      ]
     },
     "execution_count": 3,
     "metadata": {},
     "output_type": "execute_result"
    }
   ],
   "source": [
    "spark.sql(\"\"\"select * from itv012740_lending_club_project_db.customers \n",
    "where member_id like 'e4c167053d5418230%'\"\"\")"
   ]
  },
  {
   "cell_type": "code",
   "execution_count": 4,
   "id": "32a75e14",
   "metadata": {},
   "outputs": [
    {
     "data": {
      "text/html": [
       "<table border='1'>\n",
       "<tr><th>member_id</th><th>total</th></tr>\n",
       "<tr><td>1f392553105eebc55...</td><td>3</td></tr>\n",
       "<tr><td>6f88761291d14b65e...</td><td>3</td></tr>\n",
       "<tr><td>9240fa4e744ff0846...</td><td>3</td></tr>\n",
       "<tr><td>ee2d0dd6ad9e048b8...</td><td>3</td></tr>\n",
       "<tr><td>793b618a7de10f813...</td><td>3</td></tr>\n",
       "<tr><td>bca141343d9405a9a...</td><td>3</td></tr>\n",
       "<tr><td>41d36a5e709d6218a...</td><td>3</td></tr>\n",
       "<tr><td>b67f4aa39e82954f2...</td><td>3</td></tr>\n",
       "<tr><td>e4c167053d5418230...</td><td>3</td></tr>\n",
       "<tr><td>b5ded5638e54e1692...</td><td>2</td></tr>\n",
       "<tr><td>b0b069b23773292a8...</td><td>2</td></tr>\n",
       "<tr><td>c4b67ae8b6418c6d7...</td><td>2</td></tr>\n",
       "<tr><td>a93a44c9d83793451...</td><td>2</td></tr>\n",
       "<tr><td>a199c36d938001697...</td><td>2</td></tr>\n",
       "<tr><td>c6a1170dc62de5363...</td><td>2</td></tr>\n",
       "<tr><td>d4782ddad8591f44d...</td><td>2</td></tr>\n",
       "<tr><td>983690808b2ed9a75...</td><td>2</td></tr>\n",
       "<tr><td>f99c6e9cfe3a7a2d2...</td><td>2</td></tr>\n",
       "<tr><td>675151e58a628e87b...</td><td>2</td></tr>\n",
       "<tr><td>a53e2f488d2d76a30...</td><td>2</td></tr>\n",
       "</table>\n",
       "only showing top 20 rows\n"
      ],
      "text/plain": [
       "+--------------------+-----+\n",
       "|           member_id|total|\n",
       "+--------------------+-----+\n",
       "|1f392553105eebc55...|    3|\n",
       "|6f88761291d14b65e...|    3|\n",
       "|41d36a5e709d6218a...|    3|\n",
       "|ee2d0dd6ad9e048b8...|    3|\n",
       "|793b618a7de10f813...|    3|\n",
       "|bca141343d9405a9a...|    3|\n",
       "|9240fa4e744ff0846...|    3|\n",
       "|b67f4aa39e82954f2...|    3|\n",
       "|e4c167053d5418230...|    3|\n",
       "|c4b67ae8b6418c6d7...|    2|\n",
       "|b202a835195e60c94...|    2|\n",
       "|cd1fdca829c443fa7...|    2|\n",
       "|5a2d61d7acc683a00...|    2|\n",
       "|b0b069b23773292a8...|    2|\n",
       "|f6776ae4f355c1aa8...|    2|\n",
       "|827a048c072fb44b0...|    2|\n",
       "|c6a1170dc62de5363...|    2|\n",
       "|4273588c35c7b7f40...|    2|\n",
       "|1396169b283852f1f...|    2|\n",
       "|b5ded5638e54e1692...|    2|\n",
       "+--------------------+-----+\n",
       "only showing top 20 rows"
      ]
     },
     "execution_count": 4,
     "metadata": {},
     "output_type": "execute_result"
    }
   ],
   "source": [
    "spark.sql(\"\"\"select member_id, count(*) as total \n",
    "from itv012740_lending_club_project_db.loans_defaulters_delinq\n",
    "group by member_id order by total desc\n",
    "\"\"\")"
   ]
  },
  {
   "cell_type": "code",
   "execution_count": 5,
   "id": "e2a15b65",
   "metadata": {},
   "outputs": [
    {
     "data": {
      "text/html": [
       "<table border='1'>\n",
       "<tr><th>member_id</th><th>delinq_2yrs</th><th>delinq_amnt</th><th>mths_since_last_delinq</th></tr>\n",
       "<tr><td>e4c167053d5418230...</td><td>1</td><td>0.0</td><td>37</td></tr>\n",
       "<tr><td>e4c167053d5418230...</td><td>3</td><td>0.0</td><td>13</td></tr>\n",
       "<tr><td>e4c167053d5418230...</td><td>1</td><td>0.0</td><td>16</td></tr>\n",
       "</table>\n"
      ],
      "text/plain": [
       "+--------------------+-----------+-----------+----------------------+\n",
       "|           member_id|delinq_2yrs|delinq_amnt|mths_since_last_delinq|\n",
       "+--------------------+-----------+-----------+----------------------+\n",
       "|e4c167053d5418230...|          1|        0.0|                    37|\n",
       "|e4c167053d5418230...|          3|        0.0|                    13|\n",
       "|e4c167053d5418230...|          1|        0.0|                    16|\n",
       "+--------------------+-----------+-----------+----------------------+"
      ]
     },
     "execution_count": 5,
     "metadata": {},
     "output_type": "execute_result"
    }
   ],
   "source": [
    "spark.sql(\"\"\"select * from itv012740_lending_club_project_db.loans_defaulters_delinq\n",
    "where member_id like 'e4c167053d5418230%'\"\"\")"
   ]
  },
  {
   "cell_type": "code",
   "execution_count": 6,
   "id": "f1d57343",
   "metadata": {},
   "outputs": [
    {
     "data": {
      "text/html": [
       "<table border='1'>\n",
       "<tr><th>member_id</th><th>total</th></tr>\n",
       "<tr><td>e3b0c44298fc1c149...</td><td>33</td></tr>\n",
       "<tr><td>e4c167053d5418230...</td><td>5</td></tr>\n",
       "<tr><td>3f87585a20f702838...</td><td>4</td></tr>\n",
       "<tr><td>76b577467eda5bdbc...</td><td>4</td></tr>\n",
       "<tr><td>ad8e5d384dae17e06...</td><td>4</td></tr>\n",
       "<tr><td>f54295a60946dedad...</td><td>3</td></tr>\n",
       "<tr><td>3ae415acd6bbfaac1...</td><td>3</td></tr>\n",
       "<tr><td>4ab6205de571ccb7b...</td><td>3</td></tr>\n",
       "<tr><td>22593a1870543b2db...</td><td>3</td></tr>\n",
       "<tr><td>498bb6b1f0099cb47...</td><td>3</td></tr>\n",
       "<tr><td>d3731bad3e6a82515...</td><td>3</td></tr>\n",
       "<tr><td>5d52e7773cb0efff3...</td><td>3</td></tr>\n",
       "<tr><td>066ddaa64bee66dff...</td><td>3</td></tr>\n",
       "<tr><td>059d401bb603d9a80...</td><td>3</td></tr>\n",
       "<tr><td>e7d8d16928817ec8f...</td><td>3</td></tr>\n",
       "<tr><td>291ca1b09ef11ca3e...</td><td>3</td></tr>\n",
       "<tr><td>53789bea7edc660ed...</td><td>3</td></tr>\n",
       "<tr><td>819453be77718d747...</td><td>3</td></tr>\n",
       "<tr><td>035bf3d8288d803bd...</td><td>3</td></tr>\n",
       "<tr><td>d9ce4046daf599732...</td><td>3</td></tr>\n",
       "</table>\n",
       "only showing top 20 rows\n"
      ],
      "text/plain": [
       "+--------------------+-----+\n",
       "|           member_id|total|\n",
       "+--------------------+-----+\n",
       "|e3b0c44298fc1c149...|   33|\n",
       "|e4c167053d5418230...|    5|\n",
       "|3f87585a20f702838...|    4|\n",
       "|ad8e5d384dae17e06...|    4|\n",
       "|76b577467eda5bdbc...|    4|\n",
       "|c92062bb371842b3d...|    3|\n",
       "|22593a1870543b2db...|    3|\n",
       "|d93573e2883e37904...|    3|\n",
       "|066ddaa64bee66dff...|    3|\n",
       "|291ca1b09ef11ca3e...|    3|\n",
       "|5d52e7773cb0efff3...|    3|\n",
       "|c563428cb58da48ff...|    3|\n",
       "|3ae415acd6bbfaac1...|    3|\n",
       "|e7d8d16928817ec8f...|    3|\n",
       "|498bb6b1f0099cb47...|    3|\n",
       "|a2356725aa9da92c6...|    3|\n",
       "|4ab6205de571ccb7b...|    3|\n",
       "|d3731bad3e6a82515...|    3|\n",
       "|53789bea7edc660ed...|    3|\n",
       "|059d401bb603d9a80...|    3|\n",
       "+--------------------+-----+\n",
       "only showing top 20 rows"
      ]
     },
     "execution_count": 6,
     "metadata": {},
     "output_type": "execute_result"
    }
   ],
   "source": [
    "spark.sql(\"\"\"select member_id, count(*) as total \n",
    "from itv012740_lending_club_project_db.loans_defaulters_detail_rec_enq\n",
    "group by member_id order by total desc\n",
    "\"\"\")"
   ]
  },
  {
   "cell_type": "code",
   "execution_count": 7,
   "id": "faddd68f",
   "metadata": {},
   "outputs": [
    {
     "data": {
      "text/html": [
       "<table border='1'>\n",
       "<tr><th>member_id</th><th>pub_rec</th><th>pub_rec_bankruptcies</th><th>inq_last_6mths</th></tr>\n",
       "<tr><td>e4c167053d5418230...</td><td>0</td><td>0</td><td>1</td></tr>\n",
       "<tr><td>e4c167053d5418230...</td><td>0</td><td>0</td><td>0</td></tr>\n",
       "<tr><td>e4c167053d5418230...</td><td>0</td><td>0</td><td>0</td></tr>\n",
       "<tr><td>e4c167053d5418230...</td><td>0</td><td>0</td><td>3</td></tr>\n",
       "<tr><td>e4c167053d5418230...</td><td>0</td><td>0</td><td>2</td></tr>\n",
       "</table>\n"
      ],
      "text/plain": [
       "+--------------------+-------+--------------------+--------------+\n",
       "|           member_id|pub_rec|pub_rec_bankruptcies|inq_last_6mths|\n",
       "+--------------------+-------+--------------------+--------------+\n",
       "|e4c167053d5418230...|      0|                   0|             1|\n",
       "|e4c167053d5418230...|      0|                   0|             0|\n",
       "|e4c167053d5418230...|      0|                   0|             0|\n",
       "|e4c167053d5418230...|      0|                   0|             3|\n",
       "|e4c167053d5418230...|      0|                   0|             2|\n",
       "+--------------------+-------+--------------------+--------------+"
      ]
     },
     "execution_count": 7,
     "metadata": {},
     "output_type": "execute_result"
    }
   ],
   "source": [
    "spark.sql(\"\"\"select * from itv012740_lending_club_project_db.loans_defaulters_detail_rec_enq\n",
    "where member_id like 'e4c167053d5418230%'\"\"\")"
   ]
  },
  {
   "cell_type": "code",
   "execution_count": 8,
   "id": "9c1859e3",
   "metadata": {},
   "outputs": [],
   "source": [
    "bad_data_customer_df = spark.sql(\"\"\"select member_id from(select member_id, count(*)\n",
    "as total from itv012740_lending_club_project_db.customers\n",
    "group by member_id having total > 1)\"\"\")"
   ]
  },
  {
   "cell_type": "code",
   "execution_count": 9,
   "id": "56a6daef",
   "metadata": {},
   "outputs": [
    {
     "data": {
      "text/plain": [
       "3157"
      ]
     },
     "execution_count": 9,
     "metadata": {},
     "output_type": "execute_result"
    }
   ],
   "source": [
    "bad_data_customer_df.count()"
   ]
  },
  {
   "cell_type": "code",
   "execution_count": 10,
   "id": "28ee88a8",
   "metadata": {},
   "outputs": [
    {
     "data": {
      "text/html": [
       "<table border='1'>\n",
       "<tr><th>member_id</th></tr>\n",
       "<tr><td>7115ace193e13d8f3...</td></tr>\n",
       "<tr><td>675151e58a628e87b...</td></tr>\n",
       "<tr><td>2bae2e4dd6d5f2b21...</td></tr>\n",
       "<tr><td>f99c6e9cfe3a7a2d2...</td></tr>\n",
       "<tr><td>cd1fdca829c443fa7...</td></tr>\n",
       "<tr><td>3b8ffe19f24749a73...</td></tr>\n",
       "<tr><td>eebbd89aa7efc13e7...</td></tr>\n",
       "<tr><td>4231a55d0199c619a...</td></tr>\n",
       "<tr><td>cbede54df344cdb94...</td></tr>\n",
       "<tr><td>5130d0087970e032e...</td></tr>\n",
       "<tr><td>fc0e468bff11ac7c3...</td></tr>\n",
       "<tr><td>f284044b881f218c0...</td></tr>\n",
       "<tr><td>761b2f1e61999e14e...</td></tr>\n",
       "<tr><td>01b2223757c3b62e7...</td></tr>\n",
       "<tr><td>a53e2f488d2d76a30...</td></tr>\n",
       "<tr><td>a2af7506825a7dcff...</td></tr>\n",
       "<tr><td>61be6498c93cadf89...</td></tr>\n",
       "<tr><td>d4782ddad8591f44d...</td></tr>\n",
       "<tr><td>e6404d176e3850fdb...</td></tr>\n",
       "<tr><td>d34249ef84980fb46...</td></tr>\n",
       "</table>\n",
       "only showing top 20 rows\n"
      ],
      "text/plain": [
       "+--------------------+\n",
       "|           member_id|\n",
       "+--------------------+\n",
       "|5130d0087970e032e...|\n",
       "|a2af7506825a7dcff...|\n",
       "|fc0e468bff11ac7c3...|\n",
       "|675151e58a628e87b...|\n",
       "|2bae2e4dd6d5f2b21...|\n",
       "|7115ace193e13d8f3...|\n",
       "|f99c6e9cfe3a7a2d2...|\n",
       "|eebbd89aa7efc13e7...|\n",
       "|f284044b881f218c0...|\n",
       "|cbede54df344cdb94...|\n",
       "|01b2223757c3b62e7...|\n",
       "|61be6498c93cadf89...|\n",
       "|d4782ddad8591f44d...|\n",
       "|cd1fdca829c443fa7...|\n",
       "|761b2f1e61999e14e...|\n",
       "|a53e2f488d2d76a30...|\n",
       "|3b8ffe19f24749a73...|\n",
       "|4231a55d0199c619a...|\n",
       "|6eed1238f9ea0f057...|\n",
       "|e884f4108b3c6b1f4...|\n",
       "+--------------------+\n",
       "only showing top 20 rows"
      ]
     },
     "execution_count": 10,
     "metadata": {},
     "output_type": "execute_result"
    }
   ],
   "source": [
    "bad_data_customer_df"
   ]
  },
  {
   "cell_type": "code",
   "execution_count": 11,
   "id": "4785b304",
   "metadata": {},
   "outputs": [],
   "source": [
    "bad_data_loans_defaulters_delinq_df = spark.sql(\"\"\"select member_id from(select member_id, count(*)\n",
    "as total from itv012740_lending_club_project_db.loans_defaulters_delinq\n",
    "group by member_id having total > 1)\"\"\")"
   ]
  },
  {
   "cell_type": "code",
   "execution_count": 12,
   "id": "82ad1980",
   "metadata": {},
   "outputs": [
    {
     "data": {
      "text/plain": [
       "939"
      ]
     },
     "execution_count": 12,
     "metadata": {},
     "output_type": "execute_result"
    }
   ],
   "source": [
    "bad_data_loans_defaulters_delinq_df.count()"
   ]
  },
  {
   "cell_type": "code",
   "execution_count": 13,
   "id": "df1345a3",
   "metadata": {},
   "outputs": [
    {
     "data": {
      "text/html": [
       "<table border='1'>\n",
       "<tr><th>member_id</th></tr>\n",
       "<tr><td>f99c6e9cfe3a7a2d2...</td></tr>\n",
       "<tr><td>a53e2f488d2d76a30...</td></tr>\n",
       "<tr><td>d4782ddad8591f44d...</td></tr>\n",
       "<tr><td>7115ace193e13d8f3...</td></tr>\n",
       "<tr><td>cbede54df344cdb94...</td></tr>\n",
       "<tr><td>cd1fdca829c443fa7...</td></tr>\n",
       "<tr><td>675151e58a628e87b...</td></tr>\n",
       "<tr><td>d34249ef84980fb46...</td></tr>\n",
       "<tr><td>22593a1870543b2db...</td></tr>\n",
       "<tr><td>3b94fbab00b7a0ec4...</td></tr>\n",
       "<tr><td>0fa3654dfc604c1d4...</td></tr>\n",
       "<tr><td>759c2dc5f485e5465...</td></tr>\n",
       "<tr><td>8d2c605c7ad9209cc...</td></tr>\n",
       "<tr><td>48846377688c803fa...</td></tr>\n",
       "<tr><td>e884f4108b3c6b1f4...</td></tr>\n",
       "<tr><td>bbe43331566910d55...</td></tr>\n",
       "<tr><td>827a048c072fb44b0...</td></tr>\n",
       "<tr><td>4273588c35c7b7f40...</td></tr>\n",
       "<tr><td>e1f91eb87353347fd...</td></tr>\n",
       "<tr><td>2a9775bb297d8d183...</td></tr>\n",
       "</table>\n",
       "only showing top 20 rows\n"
      ],
      "text/plain": [
       "+--------------------+\n",
       "|           member_id|\n",
       "+--------------------+\n",
       "|cbede54df344cdb94...|\n",
       "|cd1fdca829c443fa7...|\n",
       "|675151e58a628e87b...|\n",
       "|7115ace193e13d8f3...|\n",
       "|d4782ddad8591f44d...|\n",
       "|f99c6e9cfe3a7a2d2...|\n",
       "|a53e2f488d2d76a30...|\n",
       "|759c2dc5f485e5465...|\n",
       "|0fa3654dfc604c1d4...|\n",
       "|8d2c605c7ad9209cc...|\n",
       "|48846377688c803fa...|\n",
       "|e884f4108b3c6b1f4...|\n",
       "|3b94fbab00b7a0ec4...|\n",
       "|d34249ef84980fb46...|\n",
       "|22593a1870543b2db...|\n",
       "|bbe43331566910d55...|\n",
       "|827a048c072fb44b0...|\n",
       "|4273588c35c7b7f40...|\n",
       "|e1f91eb87353347fd...|\n",
       "|666006371cc990ae7...|\n",
       "+--------------------+\n",
       "only showing top 20 rows"
      ]
     },
     "execution_count": 13,
     "metadata": {},
     "output_type": "execute_result"
    }
   ],
   "source": [
    "bad_data_loans_defaulters_delinq_df"
   ]
  },
  {
   "cell_type": "code",
   "execution_count": 14,
   "id": "1671c86f",
   "metadata": {},
   "outputs": [],
   "source": [
    "bad_data_loans_defaulters_detail_rec_enq_df = spark.sql(\"\"\"select member_id from(select member_id, count(*)\n",
    "as total from itv012740_lending_club_project_db.loans_defaulters_detail_rec_enq\n",
    "group by member_id having total > 1)\"\"\")"
   ]
  },
  {
   "cell_type": "code",
   "execution_count": 15,
   "id": "16a0ed45",
   "metadata": {},
   "outputs": [
    {
     "data": {
      "text/plain": [
       "3189"
      ]
     },
     "execution_count": 15,
     "metadata": {},
     "output_type": "execute_result"
    }
   ],
   "source": [
    "bad_data_loans_defaulters_detail_rec_enq_df.count()"
   ]
  },
  {
   "cell_type": "code",
   "execution_count": 16,
   "id": "b169dc3d",
   "metadata": {},
   "outputs": [
    {
     "data": {
      "text/html": [
       "<table border='1'>\n",
       "<tr><th>member_id</th></tr>\n",
       "<tr><td>f99c6e9cfe3a7a2d2...</td></tr>\n",
       "<tr><td>a53e2f488d2d76a30...</td></tr>\n",
       "<tr><td>a2af7506825a7dcff...</td></tr>\n",
       "<tr><td>d4782ddad8591f44d...</td></tr>\n",
       "<tr><td>5130d0087970e032e...</td></tr>\n",
       "<tr><td>3b8ffe19f24749a73...</td></tr>\n",
       "<tr><td>7115ace193e13d8f3...</td></tr>\n",
       "<tr><td>f284044b881f218c0...</td></tr>\n",
       "<tr><td>761b2f1e61999e14e...</td></tr>\n",
       "<tr><td>fc0e468bff11ac7c3...</td></tr>\n",
       "<tr><td>61be6498c93cadf89...</td></tr>\n",
       "<tr><td>eebbd89aa7efc13e7...</td></tr>\n",
       "<tr><td>01b2223757c3b62e7...</td></tr>\n",
       "<tr><td>cbede54df344cdb94...</td></tr>\n",
       "<tr><td>cd1fdca829c443fa7...</td></tr>\n",
       "<tr><td>4231a55d0199c619a...</td></tr>\n",
       "<tr><td>675151e58a628e87b...</td></tr>\n",
       "<tr><td>2bae2e4dd6d5f2b21...</td></tr>\n",
       "<tr><td>759c2dc5f485e5465...</td></tr>\n",
       "<tr><td>53789bea7edc660ed...</td></tr>\n",
       "</table>\n",
       "only showing top 20 rows\n"
      ],
      "text/plain": [
       "+--------------------+\n",
       "|           member_id|\n",
       "+--------------------+\n",
       "|cbede54df344cdb94...|\n",
       "|cd1fdca829c443fa7...|\n",
       "|4231a55d0199c619a...|\n",
       "|675151e58a628e87b...|\n",
       "|01b2223757c3b62e7...|\n",
       "|f284044b881f218c0...|\n",
       "|a2af7506825a7dcff...|\n",
       "|7115ace193e13d8f3...|\n",
       "|d4782ddad8591f44d...|\n",
       "|761b2f1e61999e14e...|\n",
       "|3b8ffe19f24749a73...|\n",
       "|2bae2e4dd6d5f2b21...|\n",
       "|f99c6e9cfe3a7a2d2...|\n",
       "|fc0e468bff11ac7c3...|\n",
       "|61be6498c93cadf89...|\n",
       "|a53e2f488d2d76a30...|\n",
       "|5130d0087970e032e...|\n",
       "|eebbd89aa7efc13e7...|\n",
       "|6eed1238f9ea0f057...|\n",
       "|d34249ef84980fb46...|\n",
       "+--------------------+\n",
       "only showing top 20 rows"
      ]
     },
     "execution_count": 16,
     "metadata": {},
     "output_type": "execute_result"
    }
   ],
   "source": [
    "bad_data_loans_defaulters_detail_rec_enq_df"
   ]
  },
  {
   "cell_type": "code",
   "execution_count": 17,
   "id": "b8d21df4",
   "metadata": {},
   "outputs": [],
   "source": [
    "bad_data_customer_df.repartition(1).write \\\n",
    ".format(\"csv\") \\\n",
    ".option(\"header\", True) \\\n",
    ".mode(\"overwrite\") \\\n",
    ".option(\"path\", \"/user/itv012740/lendingclubproject/bad/bad_data_customers\") \\\n",
    ".save()"
   ]
  },
  {
   "cell_type": "code",
   "execution_count": 18,
   "id": "1cf13fff",
   "metadata": {},
   "outputs": [],
   "source": [
    "bad_data_loans_defaulters_delinq_df.repartition(1).write \\\n",
    ".format(\"csv\") \\\n",
    ".option(\"header\", True) \\\n",
    ".mode(\"overwrite\") \\\n",
    ".option(\"path\", \"/user/itv012740/lendingclubproject/bad/bad_data_loans_defaulters_delinq\") \\\n",
    ".save()"
   ]
  },
  {
   "cell_type": "code",
   "execution_count": 19,
   "id": "0106defc",
   "metadata": {},
   "outputs": [],
   "source": [
    "bad_data_loans_defaulters_detail_rec_enq_df.repartition(1).write \\\n",
    ".format(\"csv\") \\\n",
    ".option(\"header\", True) \\\n",
    ".mode(\"overwrite\") \\\n",
    ".option(\"path\", \"/user/itv012740/lendingclubproject/bad/bad_data_loans_defaulters_detail_rec_enq\") \\\n",
    ".save()"
   ]
  },
  {
   "cell_type": "code",
   "execution_count": 20,
   "id": "ae9a088b",
   "metadata": {},
   "outputs": [],
   "source": [
    "bad_customer_data_df = bad_data_customer_df.select(\"member_id\") \\\n",
    ".union(bad_data_loans_defaulters_delinq_df.select(\"member_id\")) \\\n",
    ".union(bad_data_loans_defaulters_detail_rec_enq_df.select(\"member_id\"))"
   ]
  },
  {
   "cell_type": "code",
   "execution_count": 21,
   "id": "2b93242a",
   "metadata": {},
   "outputs": [],
   "source": [
    "bad_customer_data_final_df = bad_customer_data_df.distinct()"
   ]
  },
  {
   "cell_type": "code",
   "execution_count": 22,
   "id": "65c97a87",
   "metadata": {},
   "outputs": [
    {
     "data": {
      "text/plain": [
       "3189"
      ]
     },
     "execution_count": 22,
     "metadata": {},
     "output_type": "execute_result"
    }
   ],
   "source": [
    "bad_customer_data_final_df.count()"
   ]
  },
  {
   "cell_type": "code",
   "execution_count": 23,
   "id": "deec9e7f",
   "metadata": {},
   "outputs": [],
   "source": [
    "bad_customer_data_final_df.repartition(1).write \\\n",
    ".format(\"csv\") \\\n",
    ".option(\"header\", True) \\\n",
    ".mode(\"overwrite\") \\\n",
    ".option(\"path\", \"/user/itv012740/lendingclubproject/bad/bad_customer_data_final\") \\\n",
    ".save()"
   ]
  },
  {
   "cell_type": "code",
   "execution_count": 24,
   "id": "9e234121",
   "metadata": {},
   "outputs": [],
   "source": [
    "bad_customer_data_final_df.createOrReplaceTempView(\"bad_data_customer\")"
   ]
  },
  {
   "cell_type": "code",
   "execution_count": 25,
   "id": "ae329022",
   "metadata": {},
   "outputs": [],
   "source": [
    "customers_df = spark.sql(\"\"\"select * from itv012740_lending_club_project_db.customers\n",
    "where member_id NOT IN (select member_id from bad_data_customer)\n",
    "\"\"\")"
   ]
  },
  {
   "cell_type": "code",
   "execution_count": 26,
   "id": "a370a2fd",
   "metadata": {},
   "outputs": [],
   "source": [
    "customers_df.write \\\n",
    ".format(\"parquet\") \\\n",
    ".mode(\"overwrite\") \\\n",
    ".option(\"path\", \"/user/itv012740/lendingclubproject/raw/cleaned_new/customers_parquet\") \\\n",
    ".save()"
   ]
  },
  {
   "cell_type": "code",
   "execution_count": 27,
   "id": "bda3c9b4",
   "metadata": {},
   "outputs": [],
   "source": [
    "loans_defaulters_delinq_df = spark.sql(\"\"\"select * from itv012740_lending_club_project_db.loans_defaulters_delinq\n",
    "where member_id NOT IN (select member_id from bad_data_customer)\n",
    "\"\"\")"
   ]
  },
  {
   "cell_type": "code",
   "execution_count": 28,
   "id": "ef3750de",
   "metadata": {},
   "outputs": [],
   "source": [
    "loans_defaulters_delinq_df.write \\\n",
    ".format(\"parquet\") \\\n",
    ".mode(\"overwrite\") \\\n",
    ".option(\"path\", \"/user/itv012740/lendingclubproject/raw/cleaned_new/loans_defaulters_delinq_parquet\") \\\n",
    ".save()"
   ]
  },
  {
   "cell_type": "code",
   "execution_count": 29,
   "id": "27a4f98b",
   "metadata": {},
   "outputs": [],
   "source": [
    "loans_defaulters_detail_rec_enq_df = spark.sql(\"\"\"select * from itv012740_lending_club_project_db.loans_defaulters_detail_rec_enq\n",
    "where member_id NOT IN (select member_id from bad_data_customer)\n",
    "\"\"\")"
   ]
  },
  {
   "cell_type": "code",
   "execution_count": 30,
   "id": "165eaaed",
   "metadata": {},
   "outputs": [],
   "source": [
    "loans_defaulters_detail_rec_enq_df.write \\\n",
    ".format(\"parquet\") \\\n",
    ".mode(\"overwrite\") \\\n",
    ".option(\"path\", \"/user/itv012740/lendingclubproject/raw/cleaned_new/loans_defaulters_detail_rec_enq_parquet\") \\\n",
    ".save()"
   ]
  },
  {
   "cell_type": "code",
   "execution_count": 41,
   "id": "15890ea6",
   "metadata": {},
   "outputs": [
    {
     "data": {
      "text/html": [
       "<table border='1'>\n",
       "<tr><th></th></tr>\n",
       "</table>\n"
      ],
      "text/plain": [
       "++\n",
       "||\n",
       "++\n",
       "++"
      ]
     },
     "execution_count": 41,
     "metadata": {},
     "output_type": "execute_result"
    }
   ],
   "source": [
    "spark.sql(\"\"\"\n",
    "create EXTERNAL TABLE itv012740_lending_club_project_db.customers_new(member_id string, emp_title string, emp_length int, home_ownership string, \n",
    "annual_income float, address_state string, address_zipcode string, address_country string, grade string, \n",
    "sub_grade string, verification_status string, total_high_credit_limit float, application_type string, \n",
    "join_annual_income float, verification_status_joint string, ingest_date timestamp)\n",
    "stored as parquet\n",
    "LOCATION '/user/itv012740/lendingclubproject/raw/cleaned_new/customers_parquet'\n",
    "\n",
    "\"\"\")"
   ]
  },
  {
   "cell_type": "code",
   "execution_count": 44,
   "id": "8849a6f0",
   "metadata": {},
   "outputs": [
    {
     "data": {
      "text/html": [
       "<table border='1'>\n",
       "<tr><th></th></tr>\n",
       "</table>\n"
      ],
      "text/plain": [
       "++\n",
       "||\n",
       "++\n",
       "++"
      ]
     },
     "execution_count": 44,
     "metadata": {},
     "output_type": "execute_result"
    }
   ],
   "source": [
    "spark.sql(\"\"\"\n",
    "create EXTERNAL TABLE itv012740_lending_club_project_db.loans_defaulters_delinq_new(member_id string,delinq_2yrs integer, delinq_amnt float, mths_since_last_delinq integer)\n",
    "stored as parquet\n",
    "LOCATION '/user/itv012740/lendingclubproject/raw/cleaned_new/loans_defaulters_delinq_parquet'\n",
    "\"\"\")"
   ]
  },
  {
   "cell_type": "code",
   "execution_count": 47,
   "id": "1ee747eb",
   "metadata": {},
   "outputs": [
    {
     "data": {
      "text/html": [
       "<table border='1'>\n",
       "<tr><th></th></tr>\n",
       "</table>\n"
      ],
      "text/plain": [
       "++\n",
       "||\n",
       "++\n",
       "++"
      ]
     },
     "execution_count": 47,
     "metadata": {},
     "output_type": "execute_result"
    }
   ],
   "source": [
    "spark.sql(\"\"\"\n",
    "create EXTERNAL TABLE itv012740_lending_club_project_db.loans_defaulters_detail_rec_enq_new(member_id string, pub_rec integer, pub_rec_bankruptcies integer, inq_last_6mths integer)\n",
    "stored as parquet\n",
    "LOCATION '/user/itv012740/lendingclubproject/raw/cleaned_new/loans_defaulters_detail_rec_enq_parquet'\n",
    "\"\"\")"
   ]
  },
  {
   "cell_type": "code",
   "execution_count": 48,
   "id": "2a990ca5",
   "metadata": {},
   "outputs": [
    {
     "data": {
      "text/html": [
       "<table border='1'>\n",
       "<tr><th>member_id</th><th>total</th></tr>\n",
       "<tr><td>3df3cdeddb74a8712...</td><td>1</td></tr>\n",
       "<tr><td>0b6beb388edd047d8...</td><td>1</td></tr>\n",
       "<tr><td>c02f5f84058c5f952...</td><td>1</td></tr>\n",
       "<tr><td>0b9083d10c1a1db0b...</td><td>1</td></tr>\n",
       "<tr><td>57cf658ad87be221b...</td><td>1</td></tr>\n",
       "<tr><td>576209768213e3f3b...</td><td>1</td></tr>\n",
       "<tr><td>dfcbd6434a458f952...</td><td>1</td></tr>\n",
       "<tr><td>c2da27a4d1f99fba9...</td><td>1</td></tr>\n",
       "<tr><td>38c9e9077eac24f54...</td><td>1</td></tr>\n",
       "<tr><td>a85ccb7523cd134c1...</td><td>1</td></tr>\n",
       "<tr><td>97bf483a4c3d2bffd...</td><td>1</td></tr>\n",
       "<tr><td>37e30f66471454fba...</td><td>1</td></tr>\n",
       "<tr><td>b7ae8015bb4d13156...</td><td>1</td></tr>\n",
       "<tr><td>3082229e95dbf3a24...</td><td>1</td></tr>\n",
       "<tr><td>3b69b138136f83111...</td><td>1</td></tr>\n",
       "<tr><td>d65817f7c086ea681...</td><td>1</td></tr>\n",
       "<tr><td>6c92f938d9f6ce989...</td><td>1</td></tr>\n",
       "<tr><td>1ce674fddf9f7c11e...</td><td>1</td></tr>\n",
       "<tr><td>2c09803d6899926fd...</td><td>1</td></tr>\n",
       "<tr><td>a6140a9b221c9d89a...</td><td>1</td></tr>\n",
       "</table>\n",
       "only showing top 20 rows\n"
      ],
      "text/plain": [
       "+--------------------+-----+\n",
       "|           member_id|total|\n",
       "+--------------------+-----+\n",
       "|a4567bba097c4485d...|    1|\n",
       "|297b3685bff900558...|    1|\n",
       "|d7da1e199b06236ae...|    1|\n",
       "|b5a2dad88536a8490...|    1|\n",
       "|c8e170eef798ca694...|    1|\n",
       "|db55a8478f700a6ff...|    1|\n",
       "|f905feb44b4a6e434...|    1|\n",
       "|ff631df1bbb6d5a7c...|    1|\n",
       "|eecbacb5aa8c38a2c...|    1|\n",
       "|354de6d6dceeb36cf...|    1|\n",
       "|1884e4b07401cbfa8...|    1|\n",
       "|959dfccf75808d71d...|    1|\n",
       "|7d6676a24c4cfc817...|    1|\n",
       "|e17dfee4e3130d8d9...|    1|\n",
       "|eea85729136c207be...|    1|\n",
       "|3b7e24563a87a9214...|    1|\n",
       "|bd843590310ed61c8...|    1|\n",
       "|9f2256c892098ca49...|    1|\n",
       "|1745a20452540f955...|    1|\n",
       "|fefd07e8b42be64cd...|    1|\n",
       "+--------------------+-----+\n",
       "only showing top 20 rows"
      ]
     },
     "execution_count": 48,
     "metadata": {},
     "output_type": "execute_result"
    }
   ],
   "source": [
    "spark.sql(\"\"\"select member_id, count(*) as total \n",
    "from itv012740_lending_club_project_db.loans_defaulters_detail_rec_enq_new\n",
    "group by member_id order by total desc\"\"\")"
   ]
  },
  {
   "cell_type": "code",
   "execution_count": null,
   "id": "70a41bf2",
   "metadata": {},
   "outputs": [],
   "source": []
  },
  {
   "cell_type": "code",
   "execution_count": null,
   "id": "fe4db0e0",
   "metadata": {},
   "outputs": [],
   "source": []
  }
 ],
 "metadata": {
  "kernelspec": {
   "display_name": "Pyspark 3",
   "language": "python",
   "name": "pyspark3"
  },
  "language_info": {
   "codemirror_mode": {
    "name": "ipython",
    "version": 3
   },
   "file_extension": ".py",
   "mimetype": "text/x-python",
   "name": "python",
   "nbconvert_exporter": "python",
   "pygments_lexer": "ipython3",
   "version": "3.6.12"
  }
 },
 "nbformat": 4,
 "nbformat_minor": 5
}
