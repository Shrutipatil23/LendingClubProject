{
 "cells": [
  {
   "cell_type": "code",
   "execution_count": 1,
   "id": "2839ac1d",
   "metadata": {},
   "outputs": [],
   "source": [
    "from pyspark.sql import SparkSession\n",
    "import getpass \n",
    "username=getpass.getuser()\n",
    "spark=SparkSession. \\\n",
    "    builder. \\\n",
    "    config('spark.ui.port','0'). \\\n",
    "    config(\"spark.sql.warehouse.dir\", f\"/user/itv012740/warehouse\"). \\\n",
    "    config('spark.shuffle.useOldFetchProtocol', 'true'). \\\n",
    "    enableHiveSupport(). \\\n",
    "    master('yarn'). \\\n",
    "    getOrCreate()"
   ]
  },
  {
   "cell_type": "code",
   "execution_count": 3,
   "id": "13ed93c6",
   "metadata": {},
   "outputs": [],
   "source": [
    "customers_df = spark.read \\\n",
    ".format(\"parquet\") \\\n",
    ".load(\"/user/itv012740/lendingclubproject/raw/cleaned/customers_parquet\")"
   ]
  },
  {
   "cell_type": "code",
   "execution_count": 4,
   "id": "3457bc3a",
   "metadata": {},
   "outputs": [
    {
     "data": {
      "text/html": [
       "<table border='1'>\n",
       "<tr><th>member_id</th><th>emp_title</th><th>emp_length</th><th>home_ownership</th><th>annual_income</th><th>address_state</th><th>address_zipcode</th><th>address_country</th><th>grade</th><th>sub_grade</th><th>verification_status</th><th>total_high_credit_limit</th><th>application_type</th><th>join_annual_income</th><th>verification_status_joint</th><th>ingest_date</th></tr>\n",
       "<tr><td>770ea3e5b77bb4231...</td><td>Specialist</td><td>1</td><td>RENT</td><td>56000.0</td><td>CA</td><td>921xx</td><td>USA</td><td>D</td><td>D2</td><td>Not Verified</td><td>38870.0</td><td>Individual</td><td>null</td><td>null</td><td>2024-12-15 05:57:...</td></tr>\n",
       "<tr><td>3f9ada96065a4ecc8...</td><td>Safety Scientist</td><td>2</td><td>MORTGAGE</td><td>87000.0</td><td>NC</td><td>276xx</td><td>USA</td><td>C</td><td>C4</td><td>Source Verified</td><td>95033.0</td><td>Individual</td><td>null</td><td>null</td><td>2024-12-15 05:57:...</td></tr>\n",
       "<tr><td>7bb39398c157e2955...</td><td>Driver/ truck owner</td><td>3</td><td>MORTGAGE</td><td>160000.0</td><td>AL</td><td>365xx</td><td>USA</td><td>C</td><td>C2</td><td>Source Verified</td><td>96784.0</td><td>Individual</td><td>null</td><td>null</td><td>2024-12-15 05:57:...</td></tr>\n",
       "<tr><td>49d37ed17b04c5e77...</td><td>Station cleaner</td><td>6</td><td>RENT</td><td>54000.0</td><td>NY</td><td>114xx</td><td>USA</td><td>C</td><td>C4</td><td>Source Verified</td><td>60728.0</td><td>Individual</td><td>null</td><td>null</td><td>2024-12-15 05:57:...</td></tr>\n",
       "<tr><td>f79f2e34719b0ec9e...</td><td>packaging</td><td>10</td><td>MORTGAGE</td><td>56000.0</td><td>NY</td><td>134xx</td><td>USA</td><td>B</td><td>B4</td><td>Not Verified</td><td>249185.0</td><td>Individual</td><td>null</td><td>null</td><td>2024-12-15 05:57:...</td></tr>\n",
       "<tr><td>c99a4d06d506b7098...</td><td>teacher</td><td>3</td><td>MORTGAGE</td><td>37500.0</td><td>NC</td><td>282xx</td><td>USA</td><td>B</td><td>B4</td><td>Verified</td><td>163458.0</td><td>Individual</td><td>null</td><td>null</td><td>2024-12-15 05:57:...</td></tr>\n",
       "<tr><td>348edc47055880885...</td><td>retail</td><td>10</td><td>MORTGAGE</td><td>53000.0</td><td>WA</td><td>980xx</td><td>USA</td><td>D</td><td>D2</td><td>Source Verified</td><td>327725.0</td><td>Individual</td><td>null</td><td>null</td><td>2024-12-15 05:57:...</td></tr>\n",
       "<tr><td>b9871587446ab5176...</td><td>Rail Supervisor</td><td>10</td><td>MORTGAGE</td><td>75000.0</td><td>IL</td><td>622xx</td><td>USA</td><td>A</td><td>A3</td><td>Source Verified</td><td>159146.0</td><td>Individual</td><td>null</td><td>null</td><td>2024-12-15 05:57:...</td></tr>\n",
       "<tr><td>ba9893f933dcc1fd3...</td><td>Application Suppo...</td><td>3</td><td>MORTGAGE</td><td>100000.0</td><td>TX</td><td>782xx</td><td>USA</td><td>A</td><td>A5</td><td>Source Verified</td><td>358872.0</td><td>Individual</td><td>null</td><td>null</td><td>2024-12-15 05:57:...</td></tr>\n",
       "<tr><td>0853accd394a8e4cf...</td><td>Senior Project Ma...</td><td>10</td><td>OWN</td><td>80000.0</td><td>MD</td><td>212xx</td><td>USA</td><td>E</td><td>E4</td><td>Source Verified</td><td>325782.0</td><td>Individual</td><td>null</td><td>null</td><td>2024-12-15 05:57:...</td></tr>\n",
       "<tr><td>454e022be0cea2f42...</td><td>Supervisor</td><td>5</td><td>OWN</td><td>58000.0</td><td>IN</td><td>460xx</td><td>USA</td><td>E</td><td>E3</td><td>Verified</td><td>88038.0</td><td>Individual</td><td>null</td><td>null</td><td>2024-12-15 05:57:...</td></tr>\n",
       "<tr><td>e09bb8f37ba406036...</td><td>Senior Healthcare...</td><td>2</td><td>MORTGAGE</td><td>111000.0</td><td>OH</td><td>456xx</td><td>USA</td><td>E</td><td>E5</td><td>Verified</td><td>300946.0</td><td>Individual</td><td>null</td><td>null</td><td>2024-12-15 05:57:...</td></tr>\n",
       "<tr><td>71fb8dc525400fec7...</td><td>corrections officer</td><td>10</td><td>MORTGAGE</td><td>28000.0</td><td>MO</td><td>652xx</td><td>USA</td><td>C</td><td>C4</td><td>Verified</td><td>20500.0</td><td>Individual</td><td>null</td><td>null</td><td>2024-12-15 05:57:...</td></tr>\n",
       "<tr><td>b472f22ada8c6766d...</td><td>Director of Strat...</td><td>2</td><td>RENT</td><td>125000.0</td><td>NY</td><td>115xx</td><td>USA</td><td>E</td><td>E1</td><td>Verified</td><td>143991.0</td><td>Individual</td><td>null</td><td>null</td><td>2024-12-15 05:57:...</td></tr>\n",
       "<tr><td>b4029a6cd5312ddd8...</td><td>Plumbe 1</td><td>10</td><td>RENT</td><td>54200.0</td><td>NV</td><td>891xx</td><td>USA</td><td>B</td><td>B4</td><td>Source Verified</td><td>60619.0</td><td>Individual</td><td>null</td><td>null</td><td>2024-12-15 05:57:...</td></tr>\n",
       "<tr><td>ed12ab6157b48eac3...</td><td>Financial Service...</td><td>1</td><td>RENT</td><td>65000.0</td><td>PA</td><td>189xx</td><td>USA</td><td>C</td><td>C1</td><td>Source Verified</td><td>62601.0</td><td>Individual</td><td>null</td><td>null</td><td>2024-12-15 05:57:...</td></tr>\n",
       "<tr><td>088b6ac67d4ed0e36...</td><td>Teacher</td><td>8</td><td>MORTGAGE</td><td>47000.0</td><td>GA</td><td>303xx</td><td>USA</td><td>A</td><td>A5</td><td>Verified</td><td>316729.0</td><td>Individual</td><td>null</td><td>null</td><td>2024-12-15 05:57:...</td></tr>\n",
       "<tr><td>73f65e154c4d101e1...</td><td>null</td><td>6</td><td>OWN</td><td>14300.0</td><td>IN</td><td>461xx</td><td>USA</td><td>D</td><td>D4</td><td>Verified</td><td>7200.0</td><td>Individual</td><td>null</td><td>null</td><td>2024-12-15 05:57:...</td></tr>\n",
       "<tr><td>7c0029e83d9103a34...</td><td>property manager</td><td>8</td><td>RENT</td><td>55000.0</td><td>MA</td><td>025xx</td><td>USA</td><td>A</td><td>A4</td><td>Verified</td><td>54134.0</td><td>Individual</td><td>null</td><td>null</td><td>2024-12-15 05:57:...</td></tr>\n",
       "<tr><td>f666640280bf948f5...</td><td>Accountant</td><td>6</td><td>MORTGAGE</td><td>65000.0</td><td>MA</td><td>027xx</td><td>USA</td><td>B</td><td>B5</td><td>Source Verified</td><td>311411.0</td><td>Individual</td><td>null</td><td>null</td><td>2024-12-15 05:57:...</td></tr>\n",
       "</table>\n",
       "only showing top 20 rows\n"
      ],
      "text/plain": [
       "+--------------------+--------------------+----------+--------------+-------------+-------------+---------------+---------------+-----+---------+-------------------+-----------------------+----------------+------------------+-------------------------+--------------------+\n",
       "|           member_id|           emp_title|emp_length|home_ownership|annual_income|address_state|address_zipcode|address_country|grade|sub_grade|verification_status|total_high_credit_limit|application_type|join_annual_income|verification_status_joint|         ingest_date|\n",
       "+--------------------+--------------------+----------+--------------+-------------+-------------+---------------+---------------+-----+---------+-------------------+-----------------------+----------------+------------------+-------------------------+--------------------+\n",
       "|770ea3e5b77bb4231...|          Specialist|         1|          RENT|      56000.0|           CA|          921xx|            USA|    D|       D2|       Not Verified|                38870.0|      Individual|              null|                     null|2024-12-15 05:57:...|\n",
       "|3f9ada96065a4ecc8...|    Safety Scientist|         2|      MORTGAGE|      87000.0|           NC|          276xx|            USA|    C|       C4|    Source Verified|                95033.0|      Individual|              null|                     null|2024-12-15 05:57:...|\n",
       "|7bb39398c157e2955...| Driver/ truck owner|         3|      MORTGAGE|     160000.0|           AL|          365xx|            USA|    C|       C2|    Source Verified|                96784.0|      Individual|              null|                     null|2024-12-15 05:57:...|\n",
       "|49d37ed17b04c5e77...|     Station cleaner|         6|          RENT|      54000.0|           NY|          114xx|            USA|    C|       C4|    Source Verified|                60728.0|      Individual|              null|                     null|2024-12-15 05:57:...|\n",
       "|f79f2e34719b0ec9e...|           packaging|        10|      MORTGAGE|      56000.0|           NY|          134xx|            USA|    B|       B4|       Not Verified|               249185.0|      Individual|              null|                     null|2024-12-15 05:57:...|\n",
       "|c99a4d06d506b7098...|             teacher|         3|      MORTGAGE|      37500.0|           NC|          282xx|            USA|    B|       B4|           Verified|               163458.0|      Individual|              null|                     null|2024-12-15 05:57:...|\n",
       "|348edc47055880885...|              retail|        10|      MORTGAGE|      53000.0|           WA|          980xx|            USA|    D|       D2|    Source Verified|               327725.0|      Individual|              null|                     null|2024-12-15 05:57:...|\n",
       "|b9871587446ab5176...|     Rail Supervisor|        10|      MORTGAGE|      75000.0|           IL|          622xx|            USA|    A|       A3|    Source Verified|               159146.0|      Individual|              null|                     null|2024-12-15 05:57:...|\n",
       "|ba9893f933dcc1fd3...|Application Suppo...|         3|      MORTGAGE|     100000.0|           TX|          782xx|            USA|    A|       A5|    Source Verified|               358872.0|      Individual|              null|                     null|2024-12-15 05:57:...|\n",
       "|0853accd394a8e4cf...|Senior Project Ma...|        10|           OWN|      80000.0|           MD|          212xx|            USA|    E|       E4|    Source Verified|               325782.0|      Individual|              null|                     null|2024-12-15 05:57:...|\n",
       "|454e022be0cea2f42...|          Supervisor|         5|           OWN|      58000.0|           IN|          460xx|            USA|    E|       E3|           Verified|                88038.0|      Individual|              null|                     null|2024-12-15 05:57:...|\n",
       "|e09bb8f37ba406036...|Senior Healthcare...|         2|      MORTGAGE|     111000.0|           OH|          456xx|            USA|    E|       E5|           Verified|               300946.0|      Individual|              null|                     null|2024-12-15 05:57:...|\n",
       "|71fb8dc525400fec7...| corrections officer|        10|      MORTGAGE|      28000.0|           MO|          652xx|            USA|    C|       C4|           Verified|                20500.0|      Individual|              null|                     null|2024-12-15 05:57:...|\n",
       "|b472f22ada8c6766d...|Director of Strat...|         2|          RENT|     125000.0|           NY|          115xx|            USA|    E|       E1|           Verified|               143991.0|      Individual|              null|                     null|2024-12-15 05:57:...|\n",
       "|b4029a6cd5312ddd8...|            Plumbe 1|        10|          RENT|      54200.0|           NV|          891xx|            USA|    B|       B4|    Source Verified|                60619.0|      Individual|              null|                     null|2024-12-15 05:57:...|\n",
       "|ed12ab6157b48eac3...|Financial Service...|         1|          RENT|      65000.0|           PA|          189xx|            USA|    C|       C1|    Source Verified|                62601.0|      Individual|              null|                     null|2024-12-15 05:57:...|\n",
       "|088b6ac67d4ed0e36...|             Teacher|         8|      MORTGAGE|      47000.0|           GA|          303xx|            USA|    A|       A5|           Verified|               316729.0|      Individual|              null|                     null|2024-12-15 05:57:...|\n",
       "|73f65e154c4d101e1...|                null|         6|           OWN|      14300.0|           IN|          461xx|            USA|    D|       D4|           Verified|                 7200.0|      Individual|              null|                     null|2024-12-15 05:57:...|\n",
       "|7c0029e83d9103a34...|    property manager|         8|          RENT|      55000.0|           MA|          025xx|            USA|    A|       A4|           Verified|                54134.0|      Individual|              null|                     null|2024-12-15 05:57:...|\n",
       "|f666640280bf948f5...|          Accountant|         6|      MORTGAGE|      65000.0|           MA|          027xx|            USA|    B|       B5|    Source Verified|               311411.0|      Individual|              null|                     null|2024-12-15 05:57:...|\n",
       "+--------------------+--------------------+----------+--------------+-------------+-------------+---------------+---------------+-----+---------+-------------------+-----------------------+----------------+------------------+-------------------------+--------------------+\n",
       "only showing top 20 rows"
      ]
     },
     "execution_count": 4,
     "metadata": {},
     "output_type": "execute_result"
    }
   ],
   "source": [
    "customers_df"
   ]
  },
  {
   "cell_type": "code",
   "execution_count": 6,
   "id": "9a9a8ccf",
   "metadata": {},
   "outputs": [
    {
     "data": {
      "text/html": [
       "<table border='1'>\n",
       "<tr><th></th></tr>\n",
       "</table>\n"
      ],
      "text/plain": [
       "++\n",
       "||\n",
       "++\n",
       "++"
      ]
     },
     "execution_count": 6,
     "metadata": {},
     "output_type": "execute_result"
    }
   ],
   "source": [
    "spark.sql(\"create database itv012740_Lending_Club_Project_DB\")"
   ]
  },
  {
   "cell_type": "code",
   "execution_count": 7,
   "id": "8e7108a8",
   "metadata": {},
   "outputs": [
    {
     "data": {
      "text/html": [
       "<table border='1'>\n",
       "<tr><th></th></tr>\n",
       "</table>\n"
      ],
      "text/plain": [
       "++\n",
       "||\n",
       "++\n",
       "++"
      ]
     },
     "execution_count": 7,
     "metadata": {},
     "output_type": "execute_result"
    }
   ],
   "source": [
    "spark.sql(\"\"\"create external table itv012740_Lending_Club_Project_DB.customers(\n",
    "member_id string, emp_title string, emp_length int, \n",
    "home_ownership string, annual_income float, address_state string, address_zipcode string, address_country string, grade string, \n",
    "sub_grade string, verification_status string, total_high_credit_limit float, application_type string, join_annual_income float, \n",
    "verification_status_joint string, ingest_date timestamp)\n",
    "stored as parquet location  '/user/itv012740/lendingclubproject/raw/cleaned/customers_parquet'\n",
    "\"\"\")"
   ]
  },
  {
   "cell_type": "code",
   "execution_count": 8,
   "id": "b18f5b70",
   "metadata": {},
   "outputs": [
    {
     "data": {
      "text/html": [
       "<table border='1'>\n",
       "<tr><th>member_id</th><th>emp_title</th><th>emp_length</th><th>home_ownership</th><th>annual_income</th><th>address_state</th><th>address_zipcode</th><th>address_country</th><th>grade</th><th>sub_grade</th><th>verification_status</th><th>total_high_credit_limit</th><th>application_type</th><th>join_annual_income</th><th>verification_status_joint</th><th>ingest_date</th></tr>\n",
       "<tr><td>770ea3e5b77bb4231...</td><td>Specialist</td><td>1</td><td>RENT</td><td>56000.0</td><td>CA</td><td>921xx</td><td>USA</td><td>D</td><td>D2</td><td>Not Verified</td><td>38870.0</td><td>Individual</td><td>null</td><td>null</td><td>2024-12-15 05:57:...</td></tr>\n",
       "<tr><td>3f9ada96065a4ecc8...</td><td>Safety Scientist</td><td>2</td><td>MORTGAGE</td><td>87000.0</td><td>NC</td><td>276xx</td><td>USA</td><td>C</td><td>C4</td><td>Source Verified</td><td>95033.0</td><td>Individual</td><td>null</td><td>null</td><td>2024-12-15 05:57:...</td></tr>\n",
       "<tr><td>7bb39398c157e2955...</td><td>Driver/ truck owner</td><td>3</td><td>MORTGAGE</td><td>160000.0</td><td>AL</td><td>365xx</td><td>USA</td><td>C</td><td>C2</td><td>Source Verified</td><td>96784.0</td><td>Individual</td><td>null</td><td>null</td><td>2024-12-15 05:57:...</td></tr>\n",
       "<tr><td>49d37ed17b04c5e77...</td><td>Station cleaner</td><td>6</td><td>RENT</td><td>54000.0</td><td>NY</td><td>114xx</td><td>USA</td><td>C</td><td>C4</td><td>Source Verified</td><td>60728.0</td><td>Individual</td><td>null</td><td>null</td><td>2024-12-15 05:57:...</td></tr>\n",
       "<tr><td>f79f2e34719b0ec9e...</td><td>packaging</td><td>10</td><td>MORTGAGE</td><td>56000.0</td><td>NY</td><td>134xx</td><td>USA</td><td>B</td><td>B4</td><td>Not Verified</td><td>249185.0</td><td>Individual</td><td>null</td><td>null</td><td>2024-12-15 05:57:...</td></tr>\n",
       "<tr><td>c99a4d06d506b7098...</td><td>teacher</td><td>3</td><td>MORTGAGE</td><td>37500.0</td><td>NC</td><td>282xx</td><td>USA</td><td>B</td><td>B4</td><td>Verified</td><td>163458.0</td><td>Individual</td><td>null</td><td>null</td><td>2024-12-15 05:57:...</td></tr>\n",
       "<tr><td>348edc47055880885...</td><td>retail</td><td>10</td><td>MORTGAGE</td><td>53000.0</td><td>WA</td><td>980xx</td><td>USA</td><td>D</td><td>D2</td><td>Source Verified</td><td>327725.0</td><td>Individual</td><td>null</td><td>null</td><td>2024-12-15 05:57:...</td></tr>\n",
       "<tr><td>b9871587446ab5176...</td><td>Rail Supervisor</td><td>10</td><td>MORTGAGE</td><td>75000.0</td><td>IL</td><td>622xx</td><td>USA</td><td>A</td><td>A3</td><td>Source Verified</td><td>159146.0</td><td>Individual</td><td>null</td><td>null</td><td>2024-12-15 05:57:...</td></tr>\n",
       "<tr><td>ba9893f933dcc1fd3...</td><td>Application Suppo...</td><td>3</td><td>MORTGAGE</td><td>100000.0</td><td>TX</td><td>782xx</td><td>USA</td><td>A</td><td>A5</td><td>Source Verified</td><td>358872.0</td><td>Individual</td><td>null</td><td>null</td><td>2024-12-15 05:57:...</td></tr>\n",
       "<tr><td>0853accd394a8e4cf...</td><td>Senior Project Ma...</td><td>10</td><td>OWN</td><td>80000.0</td><td>MD</td><td>212xx</td><td>USA</td><td>E</td><td>E4</td><td>Source Verified</td><td>325782.0</td><td>Individual</td><td>null</td><td>null</td><td>2024-12-15 05:57:...</td></tr>\n",
       "<tr><td>454e022be0cea2f42...</td><td>Supervisor</td><td>5</td><td>OWN</td><td>58000.0</td><td>IN</td><td>460xx</td><td>USA</td><td>E</td><td>E3</td><td>Verified</td><td>88038.0</td><td>Individual</td><td>null</td><td>null</td><td>2024-12-15 05:57:...</td></tr>\n",
       "<tr><td>e09bb8f37ba406036...</td><td>Senior Healthcare...</td><td>2</td><td>MORTGAGE</td><td>111000.0</td><td>OH</td><td>456xx</td><td>USA</td><td>E</td><td>E5</td><td>Verified</td><td>300946.0</td><td>Individual</td><td>null</td><td>null</td><td>2024-12-15 05:57:...</td></tr>\n",
       "<tr><td>71fb8dc525400fec7...</td><td>corrections officer</td><td>10</td><td>MORTGAGE</td><td>28000.0</td><td>MO</td><td>652xx</td><td>USA</td><td>C</td><td>C4</td><td>Verified</td><td>20500.0</td><td>Individual</td><td>null</td><td>null</td><td>2024-12-15 05:57:...</td></tr>\n",
       "<tr><td>b472f22ada8c6766d...</td><td>Director of Strat...</td><td>2</td><td>RENT</td><td>125000.0</td><td>NY</td><td>115xx</td><td>USA</td><td>E</td><td>E1</td><td>Verified</td><td>143991.0</td><td>Individual</td><td>null</td><td>null</td><td>2024-12-15 05:57:...</td></tr>\n",
       "<tr><td>b4029a6cd5312ddd8...</td><td>Plumbe 1</td><td>10</td><td>RENT</td><td>54200.0</td><td>NV</td><td>891xx</td><td>USA</td><td>B</td><td>B4</td><td>Source Verified</td><td>60619.0</td><td>Individual</td><td>null</td><td>null</td><td>2024-12-15 05:57:...</td></tr>\n",
       "<tr><td>ed12ab6157b48eac3...</td><td>Financial Service...</td><td>1</td><td>RENT</td><td>65000.0</td><td>PA</td><td>189xx</td><td>USA</td><td>C</td><td>C1</td><td>Source Verified</td><td>62601.0</td><td>Individual</td><td>null</td><td>null</td><td>2024-12-15 05:57:...</td></tr>\n",
       "<tr><td>088b6ac67d4ed0e36...</td><td>Teacher</td><td>8</td><td>MORTGAGE</td><td>47000.0</td><td>GA</td><td>303xx</td><td>USA</td><td>A</td><td>A5</td><td>Verified</td><td>316729.0</td><td>Individual</td><td>null</td><td>null</td><td>2024-12-15 05:57:...</td></tr>\n",
       "<tr><td>73f65e154c4d101e1...</td><td>null</td><td>6</td><td>OWN</td><td>14300.0</td><td>IN</td><td>461xx</td><td>USA</td><td>D</td><td>D4</td><td>Verified</td><td>7200.0</td><td>Individual</td><td>null</td><td>null</td><td>2024-12-15 05:57:...</td></tr>\n",
       "<tr><td>7c0029e83d9103a34...</td><td>property manager</td><td>8</td><td>RENT</td><td>55000.0</td><td>MA</td><td>025xx</td><td>USA</td><td>A</td><td>A4</td><td>Verified</td><td>54134.0</td><td>Individual</td><td>null</td><td>null</td><td>2024-12-15 05:57:...</td></tr>\n",
       "<tr><td>f666640280bf948f5...</td><td>Accountant</td><td>6</td><td>MORTGAGE</td><td>65000.0</td><td>MA</td><td>027xx</td><td>USA</td><td>B</td><td>B5</td><td>Source Verified</td><td>311411.0</td><td>Individual</td><td>null</td><td>null</td><td>2024-12-15 05:57:...</td></tr>\n",
       "</table>\n",
       "only showing top 20 rows\n"
      ],
      "text/plain": [
       "+--------------------+--------------------+----------+--------------+-------------+-------------+---------------+---------------+-----+---------+-------------------+-----------------------+----------------+------------------+-------------------------+--------------------+\n",
       "|           member_id|           emp_title|emp_length|home_ownership|annual_income|address_state|address_zipcode|address_country|grade|sub_grade|verification_status|total_high_credit_limit|application_type|join_annual_income|verification_status_joint|         ingest_date|\n",
       "+--------------------+--------------------+----------+--------------+-------------+-------------+---------------+---------------+-----+---------+-------------------+-----------------------+----------------+------------------+-------------------------+--------------------+\n",
       "|770ea3e5b77bb4231...|          Specialist|         1|          RENT|      56000.0|           CA|          921xx|            USA|    D|       D2|       Not Verified|                38870.0|      Individual|              null|                     null|2024-12-15 05:57:...|\n",
       "|3f9ada96065a4ecc8...|    Safety Scientist|         2|      MORTGAGE|      87000.0|           NC|          276xx|            USA|    C|       C4|    Source Verified|                95033.0|      Individual|              null|                     null|2024-12-15 05:57:...|\n",
       "|7bb39398c157e2955...| Driver/ truck owner|         3|      MORTGAGE|     160000.0|           AL|          365xx|            USA|    C|       C2|    Source Verified|                96784.0|      Individual|              null|                     null|2024-12-15 05:57:...|\n",
       "|49d37ed17b04c5e77...|     Station cleaner|         6|          RENT|      54000.0|           NY|          114xx|            USA|    C|       C4|    Source Verified|                60728.0|      Individual|              null|                     null|2024-12-15 05:57:...|\n",
       "|f79f2e34719b0ec9e...|           packaging|        10|      MORTGAGE|      56000.0|           NY|          134xx|            USA|    B|       B4|       Not Verified|               249185.0|      Individual|              null|                     null|2024-12-15 05:57:...|\n",
       "|c99a4d06d506b7098...|             teacher|         3|      MORTGAGE|      37500.0|           NC|          282xx|            USA|    B|       B4|           Verified|               163458.0|      Individual|              null|                     null|2024-12-15 05:57:...|\n",
       "|348edc47055880885...|              retail|        10|      MORTGAGE|      53000.0|           WA|          980xx|            USA|    D|       D2|    Source Verified|               327725.0|      Individual|              null|                     null|2024-12-15 05:57:...|\n",
       "|b9871587446ab5176...|     Rail Supervisor|        10|      MORTGAGE|      75000.0|           IL|          622xx|            USA|    A|       A3|    Source Verified|               159146.0|      Individual|              null|                     null|2024-12-15 05:57:...|\n",
       "|ba9893f933dcc1fd3...|Application Suppo...|         3|      MORTGAGE|     100000.0|           TX|          782xx|            USA|    A|       A5|    Source Verified|               358872.0|      Individual|              null|                     null|2024-12-15 05:57:...|\n",
       "|0853accd394a8e4cf...|Senior Project Ma...|        10|           OWN|      80000.0|           MD|          212xx|            USA|    E|       E4|    Source Verified|               325782.0|      Individual|              null|                     null|2024-12-15 05:57:...|\n",
       "|454e022be0cea2f42...|          Supervisor|         5|           OWN|      58000.0|           IN|          460xx|            USA|    E|       E3|           Verified|                88038.0|      Individual|              null|                     null|2024-12-15 05:57:...|\n",
       "|e09bb8f37ba406036...|Senior Healthcare...|         2|      MORTGAGE|     111000.0|           OH|          456xx|            USA|    E|       E5|           Verified|               300946.0|      Individual|              null|                     null|2024-12-15 05:57:...|\n",
       "|71fb8dc525400fec7...| corrections officer|        10|      MORTGAGE|      28000.0|           MO|          652xx|            USA|    C|       C4|           Verified|                20500.0|      Individual|              null|                     null|2024-12-15 05:57:...|\n",
       "|b472f22ada8c6766d...|Director of Strat...|         2|          RENT|     125000.0|           NY|          115xx|            USA|    E|       E1|           Verified|               143991.0|      Individual|              null|                     null|2024-12-15 05:57:...|\n",
       "|b4029a6cd5312ddd8...|            Plumbe 1|        10|          RENT|      54200.0|           NV|          891xx|            USA|    B|       B4|    Source Verified|                60619.0|      Individual|              null|                     null|2024-12-15 05:57:...|\n",
       "|ed12ab6157b48eac3...|Financial Service...|         1|          RENT|      65000.0|           PA|          189xx|            USA|    C|       C1|    Source Verified|                62601.0|      Individual|              null|                     null|2024-12-15 05:57:...|\n",
       "|088b6ac67d4ed0e36...|             Teacher|         8|      MORTGAGE|      47000.0|           GA|          303xx|            USA|    A|       A5|           Verified|               316729.0|      Individual|              null|                     null|2024-12-15 05:57:...|\n",
       "|73f65e154c4d101e1...|                null|         6|           OWN|      14300.0|           IN|          461xx|            USA|    D|       D4|           Verified|                 7200.0|      Individual|              null|                     null|2024-12-15 05:57:...|\n",
       "|7c0029e83d9103a34...|    property manager|         8|          RENT|      55000.0|           MA|          025xx|            USA|    A|       A4|           Verified|                54134.0|      Individual|              null|                     null|2024-12-15 05:57:...|\n",
       "|f666640280bf948f5...|          Accountant|         6|      MORTGAGE|      65000.0|           MA|          027xx|            USA|    B|       B5|    Source Verified|               311411.0|      Individual|              null|                     null|2024-12-15 05:57:...|\n",
       "+--------------------+--------------------+----------+--------------+-------------+-------------+---------------+---------------+-----+---------+-------------------+-----------------------+----------------+------------------+-------------------------+--------------------+\n",
       "only showing top 20 rows"
      ]
     },
     "execution_count": 8,
     "metadata": {},
     "output_type": "execute_result"
    }
   ],
   "source": [
    "spark.sql(\"select * from itv012740_Lending_Club_Project_DB.customers\")"
   ]
  },
  {
   "cell_type": "code",
   "execution_count": 19,
   "id": "a26beb78",
   "metadata": {},
   "outputs": [
    {
     "data": {
      "text/html": [
       "<table border='1'>\n",
       "<tr><th></th></tr>\n",
       "</table>\n"
      ],
      "text/plain": [
       "++\n",
       "||\n",
       "++\n",
       "++"
      ]
     },
     "execution_count": 19,
     "metadata": {},
     "output_type": "execute_result"
    }
   ],
   "source": [
    "spark.sql(\"\"\"\n",
    "create external table itv012740_Lending_Club_Project_DB.loans(\n",
    "loan_id string, member_id string, loan_amount float, funded_amount float,\n",
    "loan_term_years integer, interest_rate float, monthly_installment float, issue_date string,\n",
    "loan_status string, loan_purpose string, loan_title string, ingest_date timestamp)\n",
    "stored as parquet\n",
    "location '/user/itv012740/lendingclubproject/raw/cleaned/loans_parquet'\n",
    "\"\"\")"
   ]
  },
  {
   "cell_type": "code",
   "execution_count": 20,
   "id": "79b9ba8a",
   "metadata": {},
   "outputs": [
    {
     "data": {
      "text/html": [
       "<table border='1'>\n",
       "<tr><th>loan_id</th><th>member_id</th><th>loan_amount</th><th>funded_amount</th><th>loan_term_years</th><th>interest_rate</th><th>monthly_installment</th><th>issue_date</th><th>loan_status</th><th>loan_purpose</th><th>loan_title</th><th>ingest_date</th></tr>\n",
       "<tr><td>118184277</td><td>707271898dcabc8b2...</td><td>4500.0</td><td>4500.0</td><td>3</td><td>7.07</td><td>139.1</td><td>Sep-2017</td><td>Fully Paid</td><td>debt_consolidation</td><td>Debt consolidation</td><td>2024-12-15 06:02:...</td></tr>\n",
       "<tr><td>117289602</td><td>8e1ea10aca3c4ad8f...</td><td>4000.0</td><td>4000.0</td><td>3</td><td>9.93</td><td>128.94</td><td>Sep-2017</td><td>Current</td><td>credit_card</td><td>Credit card refin...</td><td>2024-12-15 06:02:...</td></tr>\n",
       "<tr><td>118216186</td><td>1d6546a2cbc1fd240...</td><td>10000.0</td><td>10000.0</td><td>3</td><td>10.91</td><td>326.97</td><td>Sep-2017</td><td>Current</td><td>debt_consolidation</td><td>Debt consolidation</td><td>2024-12-15 06:02:...</td></tr>\n",
       "<tr><td>117584790</td><td>d6208beced388988f...</td><td>20000.0</td><td>20000.0</td><td>3</td><td>12.62</td><td>670.23</td><td>Sep-2017</td><td>Fully Paid</td><td>home_improvement</td><td>Home improvement</td><td>2024-12-15 06:02:...</td></tr>\n",
       "<tr><td>118208834</td><td>b4af936688c28c165...</td><td>15000.0</td><td>15000.0</td><td>3</td><td>7.97</td><td>469.84</td><td>Sep-2017</td><td>Current</td><td>debt_consolidation</td><td>Debt consolidation</td><td>2024-12-15 06:02:...</td></tr>\n",
       "<tr><td>117566588</td><td>2c04e047879ada04e...</td><td>21000.0</td><td>21000.0</td><td>5</td><td>13.59</td><td>484.19</td><td>Sep-2017</td><td>Current</td><td>home_improvement</td><td>Home improvement</td><td>2024-12-15 06:02:...</td></tr>\n",
       "<tr><td>118221134</td><td>39dfcd293cb7b2c17...</td><td>10000.0</td><td>10000.0</td><td>5</td><td>15.05</td><td>238.17</td><td>Sep-2017</td><td>Current</td><td>debt_consolidation</td><td>Debt consolidation</td><td>2024-12-15 06:02:...</td></tr>\n",
       "<tr><td>118183021</td><td>5e6e1f8ad59c71a0b...</td><td>5600.0</td><td>5600.0</td><td>3</td><td>5.32</td><td>168.65</td><td>Sep-2017</td><td>Current</td><td>debt_consolidation</td><td>Debt consolidation</td><td>2024-12-15 06:02:...</td></tr>\n",
       "<tr><td>118209005</td><td>afd3b57e55eb95ed8...</td><td>16000.0</td><td>16000.0</td><td>3</td><td>7.21</td><td>495.58</td><td>Sep-2017</td><td>Current</td><td>home_improvement</td><td>Home improvement</td><td>2024-12-15 06:02:...</td></tr>\n",
       "<tr><td>118214952</td><td>8b5eed45ac53a0238...</td><td>7000.0</td><td>7000.0</td><td>3</td><td>7.97</td><td>219.26</td><td>Sep-2017</td><td>Current</td><td>car</td><td>Car financing</td><td>2024-12-15 06:02:...</td></tr>\n",
       "<tr><td>117566851</td><td>f9b1d34c3edcb893e...</td><td>18000.0</td><td>18000.0</td><td>5</td><td>20.0</td><td>476.89</td><td>Sep-2017</td><td>Current</td><td>major_purchase</td><td>Major purchase</td><td>2024-12-15 06:02:...</td></tr>\n",
       "<tr><td>115648172</td><td>1ad9eaf0cd017b07b...</td><td>14000.0</td><td>14000.0</td><td>3</td><td>10.42</td><td>454.51</td><td>Sep-2017</td><td>Current</td><td>debt_consolidation</td><td>Debt consolidation</td><td>2024-12-15 06:02:...</td></tr>\n",
       "<tr><td>115354924</td><td>319d1b9f0f8262a44...</td><td>28000.0</td><td>28000.0</td><td>3</td><td>11.99</td><td>929.87</td><td>Sep-2017</td><td>Fully Paid</td><td>debt_consolidation</td><td>Debt consolidation</td><td>2024-12-15 06:02:...</td></tr>\n",
       "<tr><td>118216367</td><td>f8d7c9355352667eb...</td><td>19200.0</td><td>19200.0</td><td>5</td><td>9.93</td><td>407.29</td><td>Sep-2017</td><td>Fully Paid</td><td>debt_consolidation</td><td>Debt consolidation</td><td>2024-12-15 06:02:...</td></tr>\n",
       "<tr><td>118209104</td><td>e599af63f1a06e96d...</td><td>40000.0</td><td>40000.0</td><td>5</td><td>15.05</td><td>952.65</td><td>Sep-2017</td><td>Current</td><td>other</td><td>Other</td><td>2024-12-15 06:02:...</td></tr>\n",
       "<tr><td>118193433</td><td>d7f76105042a35af5...</td><td>10000.0</td><td>10000.0</td><td>5</td><td>20.0</td><td>264.94</td><td>Sep-2017</td><td>Current</td><td>debt_consolidation</td><td>Debt consolidation</td><td>2024-12-15 06:02:...</td></tr>\n",
       "<tr><td>118188718</td><td>d7b8a3478590b59c6...</td><td>8000.0</td><td>8000.0</td><td>3</td><td>14.08</td><td>273.74</td><td>Sep-2017</td><td>Fully Paid</td><td>credit_card</td><td>Credit card refin...</td><td>2024-12-15 06:02:...</td></tr>\n",
       "<tr><td>116868788</td><td>4885a59f1ae5534c3...</td><td>6000.0</td><td>6000.0</td><td>3</td><td>10.91</td><td>196.18</td><td>Sep-2017</td><td>Current</td><td>home_improvement</td><td>Home improvement</td><td>2024-12-15 06:02:...</td></tr>\n",
       "<tr><td>116264178</td><td>4558ee1fa31903d33...</td><td>7200.0</td><td>7200.0</td><td>3</td><td>7.21</td><td>223.01</td><td>Sep-2017</td><td>Current</td><td>debt_consolidation</td><td>Debt consolidation</td><td>2024-12-15 06:02:...</td></tr>\n",
       "<tr><td>117616063</td><td>619b3b7101cf2aeb7...</td><td>6000.0</td><td>6000.0</td><td>3</td><td>7.97</td><td>187.94</td><td>Sep-2017</td><td>Current</td><td>debt_consolidation</td><td>Debt consolidation</td><td>2024-12-15 06:02:...</td></tr>\n",
       "</table>\n",
       "only showing top 20 rows\n"
      ],
      "text/plain": [
       "+---------+--------------------+-----------+-------------+---------------+-------------+-------------------+----------+-----------+------------------+--------------------+--------------------+\n",
       "|  loan_id|           member_id|loan_amount|funded_amount|loan_term_years|interest_rate|monthly_installment|issue_date|loan_status|      loan_purpose|          loan_title|         ingest_date|\n",
       "+---------+--------------------+-----------+-------------+---------------+-------------+-------------------+----------+-----------+------------------+--------------------+--------------------+\n",
       "|118184277|707271898dcabc8b2...|     4500.0|       4500.0|              3|         7.07|              139.1|  Sep-2017| Fully Paid|debt_consolidation|  Debt consolidation|2024-12-15 06:02:...|\n",
       "|117289602|8e1ea10aca3c4ad8f...|     4000.0|       4000.0|              3|         9.93|             128.94|  Sep-2017|    Current|       credit_card|Credit card refin...|2024-12-15 06:02:...|\n",
       "|118216186|1d6546a2cbc1fd240...|    10000.0|      10000.0|              3|        10.91|             326.97|  Sep-2017|    Current|debt_consolidation|  Debt consolidation|2024-12-15 06:02:...|\n",
       "|117584790|d6208beced388988f...|    20000.0|      20000.0|              3|        12.62|             670.23|  Sep-2017| Fully Paid|  home_improvement|    Home improvement|2024-12-15 06:02:...|\n",
       "|118208834|b4af936688c28c165...|    15000.0|      15000.0|              3|         7.97|             469.84|  Sep-2017|    Current|debt_consolidation|  Debt consolidation|2024-12-15 06:02:...|\n",
       "|117566588|2c04e047879ada04e...|    21000.0|      21000.0|              5|        13.59|             484.19|  Sep-2017|    Current|  home_improvement|    Home improvement|2024-12-15 06:02:...|\n",
       "|118221134|39dfcd293cb7b2c17...|    10000.0|      10000.0|              5|        15.05|             238.17|  Sep-2017|    Current|debt_consolidation|  Debt consolidation|2024-12-15 06:02:...|\n",
       "|118183021|5e6e1f8ad59c71a0b...|     5600.0|       5600.0|              3|         5.32|             168.65|  Sep-2017|    Current|debt_consolidation|  Debt consolidation|2024-12-15 06:02:...|\n",
       "|118209005|afd3b57e55eb95ed8...|    16000.0|      16000.0|              3|         7.21|             495.58|  Sep-2017|    Current|  home_improvement|    Home improvement|2024-12-15 06:02:...|\n",
       "|118214952|8b5eed45ac53a0238...|     7000.0|       7000.0|              3|         7.97|             219.26|  Sep-2017|    Current|               car|       Car financing|2024-12-15 06:02:...|\n",
       "|117566851|f9b1d34c3edcb893e...|    18000.0|      18000.0|              5|         20.0|             476.89|  Sep-2017|    Current|    major_purchase|      Major purchase|2024-12-15 06:02:...|\n",
       "|115648172|1ad9eaf0cd017b07b...|    14000.0|      14000.0|              3|        10.42|             454.51|  Sep-2017|    Current|debt_consolidation|  Debt consolidation|2024-12-15 06:02:...|\n",
       "|115354924|319d1b9f0f8262a44...|    28000.0|      28000.0|              3|        11.99|             929.87|  Sep-2017| Fully Paid|debt_consolidation|  Debt consolidation|2024-12-15 06:02:...|\n",
       "|118216367|f8d7c9355352667eb...|    19200.0|      19200.0|              5|         9.93|             407.29|  Sep-2017| Fully Paid|debt_consolidation|  Debt consolidation|2024-12-15 06:02:...|\n",
       "|118209104|e599af63f1a06e96d...|    40000.0|      40000.0|              5|        15.05|             952.65|  Sep-2017|    Current|             other|               Other|2024-12-15 06:02:...|\n",
       "|118193433|d7f76105042a35af5...|    10000.0|      10000.0|              5|         20.0|             264.94|  Sep-2017|    Current|debt_consolidation|  Debt consolidation|2024-12-15 06:02:...|\n",
       "|118188718|d7b8a3478590b59c6...|     8000.0|       8000.0|              3|        14.08|             273.74|  Sep-2017| Fully Paid|       credit_card|Credit card refin...|2024-12-15 06:02:...|\n",
       "|116868788|4885a59f1ae5534c3...|     6000.0|       6000.0|              3|        10.91|             196.18|  Sep-2017|    Current|  home_improvement|    Home improvement|2024-12-15 06:02:...|\n",
       "|116264178|4558ee1fa31903d33...|     7200.0|       7200.0|              3|         7.21|             223.01|  Sep-2017|    Current|debt_consolidation|  Debt consolidation|2024-12-15 06:02:...|\n",
       "|117616063|619b3b7101cf2aeb7...|     6000.0|       6000.0|              3|         7.97|             187.94|  Sep-2017|    Current|debt_consolidation|  Debt consolidation|2024-12-15 06:02:...|\n",
       "+---------+--------------------+-----------+-------------+---------------+-------------+-------------------+----------+-----------+------------------+--------------------+--------------------+\n",
       "only showing top 20 rows"
      ]
     },
     "execution_count": 20,
     "metadata": {},
     "output_type": "execute_result"
    }
   ],
   "source": [
    "spark.sql(\"select * from itv012740_Lending_Club_Project_DB.loans\")"
   ]
  },
  {
   "cell_type": "code",
   "execution_count": 21,
   "id": "6420ceec",
   "metadata": {},
   "outputs": [
    {
     "data": {
      "text/html": [
       "<table border='1'>\n",
       "<tr><th></th></tr>\n",
       "</table>\n"
      ],
      "text/plain": [
       "++\n",
       "||\n",
       "++\n",
       "++"
      ]
     },
     "execution_count": 21,
     "metadata": {},
     "output_type": "execute_result"
    }
   ],
   "source": [
    "spark.sql(\"\"\"CREATE EXTERNAL TABLE itv012740_Lending_Club_Project_DB.loans_repayments(loan_id string, total_principal_received float,\n",
    "total_interest_received float,total_late_fee_received float,total_payment_received float,last_payment_amount float,\n",
    "last_payment_date string,next_payment_date string,ingest_date timestamp)\n",
    "stored as parquet LOCATION '/user/itv012740/lendingclubproject/raw/cleaned/loans_repayments_parquet'\n",
    "\"\"\")"
   ]
  },
  {
   "cell_type": "code",
   "execution_count": 22,
   "id": "a757dc43",
   "metadata": {},
   "outputs": [
    {
     "data": {
      "text/html": [
       "<table border='1'>\n",
       "<tr><th>loan_id</th><th>total_principal_received</th><th>total_interest_received</th><th>total_late_fee_received</th><th>total_payment_received</th><th>last_payment_amount</th><th>last_payment_date</th><th>next_payment_date</th><th>ingest_date</th></tr>\n",
       "<tr><td>69642551</td><td>3246.03</td><td>990.53</td><td>0.0</td><td>4965.02</td><td>326.35</td><td>null</td><td>null</td><td>2024-12-15 06:06:...</td></tr>\n",
       "<tr><td>69336966</td><td>12000.0</td><td>1080.5</td><td>0.0</td><td>13080.5</td><td>9501.81</td><td>null</td><td>null</td><td>2024-12-15 06:06:...</td></tr>\n",
       "<tr><td>69226186</td><td>28000.0</td><td>3049.36</td><td>0.0</td><td>31049.361</td><td>9306.81</td><td>null</td><td>null</td><td>2024-12-15 06:06:...</td></tr>\n",
       "<tr><td>69084024</td><td>16500.0</td><td>900.32</td><td>0.0</td><td>17400.32</td><td>14085.82</td><td>null</td><td>null</td><td>2024-12-15 06:06:...</td></tr>\n",
       "<tr><td>69422635</td><td>21000.0</td><td>4452.42</td><td>0.0</td><td>25452.418</td><td>12705.78</td><td>null</td><td>null</td><td>2024-12-15 06:06:...</td></tr>\n",
       "<tr><td>69542436</td><td>1220.15</td><td>1252.23</td><td>0.0</td><td>4533.19</td><td>497.94</td><td>null</td><td>null</td><td>2024-12-15 06:06:...</td></tr>\n",
       "<tr><td>69492501</td><td>29000.0</td><td>5405.32</td><td>47.8</td><td>34453.12</td><td>771.08</td><td>Apr-2019</td><td>Apr-2019</td><td>2024-12-15 06:06:...</td></tr>\n",
       "<tr><td>69522527</td><td>33000.0</td><td>2092.69</td><td>0.0</td><td>35092.69</td><td>65.34</td><td>null</td><td>null</td><td>2024-12-15 06:06:...</td></tr>\n",
       "<tr><td>68781653</td><td>18000.0</td><td>4167.34</td><td>0.0</td><td>22167.344</td><td>13021.32</td><td>null</td><td>null</td><td>2024-12-15 06:06:...</td></tr>\n",
       "<tr><td>69371334</td><td>16000.0</td><td>1140.7</td><td>0.0</td><td>17140.701</td><td>13910.33</td><td>null</td><td>null</td><td>2024-12-15 06:06:...</td></tr>\n",
       "<tr><td>68714098</td><td>15000.0</td><td>1665.34</td><td>0.0</td><td>16665.336</td><td>463.01</td><td>null</td><td>null</td><td>2024-12-15 06:06:...</td></tr>\n",
       "<tr><td>69622505</td><td>14993.49</td><td>15587.45</td><td>0.0</td><td>30580.94</td><td>925.15</td><td>Apr-2019</td><td>Apr-2019</td><td>2024-12-15 06:06:...</td></tr>\n",
       "<tr><td>69084020</td><td>8191.71</td><td>2319.93</td><td>0.0</td><td>11211.64</td><td>403.64</td><td>null</td><td>null</td><td>2024-12-15 06:06:...</td></tr>\n",
       "<tr><td>69552651</td><td>13221.14</td><td>7957.71</td><td>0.0</td><td>21178.85</td><td>558.32</td><td>Apr-2019</td><td>Apr-2019</td><td>2024-12-15 06:06:...</td></tr>\n",
       "<tr><td>69084037</td><td>7200.0</td><td>983.7</td><td>0.0</td><td>8183.7036</td><td>4153.17</td><td>null</td><td>null</td><td>2024-12-15 06:06:...</td></tr>\n",
       "<tr><td>69612464</td><td>2189.97</td><td>342.22</td><td>0.0</td><td>2532.19</td><td>78.91</td><td>null</td><td>null</td><td>2024-12-15 06:06:...</td></tr>\n",
       "<tr><td>69562380</td><td>11481.73</td><td>10842.62</td><td>0.0</td><td>22324.35</td><td>588.13</td><td>Apr-2019</td><td>Apr-2019</td><td>2024-12-15 06:06:...</td></tr>\n",
       "<tr><td>69422542</td><td>7200.0</td><td>539.02</td><td>0.0</td><td>7739.025</td><td>194.79</td><td>null</td><td>null</td><td>2024-12-15 06:06:...</td></tr>\n",
       "<tr><td>69652408</td><td>1500.0</td><td>317.81</td><td>0.0</td><td>1817.8054</td><td>246.22</td><td>null</td><td>null</td><td>2024-12-15 06:06:...</td></tr>\n",
       "<tr><td>68756432</td><td>17271.58</td><td>6819.29</td><td>0.0</td><td>24090.87</td><td>634.47</td><td>Apr-2019</td><td>Apr-2019</td><td>2024-12-15 06:06:...</td></tr>\n",
       "</table>\n",
       "only showing top 20 rows\n"
      ],
      "text/plain": [
       "+--------+------------------------+-----------------------+-----------------------+----------------------+-------------------+-----------------+-----------------+--------------------+\n",
       "| loan_id|total_principal_received|total_interest_received|total_late_fee_received|total_payment_received|last_payment_amount|last_payment_date|next_payment_date|         ingest_date|\n",
       "+--------+------------------------+-----------------------+-----------------------+----------------------+-------------------+-----------------+-----------------+--------------------+\n",
       "|69642551|                 3246.03|                 990.53|                    0.0|               4965.02|             326.35|             null|             null|2024-12-15 06:06:...|\n",
       "|69336966|                 12000.0|                 1080.5|                    0.0|               13080.5|            9501.81|             null|             null|2024-12-15 06:06:...|\n",
       "|69226186|                 28000.0|                3049.36|                    0.0|             31049.361|            9306.81|             null|             null|2024-12-15 06:06:...|\n",
       "|69084024|                 16500.0|                 900.32|                    0.0|              17400.32|           14085.82|             null|             null|2024-12-15 06:06:...|\n",
       "|69422635|                 21000.0|                4452.42|                    0.0|             25452.418|           12705.78|             null|             null|2024-12-15 06:06:...|\n",
       "|69542436|                 1220.15|                1252.23|                    0.0|               4533.19|             497.94|             null|             null|2024-12-15 06:06:...|\n",
       "|69492501|                 29000.0|                5405.32|                   47.8|              34453.12|             771.08|         Apr-2019|         Apr-2019|2024-12-15 06:06:...|\n",
       "|69522527|                 33000.0|                2092.69|                    0.0|              35092.69|              65.34|             null|             null|2024-12-15 06:06:...|\n",
       "|68781653|                 18000.0|                4167.34|                    0.0|             22167.344|           13021.32|             null|             null|2024-12-15 06:06:...|\n",
       "|69371334|                 16000.0|                 1140.7|                    0.0|             17140.701|           13910.33|             null|             null|2024-12-15 06:06:...|\n",
       "|68714098|                 15000.0|                1665.34|                    0.0|             16665.336|             463.01|             null|             null|2024-12-15 06:06:...|\n",
       "|69622505|                14993.49|               15587.45|                    0.0|              30580.94|             925.15|         Apr-2019|         Apr-2019|2024-12-15 06:06:...|\n",
       "|69084020|                 8191.71|                2319.93|                    0.0|              11211.64|             403.64|             null|             null|2024-12-15 06:06:...|\n",
       "|69552651|                13221.14|                7957.71|                    0.0|              21178.85|             558.32|         Apr-2019|         Apr-2019|2024-12-15 06:06:...|\n",
       "|69084037|                  7200.0|                  983.7|                    0.0|             8183.7036|            4153.17|             null|             null|2024-12-15 06:06:...|\n",
       "|69612464|                 2189.97|                 342.22|                    0.0|               2532.19|              78.91|             null|             null|2024-12-15 06:06:...|\n",
       "|69562380|                11481.73|               10842.62|                    0.0|              22324.35|             588.13|         Apr-2019|         Apr-2019|2024-12-15 06:06:...|\n",
       "|69422542|                  7200.0|                 539.02|                    0.0|              7739.025|             194.79|             null|             null|2024-12-15 06:06:...|\n",
       "|69652408|                  1500.0|                 317.81|                    0.0|             1817.8054|             246.22|             null|             null|2024-12-15 06:06:...|\n",
       "|68756432|                17271.58|                6819.29|                    0.0|              24090.87|             634.47|         Apr-2019|         Apr-2019|2024-12-15 06:06:...|\n",
       "+--------+------------------------+-----------------------+-----------------------+----------------------+-------------------+-----------------+-----------------+--------------------+\n",
       "only showing top 20 rows"
      ]
     },
     "execution_count": 22,
     "metadata": {},
     "output_type": "execute_result"
    }
   ],
   "source": [
    "spark.sql(\"select * from itv012740_Lending_Club_Project_DB.loans_repayments\")"
   ]
  },
  {
   "cell_type": "code",
   "execution_count": 3,
   "id": "1d8b6553",
   "metadata": {},
   "outputs": [
    {
     "data": {
      "text/html": [
       "<table border='1'>\n",
       "<tr><th></th></tr>\n",
       "</table>\n"
      ],
      "text/plain": [
       "++\n",
       "||\n",
       "++\n",
       "++"
      ]
     },
     "execution_count": 3,
     "metadata": {},
     "output_type": "execute_result"
    }
   ],
   "source": [
    "spark.sql(\"\"\"CREATE EXTERNAL TABLE itv012740_Lending_Club_Project_DB.loans_defaulters_delinq(\n",
    "member_id string, delinq_2yrs integer, delinq_amnt float, mths_since_last_delinq integer)\n",
    "stored as parquet LOCATION '/user/itv012740/lendingclubproject/raw/cleaned/loans_defaulters_deling_parquet'\"\"\")"
   ]
  },
  {
   "cell_type": "code",
   "execution_count": 5,
   "id": "6159219b",
   "metadata": {},
   "outputs": [
    {
     "data": {
      "text/html": [
       "<table border='1'>\n",
       "<tr><th>member_id</th><th>delinq_2yrs</th><th>delinq_amnt</th><th>mths_since_last_delinq</th></tr>\n",
       "<tr><td>b59d80da191f5b573...</td><td>0</td><td>0.0</td><td>31</td></tr>\n",
       "<tr><td>202d9f56ecb7c3bc9...</td><td>1</td><td>0.0</td><td>6</td></tr>\n",
       "<tr><td>e5a140c0922b554b9...</td><td>0</td><td>0.0</td><td>47</td></tr>\n",
       "<tr><td>e12aefc548f750777...</td><td>0</td><td>0.0</td><td>33</td></tr>\n",
       "<tr><td>1b3a50d854fbbf97e...</td><td>1</td><td>0.0</td><td>21</td></tr>\n",
       "<tr><td>9847d8c1e9d0b2084...</td><td>1</td><td>0.0</td><td>6</td></tr>\n",
       "<tr><td>8340dbe1adea41fb4...</td><td>0</td><td>0.0</td><td>36</td></tr>\n",
       "<tr><td>d4de0de3ab7d79ad4...</td><td>0</td><td>0.0</td><td>35</td></tr>\n",
       "<tr><td>1d4e1ef4353b73c00...</td><td>0</td><td>0.0</td><td>30</td></tr>\n",
       "<tr><td>6f196952e71277fd4...</td><td>4</td><td>0.0</td><td>5</td></tr>\n",
       "<tr><td>9c617cbc6e3e3d6a1...</td><td>1</td><td>0.0</td><td>20</td></tr>\n",
       "<tr><td>45eb04dd75400a942...</td><td>0</td><td>0.0</td><td>28</td></tr>\n",
       "<tr><td>8ff4d0ed17a1cab92...</td><td>1</td><td>0.0</td><td>15</td></tr>\n",
       "<tr><td>aec13cfd611b2cfea...</td><td>1</td><td>0.0</td><td>19</td></tr>\n",
       "<tr><td>9ba8c96ccba6cd1f0...</td><td>0</td><td>0.0</td><td>37</td></tr>\n",
       "<tr><td>2cf47faee0c996343...</td><td>0</td><td>0.0</td><td>24</td></tr>\n",
       "<tr><td>220e4dd490018abff...</td><td>0</td><td>0.0</td><td>57</td></tr>\n",
       "<tr><td>aaa32c29cb9ccc7ff...</td><td>0</td><td>0.0</td><td>35</td></tr>\n",
       "<tr><td>af7a8a661df3318bd...</td><td>2</td><td>0.0</td><td>7</td></tr>\n",
       "<tr><td>0e744cffa05697dfa...</td><td>0</td><td>0.0</td><td>45</td></tr>\n",
       "</table>\n",
       "only showing top 20 rows\n"
      ],
      "text/plain": [
       "+--------------------+-----------+-----------+----------------------+\n",
       "|           member_id|delinq_2yrs|delinq_amnt|mths_since_last_delinq|\n",
       "+--------------------+-----------+-----------+----------------------+\n",
       "|b59d80da191f5b573...|          0|        0.0|                    31|\n",
       "|202d9f56ecb7c3bc9...|          1|        0.0|                     6|\n",
       "|e5a140c0922b554b9...|          0|        0.0|                    47|\n",
       "|e12aefc548f750777...|          0|        0.0|                    33|\n",
       "|1b3a50d854fbbf97e...|          1|        0.0|                    21|\n",
       "|9847d8c1e9d0b2084...|          1|        0.0|                     6|\n",
       "|8340dbe1adea41fb4...|          0|        0.0|                    36|\n",
       "|d4de0de3ab7d79ad4...|          0|        0.0|                    35|\n",
       "|1d4e1ef4353b73c00...|          0|        0.0|                    30|\n",
       "|6f196952e71277fd4...|          4|        0.0|                     5|\n",
       "|9c617cbc6e3e3d6a1...|          1|        0.0|                    20|\n",
       "|45eb04dd75400a942...|          0|        0.0|                    28|\n",
       "|8ff4d0ed17a1cab92...|          1|        0.0|                    15|\n",
       "|aec13cfd611b2cfea...|          1|        0.0|                    19|\n",
       "|9ba8c96ccba6cd1f0...|          0|        0.0|                    37|\n",
       "|2cf47faee0c996343...|          0|        0.0|                    24|\n",
       "|220e4dd490018abff...|          0|        0.0|                    57|\n",
       "|aaa32c29cb9ccc7ff...|          0|        0.0|                    35|\n",
       "|af7a8a661df3318bd...|          2|        0.0|                     7|\n",
       "|0e744cffa05697dfa...|          0|        0.0|                    45|\n",
       "+--------------------+-----------+-----------+----------------------+\n",
       "only showing top 20 rows"
      ]
     },
     "execution_count": 5,
     "metadata": {},
     "output_type": "execute_result"
    }
   ],
   "source": [
    "spark.sql(\"select * from itv012740_Lending_Club_Project_DB.loans_defaulters_delinq\")"
   ]
  },
  {
   "cell_type": "code",
   "execution_count": 25,
   "id": "b26f2932",
   "metadata": {},
   "outputs": [
    {
     "data": {
      "text/html": [
       "<table border='1'>\n",
       "<tr><th></th></tr>\n",
       "</table>\n"
      ],
      "text/plain": [
       "++\n",
       "||\n",
       "++\n",
       "++"
      ]
     },
     "execution_count": 25,
     "metadata": {},
     "output_type": "execute_result"
    }
   ],
   "source": [
    "spark.sql(\"\"\"CREATE EXTERNAL TABLE itv012740_Lending_Club_Project_DB.loans_defaulters_detail_rec_enq(\n",
    "member_id string, pub_rec integer, pub_rec_bankruptcies integer, inq_last_6mths integer)\n",
    "stored as parquet LOCATION '/user/itv012740/lendingclubproject/raw/cleaned/loans_def_detail_records_enq_df_parquet'\"\"\")"
   ]
  },
  {
   "cell_type": "code",
   "execution_count": 26,
   "id": "f2915498",
   "metadata": {},
   "outputs": [
    {
     "data": {
      "text/html": [
       "<table border='1'>\n",
       "<tr><th>member_id</th><th>pub_rec</th><th>pub_rec_bankruptcies</th><th>inq_last_6mths</th></tr>\n",
       "<tr><td>b59d80da191f5b573...</td><td>0</td><td>0</td><td>1</td></tr>\n",
       "<tr><td>202d9f56ecb7c3bc9...</td><td>0</td><td>0</td><td>0</td></tr>\n",
       "<tr><td>e5a140c0922b554b9...</td><td>0</td><td>0</td><td>0</td></tr>\n",
       "<tr><td>e12aefc548f750777...</td><td>0</td><td>0</td><td>0</td></tr>\n",
       "<tr><td>1b3a50d854fbbf97e...</td><td>0</td><td>0</td><td>0</td></tr>\n",
       "<tr><td>1c4329e5f17697127...</td><td>0</td><td>0</td><td>0</td></tr>\n",
       "<tr><td>5026c86ad983175eb...</td><td>1</td><td>0</td><td>2</td></tr>\n",
       "<tr><td>9847d8c1e9d0b2084...</td><td>2</td><td>0</td><td>0</td></tr>\n",
       "<tr><td>8340dbe1adea41fb4...</td><td>0</td><td>0</td><td>0</td></tr>\n",
       "<tr><td>d4de0de3ab7d79ad4...</td><td>0</td><td>0</td><td>0</td></tr>\n",
       "<tr><td>3df3cdeddb74a8712...</td><td>0</td><td>0</td><td>0</td></tr>\n",
       "<tr><td>9dd72636b1b4045b4...</td><td>0</td><td>0</td><td>3</td></tr>\n",
       "<tr><td>1d4e1ef4353b73c00...</td><td>0</td><td>0</td><td>2</td></tr>\n",
       "<tr><td>6f196952e71277fd4...</td><td>0</td><td>0</td><td>0</td></tr>\n",
       "<tr><td>9c617cbc6e3e3d6a1...</td><td>0</td><td>0</td><td>2</td></tr>\n",
       "<tr><td>45eb04dd75400a942...</td><td>0</td><td>0</td><td>2</td></tr>\n",
       "<tr><td>08d233c81f9e50726...</td><td>0</td><td>0</td><td>1</td></tr>\n",
       "<tr><td>8ff4d0ed17a1cab92...</td><td>2</td><td>0</td><td>2</td></tr>\n",
       "<tr><td>aec13cfd611b2cfea...</td><td>0</td><td>0</td><td>1</td></tr>\n",
       "<tr><td>9ba8c96ccba6cd1f0...</td><td>0</td><td>0</td><td>0</td></tr>\n",
       "</table>\n",
       "only showing top 20 rows\n"
      ],
      "text/plain": [
       "+--------------------+-------+--------------------+--------------+\n",
       "|           member_id|pub_rec|pub_rec_bankruptcies|inq_last_6mths|\n",
       "+--------------------+-------+--------------------+--------------+\n",
       "|b59d80da191f5b573...|      0|                   0|             1|\n",
       "|202d9f56ecb7c3bc9...|      0|                   0|             0|\n",
       "|e5a140c0922b554b9...|      0|                   0|             0|\n",
       "|e12aefc548f750777...|      0|                   0|             0|\n",
       "|1b3a50d854fbbf97e...|      0|                   0|             0|\n",
       "|1c4329e5f17697127...|      0|                   0|             0|\n",
       "|5026c86ad983175eb...|      1|                   0|             2|\n",
       "|9847d8c1e9d0b2084...|      2|                   0|             0|\n",
       "|8340dbe1adea41fb4...|      0|                   0|             0|\n",
       "|d4de0de3ab7d79ad4...|      0|                   0|             0|\n",
       "|3df3cdeddb74a8712...|      0|                   0|             0|\n",
       "|9dd72636b1b4045b4...|      0|                   0|             3|\n",
       "|1d4e1ef4353b73c00...|      0|                   0|             2|\n",
       "|6f196952e71277fd4...|      0|                   0|             0|\n",
       "|9c617cbc6e3e3d6a1...|      0|                   0|             2|\n",
       "|45eb04dd75400a942...|      0|                   0|             2|\n",
       "|08d233c81f9e50726...|      0|                   0|             1|\n",
       "|8ff4d0ed17a1cab92...|      2|                   0|             2|\n",
       "|aec13cfd611b2cfea...|      0|                   0|             1|\n",
       "|9ba8c96ccba6cd1f0...|      0|                   0|             0|\n",
       "+--------------------+-------+--------------------+--------------+\n",
       "only showing top 20 rows"
      ]
     },
     "execution_count": 26,
     "metadata": {},
     "output_type": "execute_result"
    }
   ],
   "source": [
    "spark.sql(\"select * from itv012740_Lending_Club_Project_DB.loans_defaulters_detail_rec_enq\")"
   ]
  },
  {
   "cell_type": "code",
   "execution_count": 12,
   "id": "c4acce4c",
   "metadata": {},
   "outputs": [],
   "source": [
    "spark.stop()"
   ]
  },
  {
   "cell_type": "code",
   "execution_count": null,
   "id": "02778e15",
   "metadata": {},
   "outputs": [],
   "source": []
  }
 ],
 "metadata": {
  "kernelspec": {
   "display_name": "Pyspark 3",
   "language": "python",
   "name": "pyspark3"
  },
  "language_info": {
   "codemirror_mode": {
    "name": "ipython",
    "version": 3
   },
   "file_extension": ".py",
   "mimetype": "text/x-python",
   "name": "python",
   "nbconvert_exporter": "python",
   "pygments_lexer": "ipython3",
   "version": "3.6.12"
  }
 },
 "nbformat": 4,
 "nbformat_minor": 5
}
