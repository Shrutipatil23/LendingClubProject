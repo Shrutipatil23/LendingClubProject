{
 "cells": [
  {
   "cell_type": "code",
   "execution_count": 1,
   "id": "1a36fbbf",
   "metadata": {},
   "outputs": [],
   "source": [
    "from pyspark.sql import SparkSession\n",
    "import getpass \n",
    "username=getpass.getuser()\n",
    "spark=SparkSession. \\\n",
    "    builder. \\\n",
    "    config('spark.ui.port','0'). \\\n",
    "    config(\"spark.sql.warehouse.dir\", f\"/user/itv012740/warehouse\"). \\\n",
    "    config('spark.shuffle.useOldFetchProtocol', 'true'). \\\n",
    "    enableHiveSupport(). \\\n",
    "    master('yarn'). \\\n",
    "    getOrCreate()"
   ]
  },
  {
   "cell_type": "code",
   "execution_count": 2,
   "id": "f949964c",
   "metadata": {},
   "outputs": [],
   "source": [
    "loans_def_raw_df = spark.read \\\n",
    ".format(\"csv\") \\\n",
    ".option(\"header\",True) \\\n",
    ".option(\"inferSchema\", True) \\\n",
    ".load(\"/user/itv012740/lendingclubproject/raw/loans_defaulters_csv\")"
   ]
  },
  {
   "cell_type": "code",
   "execution_count": 3,
   "id": "f17e2260",
   "metadata": {},
   "outputs": [
    {
     "data": {
      "text/html": [
       "<table border='1'>\n",
       "<tr><th>member_id</th><th>delinq_2yrs</th><th>delinq_amnt</th><th>pub_rec</th><th>pub_rec_bankruptcies</th><th>inq_last_6mths</th><th>total_rec_late_fee</th><th>mths_since_last_delinq</th><th>mths_since_last_record</th></tr>\n",
       "<tr><td>b59d80da191f5b573...</td><td>0.0</td><td>0.0</td><td>0.0</td><td>0.0</td><td>1.0</td><td>0.0</td><td>31.0</td><td>null</td></tr>\n",
       "<tr><td>202d9f56ecb7c3bc9...</td><td>1.0</td><td>0.0</td><td>0.0</td><td>0.0</td><td>0.0</td><td>0.0</td><td>6.0</td><td>null</td></tr>\n",
       "<tr><td>e5a140c0922b554b9...</td><td>0.0</td><td>0.0</td><td>0.0</td><td>0.0</td><td>0.0</td><td>0.0</td><td>47.0</td><td>null</td></tr>\n",
       "<tr><td>e12aefc548f750777...</td><td>0.0</td><td>0.0</td><td>0.0</td><td>0.0</td><td>0.0</td><td>0.0</td><td>33.0</td><td>null</td></tr>\n",
       "<tr><td>1b3a50d854fbbf97e...</td><td>1.0</td><td>0.0</td><td>0.0</td><td>0.0</td><td>0.0</td><td>0.0</td><td>21.0</td><td>null</td></tr>\n",
       "<tr><td>1c4329e5f17697127...</td><td>0.0</td><td>0.0</td><td>0.0</td><td>0.0</td><td>0.0</td><td>0.0</td><td>null</td><td>null</td></tr>\n",
       "<tr><td>5026c86ad983175eb...</td><td>0.0</td><td>0.0</td><td>1.0</td><td>0.0</td><td>2.0</td><td>0.0</td><td>null</td><td>71.0</td></tr>\n",
       "<tr><td>9847d8c1e9d0b2084...</td><td>1.0</td><td>0.0</td><td>2.0</td><td>0.0</td><td>0.0</td><td>0.0</td><td>6.0</td><td>63.0</td></tr>\n",
       "<tr><td>8340dbe1adea41fb4...</td><td>0.0</td><td>0.0</td><td>0.0</td><td>0.0</td><td>0.0</td><td>0.0</td><td>36.0</td><td>null</td></tr>\n",
       "<tr><td>d4de0de3ab7d79ad4...</td><td>0.0</td><td>0.0</td><td>0.0</td><td>0.0</td><td>0.0</td><td>0.0</td><td>35.0</td><td>null</td></tr>\n",
       "<tr><td>3df3cdeddb74a8712...</td><td>0.0</td><td>0.0</td><td>0.0</td><td>0.0</td><td>0.0</td><td>0.0</td><td>null</td><td>null</td></tr>\n",
       "<tr><td>9dd72636b1b4045b4...</td><td>0.0</td><td>0.0</td><td>0.0</td><td>0.0</td><td>3.0</td><td>0.0</td><td>null</td><td>null</td></tr>\n",
       "<tr><td>1d4e1ef4353b73c00...</td><td>0.0</td><td>0.0</td><td>0.0</td><td>0.0</td><td>2.0</td><td>0.0</td><td>30.0</td><td>null</td></tr>\n",
       "<tr><td>6f196952e71277fd4...</td><td>4.0</td><td>0.0</td><td>0.0</td><td>0.0</td><td>0.0</td><td>0.0</td><td>5.0</td><td>null</td></tr>\n",
       "<tr><td>9c617cbc6e3e3d6a1...</td><td>1.0</td><td>0.0</td><td>0.0</td><td>0.0</td><td>2.0</td><td>0.0</td><td>20.0</td><td>null</td></tr>\n",
       "<tr><td>45eb04dd75400a942...</td><td>0.0</td><td>0.0</td><td>0.0</td><td>0.0</td><td>2.0</td><td>0.0</td><td>28.0</td><td>null</td></tr>\n",
       "<tr><td>08d233c81f9e50726...</td><td>0.0</td><td>0.0</td><td>0.0</td><td>0.0</td><td>1.0</td><td>0.0</td><td>null</td><td>null</td></tr>\n",
       "<tr><td>8ff4d0ed17a1cab92...</td><td>1.0</td><td>0.0</td><td>2.0</td><td>0.0</td><td>2.0</td><td>0.0</td><td>15.0</td><td>32.0</td></tr>\n",
       "<tr><td>aec13cfd611b2cfea...</td><td>1.0</td><td>0.0</td><td>0.0</td><td>0.0</td><td>1.0</td><td>0.0</td><td>19.0</td><td>null</td></tr>\n",
       "<tr><td>9ba8c96ccba6cd1f0...</td><td>0.0</td><td>0.0</td><td>0.0</td><td>0.0</td><td>0.0</td><td>0.0</td><td>37.0</td><td>null</td></tr>\n",
       "</table>\n",
       "only showing top 20 rows\n"
      ],
      "text/plain": [
       "+--------------------+-----------+-----------+-------+--------------------+--------------+------------------+----------------------+----------------------+\n",
       "|           member_id|delinq_2yrs|delinq_amnt|pub_rec|pub_rec_bankruptcies|inq_last_6mths|total_rec_late_fee|mths_since_last_delinq|mths_since_last_record|\n",
       "+--------------------+-----------+-----------+-------+--------------------+--------------+------------------+----------------------+----------------------+\n",
       "|b59d80da191f5b573...|        0.0|        0.0|    0.0|                 0.0|           1.0|               0.0|                  31.0|                  null|\n",
       "|202d9f56ecb7c3bc9...|        1.0|        0.0|    0.0|                 0.0|           0.0|               0.0|                   6.0|                  null|\n",
       "|e5a140c0922b554b9...|        0.0|        0.0|    0.0|                 0.0|           0.0|               0.0|                  47.0|                  null|\n",
       "|e12aefc548f750777...|        0.0|        0.0|    0.0|                 0.0|           0.0|               0.0|                  33.0|                  null|\n",
       "|1b3a50d854fbbf97e...|        1.0|        0.0|    0.0|                 0.0|           0.0|               0.0|                  21.0|                  null|\n",
       "|1c4329e5f17697127...|        0.0|        0.0|    0.0|                 0.0|           0.0|               0.0|                  null|                  null|\n",
       "|5026c86ad983175eb...|        0.0|        0.0|    1.0|                 0.0|           2.0|               0.0|                  null|                  71.0|\n",
       "|9847d8c1e9d0b2084...|        1.0|        0.0|    2.0|                 0.0|           0.0|               0.0|                   6.0|                  63.0|\n",
       "|8340dbe1adea41fb4...|        0.0|        0.0|    0.0|                 0.0|           0.0|               0.0|                  36.0|                  null|\n",
       "|d4de0de3ab7d79ad4...|        0.0|        0.0|    0.0|                 0.0|           0.0|               0.0|                  35.0|                  null|\n",
       "|3df3cdeddb74a8712...|        0.0|        0.0|    0.0|                 0.0|           0.0|               0.0|                  null|                  null|\n",
       "|9dd72636b1b4045b4...|        0.0|        0.0|    0.0|                 0.0|           3.0|               0.0|                  null|                  null|\n",
       "|1d4e1ef4353b73c00...|        0.0|        0.0|    0.0|                 0.0|           2.0|               0.0|                  30.0|                  null|\n",
       "|6f196952e71277fd4...|        4.0|        0.0|    0.0|                 0.0|           0.0|               0.0|                   5.0|                  null|\n",
       "|9c617cbc6e3e3d6a1...|        1.0|        0.0|    0.0|                 0.0|           2.0|               0.0|                  20.0|                  null|\n",
       "|45eb04dd75400a942...|        0.0|        0.0|    0.0|                 0.0|           2.0|               0.0|                  28.0|                  null|\n",
       "|08d233c81f9e50726...|        0.0|        0.0|    0.0|                 0.0|           1.0|               0.0|                  null|                  null|\n",
       "|8ff4d0ed17a1cab92...|        1.0|        0.0|    2.0|                 0.0|           2.0|               0.0|                  15.0|                  32.0|\n",
       "|aec13cfd611b2cfea...|        1.0|        0.0|    0.0|                 0.0|           1.0|               0.0|                  19.0|                  null|\n",
       "|9ba8c96ccba6cd1f0...|        0.0|        0.0|    0.0|                 0.0|           0.0|               0.0|                  37.0|                  null|\n",
       "+--------------------+-----------+-----------+-------+--------------------+--------------+------------------+----------------------+----------------------+\n",
       "only showing top 20 rows"
      ]
     },
     "execution_count": 3,
     "metadata": {},
     "output_type": "execute_result"
    }
   ],
   "source": [
    "loans_def_raw_df"
   ]
  },
  {
   "cell_type": "code",
   "execution_count": 4,
   "id": "929a54b1",
   "metadata": {},
   "outputs": [
    {
     "name": "stdout",
     "output_type": "stream",
     "text": [
      "root\n",
      " |-- member_id: string (nullable = true)\n",
      " |-- delinq_2yrs: string (nullable = true)\n",
      " |-- delinq_amnt: double (nullable = true)\n",
      " |-- pub_rec: string (nullable = true)\n",
      " |-- pub_rec_bankruptcies: double (nullable = true)\n",
      " |-- inq_last_6mths: string (nullable = true)\n",
      " |-- total_rec_late_fee: string (nullable = true)\n",
      " |-- mths_since_last_delinq: string (nullable = true)\n",
      " |-- mths_since_last_record: string (nullable = true)\n",
      "\n"
     ]
    }
   ],
   "source": [
    "loans_def_raw_df.printSchema()"
   ]
  },
  {
   "cell_type": "code",
   "execution_count": 5,
   "id": "a00f48f5",
   "metadata": {},
   "outputs": [],
   "source": [
    "loans_def_raw_df.createOrReplaceTempView(\"loan_defaulters\")"
   ]
  },
  {
   "cell_type": "code",
   "execution_count": 7,
   "id": "490549ea",
   "metadata": {},
   "outputs": [
    {
     "data": {
      "text/html": [
       "<table border='1'>\n",
       "<tr><th>delinq_2yrs</th></tr>\n",
       "<tr><td>1.0</td></tr>\n",
       "<tr><td>271 monthly payme...</td></tr>\n",
       "<tr><td>I bike to work on...</td></tr>\n",
       "<tr><td>183xx</td></tr>\n",
       "<tr><td>VISA and AMEX cre...</td></tr>\n",
       "<tr><td>etc. and I feel t...</td></tr>\n",
       "<tr><td>AZ</td></tr>\n",
       "<tr><td>017xx</td></tr>\n",
       "<tr><td>923xx</td></tr>\n",
       "<tr><td>446xx</td></tr>\n",
       "<tr><td>who is a financia...</td></tr>\n",
       "<tr><td>and all of that c...</td></tr>\n",
       "<tr><td>LA</td></tr>\n",
       "<tr><td>24.66</td></tr>\n",
       "<tr><td>and the removal o...</td></tr>\n",
       "<tr><td>I would like to c...</td></tr>\n",
       "<tr><td>12.24</td></tr>\n",
       "<tr><td>22.0</td></tr>\n",
       "<tr><td>so most of my inc...</td></tr>\n",
       "<tr><td>I would like to p...</td></tr>\n",
       "</table>\n",
       "only showing top 20 rows\n"
      ],
      "text/plain": [
       "+--------------------+\n",
       "|         delinq_2yrs|\n",
       "+--------------------+\n",
       "|                 1.0|\n",
       "|271 monthly payme...|\n",
       "|I bike to work on...|\n",
       "|               183xx|\n",
       "|VISA and AMEX cre...|\n",
       "|etc. and I feel t...|\n",
       "|                  AZ|\n",
       "|               017xx|\n",
       "|               923xx|\n",
       "|               446xx|\n",
       "|who is a financia...|\n",
       "|and all of that c...|\n",
       "|                  LA|\n",
       "|               24.66|\n",
       "|and the removal o...|\n",
       "|I would like to c...|\n",
       "|               12.24|\n",
       "|                22.0|\n",
       "|so most of my inc...|\n",
       "|I would like to p...|\n",
       "+--------------------+\n",
       "only showing top 20 rows"
      ]
     },
     "execution_count": 7,
     "metadata": {},
     "output_type": "execute_result"
    }
   ],
   "source": [
    "spark.sql(\"select distinct(delinq_2yrs) from loan_defaulters\")"
   ]
  },
  {
   "cell_type": "code",
   "execution_count": 8,
   "id": "0841942a",
   "metadata": {},
   "outputs": [
    {
     "name": "stdout",
     "output_type": "stream",
     "text": [
      "+------------------+-------+\n",
      "|       delinq_2yrs|  total|\n",
      "+------------------+-------+\n",
      "|               0.0|1838878|\n",
      "|               1.0| 281335|\n",
      "|               2.0|  81285|\n",
      "|               3.0|  29539|\n",
      "|               4.0|  13179|\n",
      "|               5.0|   6599|\n",
      "|               6.0|   3717|\n",
      "|               7.0|   2062|\n",
      "|               8.0|   1223|\n",
      "|               9.0|    818|\n",
      "|              10.0|    556|\n",
      "|              11.0|    363|\n",
      "|              12.0|    264|\n",
      "|              13.0|    165|\n",
      "|              14.0|    120|\n",
      "|              15.0|     87|\n",
      "|              null|     63|\n",
      "|              16.0|     55|\n",
      "|              17.0|     30|\n",
      "|              18.0|     30|\n",
      "|              19.0|     23|\n",
      "|              20.0|     17|\n",
      "|              21.0|     12|\n",
      "|                CA|      8|\n",
      "|                TX|      6|\n",
      "|                IL|      5|\n",
      "|              22.0|      5|\n",
      "|    small_business|      5|\n",
      "|debt_consolidation|      5|\n",
      "|              24.0|      4|\n",
      "|                FL|      4|\n",
      "|              26.0|      3|\n",
      "|                NY|      3|\n",
      "|                NJ|      3|\n",
      "|             452xx|      3|\n",
      "|              29.0|      2|\n",
      "|             other|      2|\n",
      "|              30.0|      2|\n",
      "|              23.0|      2|\n",
      "|       credit_card|      2|\n",
      "+------------------+-------+\n",
      "only showing top 40 rows\n",
      "\n"
     ]
    }
   ],
   "source": [
    "spark.sql(\"select delinq_2yrs, count(*) as total from loan_defaulters group by delinq_2yrs order by total desc\").show(40)"
   ]
  },
  {
   "cell_type": "code",
   "execution_count": 9,
   "id": "97a70afb",
   "metadata": {},
   "outputs": [],
   "source": [
    "loan_defaulters_schema = \"member_id string, delinq_2yrs float, delinq_amnt float, pub_rec float, pub_rec_bankruptcies float,inq_last_6mths float, total_rec_late_fee float, mths_since_last_delinq float, mths_since_last_record float\""
   ]
  },
  {
   "cell_type": "code",
   "execution_count": 10,
   "id": "69575dae",
   "metadata": {},
   "outputs": [],
   "source": [
    "loans_def_raw_df = spark.read \\\n",
    ".format(\"csv\") \\\n",
    ".option(\"header\",True) \\\n",
    ".schema(loan_defaulters_schema) \\\n",
    ".load(\"/user/itv012740/lendingclubproject/raw/loans_defaulters_csv\")"
   ]
  },
  {
   "cell_type": "code",
   "execution_count": 11,
   "id": "aaac6ecc",
   "metadata": {},
   "outputs": [],
   "source": [
    "loans_def_raw_df.createOrReplaceTempView(\"loan_defaulters\")"
   ]
  },
  {
   "cell_type": "code",
   "execution_count": 12,
   "id": "4724ec18",
   "metadata": {},
   "outputs": [
    {
     "name": "stdout",
     "output_type": "stream",
     "text": [
      "+-----------+-------+\n",
      "|delinq_2yrs|  total|\n",
      "+-----------+-------+\n",
      "|        0.0|1838878|\n",
      "|        1.0| 281335|\n",
      "|        2.0|  81285|\n",
      "|        3.0|  29539|\n",
      "|        4.0|  13179|\n",
      "|        5.0|   6599|\n",
      "|        6.0|   3717|\n",
      "|        7.0|   2062|\n",
      "|        8.0|   1223|\n",
      "|        9.0|    818|\n",
      "|       10.0|    556|\n",
      "|       11.0|    363|\n",
      "|       12.0|    264|\n",
      "|       null|    261|\n",
      "|       13.0|    165|\n",
      "|       14.0|    120|\n",
      "|       15.0|     87|\n",
      "|       16.0|     55|\n",
      "|       18.0|     30|\n",
      "|       17.0|     30|\n",
      "|       19.0|     23|\n",
      "|       20.0|     17|\n",
      "|       21.0|     12|\n",
      "|       22.0|      5|\n",
      "|       24.0|      4|\n",
      "|       26.0|      3|\n",
      "|       23.0|      2|\n",
      "|       25.0|      2|\n",
      "|       3.44|      2|\n",
      "|       30.0|      2|\n",
      "|       29.0|      2|\n",
      "|       3.45|      1|\n",
      "|      13.76|      1|\n",
      "|      21.72|      1|\n",
      "|       58.0|      1|\n",
      "|      17.17|      1|\n",
      "|       6.52|      1|\n",
      "|       5.52|      1|\n",
      "|      22.95|      1|\n",
      "|      22.62|      1|\n",
      "+-----------+-------+\n",
      "only showing top 40 rows\n",
      "\n"
     ]
    }
   ],
   "source": [
    "spark.sql(\"select delinq_2yrs, count(*) as total from loan_defaulters group by delinq_2yrs order by total desc\").show(40)"
   ]
  },
  {
   "cell_type": "code",
   "execution_count": 13,
   "id": "8b859bac",
   "metadata": {},
   "outputs": [],
   "source": [
    "from pyspark.sql.functions import col"
   ]
  },
  {
   "cell_type": "code",
   "execution_count": 14,
   "id": "c1ffffdf",
   "metadata": {},
   "outputs": [],
   "source": [
    "loans_def_processed_df = loans_def_raw_df.withColumn(\"delinq_2yrs\", col(\"delinq_2yrs\").cast(\"integer\")).fillna(0, subset = [\"delinq_2yrs\"])"
   ]
  },
  {
   "cell_type": "code",
   "execution_count": 15,
   "id": "47129744",
   "metadata": {},
   "outputs": [],
   "source": [
    "loans_def_processed_df.createOrReplaceTempView(\"loan_defaulters\")"
   ]
  },
  {
   "cell_type": "code",
   "execution_count": 16,
   "id": "57152e29",
   "metadata": {},
   "outputs": [
    {
     "data": {
      "text/html": [
       "<table border='1'>\n",
       "<tr><th>count(1)</th></tr>\n",
       "<tr><td>0</td></tr>\n",
       "</table>\n"
      ],
      "text/plain": [
       "+--------+\n",
       "|count(1)|\n",
       "+--------+\n",
       "|       0|\n",
       "+--------+"
      ]
     },
     "execution_count": 16,
     "metadata": {},
     "output_type": "execute_result"
    }
   ],
   "source": [
    "spark.sql(\"select count(*) from loan_defaulters where delinq_2yrs is null\")"
   ]
  },
  {
   "cell_type": "code",
   "execution_count": 17,
   "id": "2d106125",
   "metadata": {},
   "outputs": [
    {
     "name": "stdout",
     "output_type": "stream",
     "text": [
      "+-----------+-------+\n",
      "|delinq_2yrs|  total|\n",
      "+-----------+-------+\n",
      "|          0|1839141|\n",
      "|          1| 281337|\n",
      "|          2|  81285|\n",
      "|          3|  29545|\n",
      "|          4|  13180|\n",
      "|          5|   6601|\n",
      "|          6|   3719|\n",
      "|          7|   2063|\n",
      "|          8|   1226|\n",
      "|          9|    821|\n",
      "|         10|    558|\n",
      "|         11|    363|\n",
      "|         12|    266|\n",
      "|         13|    167|\n",
      "|         14|    123|\n",
      "|         15|     90|\n",
      "|         16|     56|\n",
      "|         17|     33|\n",
      "|         18|     32|\n",
      "|         19|     24|\n",
      "|         20|     19|\n",
      "|         21|     16|\n",
      "|         22|      7|\n",
      "|         24|      6|\n",
      "|         23|      5|\n",
      "|         26|      4|\n",
      "|         29|      2|\n",
      "|         25|      2|\n",
      "|         30|      2|\n",
      "|         28|      1|\n",
      "|         27|      1|\n",
      "|         32|      1|\n",
      "|         35|      1|\n",
      "|         39|      1|\n",
      "|         58|      1|\n",
      "|         42|      1|\n",
      "|         36|      1|\n",
      "+-----------+-------+\n",
      "\n"
     ]
    }
   ],
   "source": [
    "spark.sql(\"select delinq_2yrs, count(*) as total from loan_defaulters group by delinq_2yrs order by total desc\").show(40)"
   ]
  },
  {
   "cell_type": "code",
   "execution_count": 18,
   "id": "5764f2af",
   "metadata": {},
   "outputs": [],
   "source": [
    "loans_def_delinq_df = spark.sql(\"select member_id,delinq_2yrs, delinq_amnt, int(mths_since_last_delinq) from loan_defaulters where delinq_2yrs > 0 or mths_since_last_delinq > 0\")"
   ]
  },
  {
   "cell_type": "code",
   "execution_count": 19,
   "id": "d5a52b9a",
   "metadata": {},
   "outputs": [
    {
     "data": {
      "text/html": [
       "<table border='1'>\n",
       "<tr><th>member_id</th><th>delinq_2yrs</th><th>delinq_amnt</th><th>mths_since_last_delinq</th></tr>\n",
       "<tr><td>b59d80da191f5b573...</td><td>0</td><td>0.0</td><td>31</td></tr>\n",
       "<tr><td>202d9f56ecb7c3bc9...</td><td>1</td><td>0.0</td><td>6</td></tr>\n",
       "<tr><td>e5a140c0922b554b9...</td><td>0</td><td>0.0</td><td>47</td></tr>\n",
       "<tr><td>e12aefc548f750777...</td><td>0</td><td>0.0</td><td>33</td></tr>\n",
       "<tr><td>1b3a50d854fbbf97e...</td><td>1</td><td>0.0</td><td>21</td></tr>\n",
       "<tr><td>9847d8c1e9d0b2084...</td><td>1</td><td>0.0</td><td>6</td></tr>\n",
       "<tr><td>8340dbe1adea41fb4...</td><td>0</td><td>0.0</td><td>36</td></tr>\n",
       "<tr><td>d4de0de3ab7d79ad4...</td><td>0</td><td>0.0</td><td>35</td></tr>\n",
       "<tr><td>1d4e1ef4353b73c00...</td><td>0</td><td>0.0</td><td>30</td></tr>\n",
       "<tr><td>6f196952e71277fd4...</td><td>4</td><td>0.0</td><td>5</td></tr>\n",
       "<tr><td>9c617cbc6e3e3d6a1...</td><td>1</td><td>0.0</td><td>20</td></tr>\n",
       "<tr><td>45eb04dd75400a942...</td><td>0</td><td>0.0</td><td>28</td></tr>\n",
       "<tr><td>8ff4d0ed17a1cab92...</td><td>1</td><td>0.0</td><td>15</td></tr>\n",
       "<tr><td>aec13cfd611b2cfea...</td><td>1</td><td>0.0</td><td>19</td></tr>\n",
       "<tr><td>9ba8c96ccba6cd1f0...</td><td>0</td><td>0.0</td><td>37</td></tr>\n",
       "<tr><td>2cf47faee0c996343...</td><td>0</td><td>0.0</td><td>24</td></tr>\n",
       "<tr><td>220e4dd490018abff...</td><td>0</td><td>0.0</td><td>57</td></tr>\n",
       "<tr><td>aaa32c29cb9ccc7ff...</td><td>0</td><td>0.0</td><td>35</td></tr>\n",
       "<tr><td>af7a8a661df3318bd...</td><td>2</td><td>0.0</td><td>7</td></tr>\n",
       "<tr><td>0e744cffa05697dfa...</td><td>0</td><td>0.0</td><td>45</td></tr>\n",
       "</table>\n",
       "only showing top 20 rows\n"
      ],
      "text/plain": [
       "+--------------------+-----------+-----------+----------------------+\n",
       "|           member_id|delinq_2yrs|delinq_amnt|mths_since_last_delinq|\n",
       "+--------------------+-----------+-----------+----------------------+\n",
       "|b59d80da191f5b573...|          0|        0.0|                    31|\n",
       "|202d9f56ecb7c3bc9...|          1|        0.0|                     6|\n",
       "|e5a140c0922b554b9...|          0|        0.0|                    47|\n",
       "|e12aefc548f750777...|          0|        0.0|                    33|\n",
       "|1b3a50d854fbbf97e...|          1|        0.0|                    21|\n",
       "|9847d8c1e9d0b2084...|          1|        0.0|                     6|\n",
       "|8340dbe1adea41fb4...|          0|        0.0|                    36|\n",
       "|d4de0de3ab7d79ad4...|          0|        0.0|                    35|\n",
       "|1d4e1ef4353b73c00...|          0|        0.0|                    30|\n",
       "|6f196952e71277fd4...|          4|        0.0|                     5|\n",
       "|9c617cbc6e3e3d6a1...|          1|        0.0|                    20|\n",
       "|45eb04dd75400a942...|          0|        0.0|                    28|\n",
       "|8ff4d0ed17a1cab92...|          1|        0.0|                    15|\n",
       "|aec13cfd611b2cfea...|          1|        0.0|                    19|\n",
       "|9ba8c96ccba6cd1f0...|          0|        0.0|                    37|\n",
       "|2cf47faee0c996343...|          0|        0.0|                    24|\n",
       "|220e4dd490018abff...|          0|        0.0|                    57|\n",
       "|aaa32c29cb9ccc7ff...|          0|        0.0|                    35|\n",
       "|af7a8a661df3318bd...|          2|        0.0|                     7|\n",
       "|0e744cffa05697dfa...|          0|        0.0|                    45|\n",
       "+--------------------+-----------+-----------+----------------------+\n",
       "only showing top 20 rows"
      ]
     },
     "execution_count": 19,
     "metadata": {},
     "output_type": "execute_result"
    }
   ],
   "source": [
    "loans_def_delinq_df"
   ]
  },
  {
   "cell_type": "code",
   "execution_count": 20,
   "id": "12c77b64",
   "metadata": {},
   "outputs": [
    {
     "data": {
      "text/plain": [
       "1106163"
      ]
     },
     "execution_count": 20,
     "metadata": {},
     "output_type": "execute_result"
    }
   ],
   "source": [
    "loans_def_delinq_df.count()"
   ]
  },
  {
   "cell_type": "code",
   "execution_count": 21,
   "id": "a2c50402",
   "metadata": {},
   "outputs": [],
   "source": [
    "loans_def_records_enq_df = spark.sql(\"select member_id from loan_defaulters where pub_rec > 0.0 or pub_rec_bankruptcies > 0.0 or inq_last_6mths > 0.0\")"
   ]
  },
  {
   "cell_type": "code",
   "execution_count": 22,
   "id": "58b41b64",
   "metadata": {},
   "outputs": [
    {
     "data": {
      "text/html": [
       "<table border='1'>\n",
       "<tr><th>member_id</th></tr>\n",
       "<tr><td>b59d80da191f5b573...</td></tr>\n",
       "<tr><td>5026c86ad983175eb...</td></tr>\n",
       "<tr><td>9847d8c1e9d0b2084...</td></tr>\n",
       "<tr><td>9dd72636b1b4045b4...</td></tr>\n",
       "<tr><td>1d4e1ef4353b73c00...</td></tr>\n",
       "<tr><td>9c617cbc6e3e3d6a1...</td></tr>\n",
       "<tr><td>45eb04dd75400a942...</td></tr>\n",
       "<tr><td>08d233c81f9e50726...</td></tr>\n",
       "<tr><td>8ff4d0ed17a1cab92...</td></tr>\n",
       "<tr><td>aec13cfd611b2cfea...</td></tr>\n",
       "<tr><td>9a51bdc18e2728f9d...</td></tr>\n",
       "<tr><td>2cf47faee0c996343...</td></tr>\n",
       "<tr><td>220e4dd490018abff...</td></tr>\n",
       "<tr><td>aaa32c29cb9ccc7ff...</td></tr>\n",
       "<tr><td>af7a8a661df3318bd...</td></tr>\n",
       "<tr><td>50616b8d1d05cb02a...</td></tr>\n",
       "<tr><td>fbee3f20b9ef84a11...</td></tr>\n",
       "<tr><td>09acc6aa8fd3b0bc8...</td></tr>\n",
       "<tr><td>54b5f6d81c74dd11c...</td></tr>\n",
       "<tr><td>176d6002f8f60ea33...</td></tr>\n",
       "</table>\n",
       "only showing top 20 rows\n"
      ],
      "text/plain": [
       "+--------------------+\n",
       "|           member_id|\n",
       "+--------------------+\n",
       "|b59d80da191f5b573...|\n",
       "|5026c86ad983175eb...|\n",
       "|9847d8c1e9d0b2084...|\n",
       "|9dd72636b1b4045b4...|\n",
       "|1d4e1ef4353b73c00...|\n",
       "|9c617cbc6e3e3d6a1...|\n",
       "|45eb04dd75400a942...|\n",
       "|08d233c81f9e50726...|\n",
       "|8ff4d0ed17a1cab92...|\n",
       "|aec13cfd611b2cfea...|\n",
       "|9a51bdc18e2728f9d...|\n",
       "|2cf47faee0c996343...|\n",
       "|220e4dd490018abff...|\n",
       "|aaa32c29cb9ccc7ff...|\n",
       "|af7a8a661df3318bd...|\n",
       "|50616b8d1d05cb02a...|\n",
       "|fbee3f20b9ef84a11...|\n",
       "|09acc6aa8fd3b0bc8...|\n",
       "|54b5f6d81c74dd11c...|\n",
       "|176d6002f8f60ea33...|\n",
       "+--------------------+\n",
       "only showing top 20 rows"
      ]
     },
     "execution_count": 22,
     "metadata": {},
     "output_type": "execute_result"
    }
   ],
   "source": [
    "loans_def_records_enq_df"
   ]
  },
  {
   "cell_type": "code",
   "execution_count": 23,
   "id": "65baa101",
   "metadata": {},
   "outputs": [
    {
     "data": {
      "text/plain": [
       "1070125"
      ]
     },
     "execution_count": 23,
     "metadata": {},
     "output_type": "execute_result"
    }
   ],
   "source": [
    "loans_def_records_enq_df.count()"
   ]
  },
  {
   "cell_type": "code",
   "execution_count": 24,
   "id": "f3106328",
   "metadata": {},
   "outputs": [],
   "source": [
    "loans_def_delinq_df.write \\\n",
    ".option(\"header\", True) \\\n",
    ".format(\"csv\") \\\n",
    ".mode(\"overwrite\") \\\n",
    ".option(\"path\", \"/user/itv012740/lendingclubproject/raw/cleaned/loans_defaulters_deling_csv\") \\\n",
    ".save()"
   ]
  },
  {
   "cell_type": "code",
   "execution_count": 25,
   "id": "39e1f0c1",
   "metadata": {},
   "outputs": [],
   "source": [
    "loans_def_delinq_df.write \\\n",
    ".format(\"parquet\") \\\n",
    ".mode(\"overwrite\") \\\n",
    ".option(\"path\", \"/user/itv012740/lendingclubproject/raw/cleaned/loans_defaulters_deling_parquet\") \\\n",
    ".save()"
   ]
  },
  {
   "cell_type": "code",
   "execution_count": 26,
   "id": "44ba9f2c",
   "metadata": {},
   "outputs": [],
   "source": [
    "loans_def_records_enq_df.write \\\n",
    ".option(\"header\", True) \\\n",
    ".format(\"csv\") \\\n",
    ".mode(\"overwrite\") \\\n",
    ".option(\"path\", \"/user/itv012740/lendingclubproject/raw/cleaned/loans_defaulters_records_enq_csv\") \\\n",
    ".save()"
   ]
  },
  {
   "cell_type": "code",
   "execution_count": 27,
   "id": "99758e60",
   "metadata": {},
   "outputs": [],
   "source": [
    "loans_def_records_enq_df.write \\\n",
    ".format(\"parquet\") \\\n",
    ".mode(\"overwrite\") \\\n",
    ".option(\"path\", \"/user/itv012740/lendingclubproject/raw/cleaned/loans_defaulters_records_enq_parquet\") \\\n",
    ".save()"
   ]
  },
  {
   "cell_type": "code",
   "execution_count": 28,
   "id": "8412d7b3",
   "metadata": {},
   "outputs": [],
   "source": [
    "loans_def_p_pub_rec_df = loans_def_processed_df.withColumn(\"pub_rec\", col(\"pub_rec\").cast(\"integer\")).fillna(0, subset = [\"pub_rec\"])"
   ]
  },
  {
   "cell_type": "code",
   "execution_count": 29,
   "id": "f29c6a28",
   "metadata": {},
   "outputs": [],
   "source": [
    "loans_def_p_pub_rec_bankruptcies_df = loans_def_p_pub_rec_df.withColumn(\"pub_rec_bankruptcies\", col(\"pub_rec_bankruptcies\").cast(\"integer\")).fillna(0, subset = [\"pub_rec_bankruptcies\"])"
   ]
  },
  {
   "cell_type": "code",
   "execution_count": 30,
   "id": "06ab3c2c",
   "metadata": {},
   "outputs": [],
   "source": [
    "loans_def_p_inq_last_6mths_df = loans_def_p_pub_rec_bankruptcies_df.withColumn(\"inq_last_6mths\", col(\"inq_last_6mths\").cast(\"integer\")).fillna(0, subset = [\"inq_last_6mths\"])"
   ]
  },
  {
   "cell_type": "code",
   "execution_count": 31,
   "id": "de054c7b",
   "metadata": {},
   "outputs": [],
   "source": [
    "loans_def_p_inq_last_6mths_df.createOrReplaceTempView(\"loan_defaulters\")"
   ]
  },
  {
   "cell_type": "code",
   "execution_count": 32,
   "id": "1b76b089",
   "metadata": {},
   "outputs": [],
   "source": [
    "loans_def_detail_records_enq_df = spark.sql(\"select member_id, pub_rec, pub_rec_bankruptcies, inq_last_6mths from loan_defaulters\")"
   ]
  },
  {
   "cell_type": "code",
   "execution_count": 33,
   "id": "d29b8348",
   "metadata": {},
   "outputs": [
    {
     "data": {
      "text/html": [
       "<table border='1'>\n",
       "<tr><th>member_id</th><th>pub_rec</th><th>pub_rec_bankruptcies</th><th>inq_last_6mths</th></tr>\n",
       "<tr><td>b59d80da191f5b573...</td><td>0</td><td>0</td><td>1</td></tr>\n",
       "<tr><td>202d9f56ecb7c3bc9...</td><td>0</td><td>0</td><td>0</td></tr>\n",
       "<tr><td>e5a140c0922b554b9...</td><td>0</td><td>0</td><td>0</td></tr>\n",
       "<tr><td>e12aefc548f750777...</td><td>0</td><td>0</td><td>0</td></tr>\n",
       "<tr><td>1b3a50d854fbbf97e...</td><td>0</td><td>0</td><td>0</td></tr>\n",
       "<tr><td>1c4329e5f17697127...</td><td>0</td><td>0</td><td>0</td></tr>\n",
       "<tr><td>5026c86ad983175eb...</td><td>1</td><td>0</td><td>2</td></tr>\n",
       "<tr><td>9847d8c1e9d0b2084...</td><td>2</td><td>0</td><td>0</td></tr>\n",
       "<tr><td>8340dbe1adea41fb4...</td><td>0</td><td>0</td><td>0</td></tr>\n",
       "<tr><td>d4de0de3ab7d79ad4...</td><td>0</td><td>0</td><td>0</td></tr>\n",
       "<tr><td>3df3cdeddb74a8712...</td><td>0</td><td>0</td><td>0</td></tr>\n",
       "<tr><td>9dd72636b1b4045b4...</td><td>0</td><td>0</td><td>3</td></tr>\n",
       "<tr><td>1d4e1ef4353b73c00...</td><td>0</td><td>0</td><td>2</td></tr>\n",
       "<tr><td>6f196952e71277fd4...</td><td>0</td><td>0</td><td>0</td></tr>\n",
       "<tr><td>9c617cbc6e3e3d6a1...</td><td>0</td><td>0</td><td>2</td></tr>\n",
       "<tr><td>45eb04dd75400a942...</td><td>0</td><td>0</td><td>2</td></tr>\n",
       "<tr><td>08d233c81f9e50726...</td><td>0</td><td>0</td><td>1</td></tr>\n",
       "<tr><td>8ff4d0ed17a1cab92...</td><td>2</td><td>0</td><td>2</td></tr>\n",
       "<tr><td>aec13cfd611b2cfea...</td><td>0</td><td>0</td><td>1</td></tr>\n",
       "<tr><td>9ba8c96ccba6cd1f0...</td><td>0</td><td>0</td><td>0</td></tr>\n",
       "</table>\n",
       "only showing top 20 rows\n"
      ],
      "text/plain": [
       "+--------------------+-------+--------------------+--------------+\n",
       "|           member_id|pub_rec|pub_rec_bankruptcies|inq_last_6mths|\n",
       "+--------------------+-------+--------------------+--------------+\n",
       "|b59d80da191f5b573...|      0|                   0|             1|\n",
       "|202d9f56ecb7c3bc9...|      0|                   0|             0|\n",
       "|e5a140c0922b554b9...|      0|                   0|             0|\n",
       "|e12aefc548f750777...|      0|                   0|             0|\n",
       "|1b3a50d854fbbf97e...|      0|                   0|             0|\n",
       "|1c4329e5f17697127...|      0|                   0|             0|\n",
       "|5026c86ad983175eb...|      1|                   0|             2|\n",
       "|9847d8c1e9d0b2084...|      2|                   0|             0|\n",
       "|8340dbe1adea41fb4...|      0|                   0|             0|\n",
       "|d4de0de3ab7d79ad4...|      0|                   0|             0|\n",
       "|3df3cdeddb74a8712...|      0|                   0|             0|\n",
       "|9dd72636b1b4045b4...|      0|                   0|             3|\n",
       "|1d4e1ef4353b73c00...|      0|                   0|             2|\n",
       "|6f196952e71277fd4...|      0|                   0|             0|\n",
       "|9c617cbc6e3e3d6a1...|      0|                   0|             2|\n",
       "|45eb04dd75400a942...|      0|                   0|             2|\n",
       "|08d233c81f9e50726...|      0|                   0|             1|\n",
       "|8ff4d0ed17a1cab92...|      2|                   0|             2|\n",
       "|aec13cfd611b2cfea...|      0|                   0|             1|\n",
       "|9ba8c96ccba6cd1f0...|      0|                   0|             0|\n",
       "+--------------------+-------+--------------------+--------------+\n",
       "only showing top 20 rows"
      ]
     },
     "execution_count": 33,
     "metadata": {},
     "output_type": "execute_result"
    }
   ],
   "source": [
    "loans_def_detail_records_enq_df"
   ]
  },
  {
   "cell_type": "code",
   "execution_count": 34,
   "id": "926ac106",
   "metadata": {},
   "outputs": [],
   "source": [
    "loans_def_detail_records_enq_df.write \\\n",
    ".option(\"header\", True) \\\n",
    ".format(\"csv\") \\\n",
    ".mode(\"overwrite\") \\\n",
    ".option(\"path\", \"/user/itv012740/lendingclubproject/raw/cleaned/loans_def_detail_records_enq_df_csv\") \\\n",
    ".save()"
   ]
  },
  {
   "cell_type": "code",
   "execution_count": 35,
   "id": "2525b7ba",
   "metadata": {},
   "outputs": [],
   "source": [
    "loans_def_detail_records_enq_df.write \\\n",
    ".format(\"parquet\") \\\n",
    ".mode(\"overwrite\") \\\n",
    ".option(\"path\", \"/user/itv012740/lendingclubproject/raw/cleaned/loans_def_detail_records_enq_df_parquet\") \\\n",
    ".save()"
   ]
  },
  {
   "cell_type": "code",
   "execution_count": null,
   "id": "17fa9ced",
   "metadata": {},
   "outputs": [],
   "source": []
  }
 ],
 "metadata": {
  "kernelspec": {
   "display_name": "Pyspark 3",
   "language": "python",
   "name": "pyspark3"
  },
  "language_info": {
   "codemirror_mode": {
    "name": "ipython",
    "version": 3
   },
   "file_extension": ".py",
   "mimetype": "text/x-python",
   "name": "python",
   "nbconvert_exporter": "python",
   "pygments_lexer": "ipython3",
   "version": "3.6.12"
  }
 },
 "nbformat": 4,
 "nbformat_minor": 5
}
