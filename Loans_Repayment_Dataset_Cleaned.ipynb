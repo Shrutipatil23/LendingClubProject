{
 "cells": [
  {
   "cell_type": "code",
   "execution_count": 1,
   "id": "0989e51a",
   "metadata": {},
   "outputs": [],
   "source": [
    "from pyspark.sql import SparkSession\n",
    "import getpass \n",
    "username=getpass.getuser()\n",
    "spark=SparkSession. \\\n",
    "    builder. \\\n",
    "    config('spark.ui.port','0'). \\\n",
    "    config(\"spark.sql.warehouse.dir\", f\"/user/itv012740/warehouse\"). \\\n",
    "    config('spark.shuffle.useOldFetchProtocol', 'true'). \\\n",
    "    enableHiveSupport(). \\\n",
    "    master('yarn'). \\\n",
    "    getOrCreate()"
   ]
  },
  {
   "cell_type": "code",
   "execution_count": 2,
   "id": "176e5968",
   "metadata": {},
   "outputs": [],
   "source": [
    "loans_repay_raw_df = spark.read \\\n",
    ".format(\"csv\") \\\n",
    ".option(\"header\",True) \\\n",
    ".option(\"inferSchema\", True) \\\n",
    ".load(\"/user/itv012740/lendingclubproject/raw/loans_repayments_csv\")"
   ]
  },
  {
   "cell_type": "code",
   "execution_count": 3,
   "id": "01929c36",
   "metadata": {},
   "outputs": [
    {
     "data": {
      "text/html": [
       "<table border='1'>\n",
       "<tr><th>loan_id</th><th>total_rec_prncp</th><th>total_rec_int</th><th>total_rec_late_fee</th><th>total_pymnt</th><th>last_pymnt_amnt</th><th>last_pymnt_d</th><th>next_pymnt_d</th></tr>\n",
       "<tr><td>69642551</td><td>3246.03</td><td>990.53</td><td>0.0</td><td>4965.02</td><td>326.35</td><td>Feb-2017</td><td>null</td></tr>\n",
       "<tr><td>69336966</td><td>12000.0</td><td>1080.5</td><td>0.0</td><td>13080.5</td><td>9501.81</td><td>Nov-2016</td><td>null</td></tr>\n",
       "<tr><td>69226186</td><td>28000.0</td><td>3049.36</td><td>0.0</td><td>31049.361806989902</td><td>9306.81</td><td>Mar-2018</td><td>null</td></tr>\n",
       "<tr><td>69084024</td><td>16500.0</td><td>900.32</td><td>0.0</td><td>17400.32</td><td>14085.82</td><td>Aug-2016</td><td>null</td></tr>\n",
       "<tr><td>69422635</td><td>21000.0</td><td>4452.42</td><td>0.0</td><td>25452.4171310098</td><td>12705.78</td><td>Jun-2018</td><td>null</td></tr>\n",
       "<tr><td>69542436</td><td>1220.15</td><td>1252.23</td><td>0.0</td><td>4533.19</td><td>497.94</td><td>Jul-2016</td><td>null</td></tr>\n",
       "<tr><td>69492501</td><td>29000.0</td><td>5405.32</td><td>47.8</td><td>34453.12</td><td>771.08</td><td>Mar-2019</td><td>Apr-2019</td></tr>\n",
       "<tr><td>69522527</td><td>33000.0</td><td>2092.69</td><td>0.0</td><td>35092.69</td><td>65.34</td><td>Jul-2016</td><td>null</td></tr>\n",
       "<tr><td>68781653</td><td>18000.0</td><td>4167.34</td><td>0.0</td><td>22167.3434977632</td><td>13021.32</td><td>Jan-2018</td><td>null</td></tr>\n",
       "<tr><td>69371334</td><td>16000.0</td><td>1140.7</td><td>0.0</td><td>17140.7005770789</td><td>13910.33</td><td>Dec-2016</td><td>null</td></tr>\n",
       "<tr><td>68714098</td><td>15000.0</td><td>1665.34</td><td>0.0</td><td>16665.335109603002</td><td>463.01</td><td>Jan-2019</td><td>null</td></tr>\n",
       "<tr><td>69622505</td><td>14993.49</td><td>15587.45</td><td>0.0</td><td>30580.94</td><td>925.15</td><td>Nov-2018</td><td>Apr-2019</td></tr>\n",
       "<tr><td>69084020</td><td>8191.71</td><td>2319.93</td><td>0.0</td><td>11211.64</td><td>403.64</td><td>Mar-2018</td><td>null</td></tr>\n",
       "<tr><td>69552651</td><td>13221.14</td><td>7957.71</td><td>0.0</td><td>21178.85</td><td>558.32</td><td>Mar-2019</td><td>Apr-2019</td></tr>\n",
       "<tr><td>69084037</td><td>7200.0</td><td>983.7</td><td>0.0</td><td>8183.703417215899</td><td>4153.17</td><td>Jul-2017</td><td>null</td></tr>\n",
       "<tr><td>69612464</td><td>2189.97</td><td>342.22</td><td>0.0</td><td>2532.19</td><td>78.91</td><td>Oct-2018</td><td>null</td></tr>\n",
       "<tr><td>69562380</td><td>11481.73</td><td>10842.62</td><td>0.0</td><td>22324.35</td><td>588.13</td><td>Mar-2019</td><td>Apr-2019</td></tr>\n",
       "<tr><td>69422542</td><td>7200.0</td><td>539.02</td><td>0.0</td><td>7739.0247995761</td><td>194.79</td><td>Jan-2017</td><td>null</td></tr>\n",
       "<tr><td>69652408</td><td>1500.0</td><td>317.81</td><td>0.0</td><td>1817.8054757467999</td><td>246.22</td><td>Apr-2018</td><td>null</td></tr>\n",
       "<tr><td>68756432</td><td>17271.58</td><td>6819.29</td><td>0.0</td><td>24090.87</td><td>634.47</td><td>Mar-2019</td><td>Apr-2019</td></tr>\n",
       "</table>\n",
       "only showing top 20 rows\n"
      ],
      "text/plain": [
       "+--------+---------------+-------------+------------------+------------------+---------------+------------+------------+\n",
       "| loan_id|total_rec_prncp|total_rec_int|total_rec_late_fee|       total_pymnt|last_pymnt_amnt|last_pymnt_d|next_pymnt_d|\n",
       "+--------+---------------+-------------+------------------+------------------+---------------+------------+------------+\n",
       "|69642551|        3246.03|       990.53|               0.0|           4965.02|         326.35|    Feb-2017|        null|\n",
       "|69336966|        12000.0|       1080.5|               0.0|           13080.5|        9501.81|    Nov-2016|        null|\n",
       "|69226186|        28000.0|      3049.36|               0.0|31049.361806989902|        9306.81|    Mar-2018|        null|\n",
       "|69084024|        16500.0|       900.32|               0.0|          17400.32|       14085.82|    Aug-2016|        null|\n",
       "|69422635|        21000.0|      4452.42|               0.0|  25452.4171310098|       12705.78|    Jun-2018|        null|\n",
       "|69542436|        1220.15|      1252.23|               0.0|           4533.19|         497.94|    Jul-2016|        null|\n",
       "|69492501|        29000.0|      5405.32|              47.8|          34453.12|         771.08|    Mar-2019|    Apr-2019|\n",
       "|69522527|        33000.0|      2092.69|               0.0|          35092.69|          65.34|    Jul-2016|        null|\n",
       "|68781653|        18000.0|      4167.34|               0.0|  22167.3434977632|       13021.32|    Jan-2018|        null|\n",
       "|69371334|        16000.0|       1140.7|               0.0|  17140.7005770789|       13910.33|    Dec-2016|        null|\n",
       "|68714098|        15000.0|      1665.34|               0.0|16665.335109603002|         463.01|    Jan-2019|        null|\n",
       "|69622505|       14993.49|     15587.45|               0.0|          30580.94|         925.15|    Nov-2018|    Apr-2019|\n",
       "|69084020|        8191.71|      2319.93|               0.0|          11211.64|         403.64|    Mar-2018|        null|\n",
       "|69552651|       13221.14|      7957.71|               0.0|          21178.85|         558.32|    Mar-2019|    Apr-2019|\n",
       "|69084037|         7200.0|        983.7|               0.0| 8183.703417215899|        4153.17|    Jul-2017|        null|\n",
       "|69612464|        2189.97|       342.22|               0.0|           2532.19|          78.91|    Oct-2018|        null|\n",
       "|69562380|       11481.73|     10842.62|               0.0|          22324.35|         588.13|    Mar-2019|    Apr-2019|\n",
       "|69422542|         7200.0|       539.02|               0.0|   7739.0247995761|         194.79|    Jan-2017|        null|\n",
       "|69652408|         1500.0|       317.81|               0.0|1817.8054757467999|         246.22|    Apr-2018|        null|\n",
       "|68756432|       17271.58|      6819.29|               0.0|          24090.87|         634.47|    Mar-2019|    Apr-2019|\n",
       "+--------+---------------+-------------+------------------+------------------+---------------+------------+------------+\n",
       "only showing top 20 rows"
      ]
     },
     "execution_count": 3,
     "metadata": {},
     "output_type": "execute_result"
    }
   ],
   "source": [
    "loans_repay_raw_df"
   ]
  },
  {
   "cell_type": "code",
   "execution_count": 4,
   "id": "c1c28d1a",
   "metadata": {},
   "outputs": [
    {
     "name": "stdout",
     "output_type": "stream",
     "text": [
      "root\n",
      " |-- loan_id: string (nullable = true)\n",
      " |-- total_rec_prncp: string (nullable = true)\n",
      " |-- total_rec_int: string (nullable = true)\n",
      " |-- total_rec_late_fee: string (nullable = true)\n",
      " |-- total_pymnt: string (nullable = true)\n",
      " |-- last_pymnt_amnt: string (nullable = true)\n",
      " |-- last_pymnt_d: string (nullable = true)\n",
      " |-- next_pymnt_d: string (nullable = true)\n",
      "\n"
     ]
    }
   ],
   "source": [
    "loans_repay_raw_df.printSchema()"
   ]
  },
  {
   "cell_type": "code",
   "execution_count": 5,
   "id": "651f25f5",
   "metadata": {},
   "outputs": [],
   "source": [
    "loans_repay_schema = 'loan_id string, total_principal_received float, total_interest_received float, total_late_fee_received float, total_payment_received float, last_payment_amount float, last_payment_date string, next_payment_date string'"
   ]
  },
  {
   "cell_type": "code",
   "execution_count": 6,
   "id": "da14500d",
   "metadata": {},
   "outputs": [],
   "source": [
    "loans_repay_raw_df = spark.read \\\n",
    ".format(\"csv\") \\\n",
    ".option(\"header\",True) \\\n",
    ".schema(loans_repay_schema) \\\n",
    ".load(\"/user/itv012740/lendingclubproject/raw/loans_repayments_csv\")"
   ]
  },
  {
   "cell_type": "code",
   "execution_count": 7,
   "id": "966dbabf",
   "metadata": {},
   "outputs": [
    {
     "name": "stdout",
     "output_type": "stream",
     "text": [
      "root\n",
      " |-- loan_id: string (nullable = true)\n",
      " |-- total_principal_received: float (nullable = true)\n",
      " |-- total_interest_received: float (nullable = true)\n",
      " |-- total_late_fee_received: float (nullable = true)\n",
      " |-- total_payment_received: float (nullable = true)\n",
      " |-- last_payment_amount: float (nullable = true)\n",
      " |-- last_payment_date: string (nullable = true)\n",
      " |-- next_payment_date: string (nullable = true)\n",
      "\n"
     ]
    }
   ],
   "source": [
    "loans_repay_raw_df.printSchema()"
   ]
  },
  {
   "cell_type": "code",
   "execution_count": 8,
   "id": "a4f55657",
   "metadata": {},
   "outputs": [],
   "source": [
    "from pyspark.sql.functions import current_timestamp"
   ]
  },
  {
   "cell_type": "code",
   "execution_count": 9,
   "id": "6852cb30",
   "metadata": {},
   "outputs": [],
   "source": [
    "loans_repay_df_ingestd = loans_repay_raw_df.withColumn(\"ingest_date\", current_timestamp())"
   ]
  },
  {
   "cell_type": "code",
   "execution_count": 10,
   "id": "710f2c86",
   "metadata": {},
   "outputs": [
    {
     "data": {
      "text/html": [
       "<table border='1'>\n",
       "<tr><th>loan_id</th><th>total_principal_received</th><th>total_interest_received</th><th>total_late_fee_received</th><th>total_payment_received</th><th>last_payment_amount</th><th>last_payment_date</th><th>next_payment_date</th><th>ingest_date</th></tr>\n",
       "<tr><td>69642551</td><td>3246.03</td><td>990.53</td><td>0.0</td><td>4965.02</td><td>326.35</td><td>Feb-2017</td><td>null</td><td>2024-12-15 06:05:...</td></tr>\n",
       "<tr><td>69336966</td><td>12000.0</td><td>1080.5</td><td>0.0</td><td>13080.5</td><td>9501.81</td><td>Nov-2016</td><td>null</td><td>2024-12-15 06:05:...</td></tr>\n",
       "<tr><td>69226186</td><td>28000.0</td><td>3049.36</td><td>0.0</td><td>31049.361</td><td>9306.81</td><td>Mar-2018</td><td>null</td><td>2024-12-15 06:05:...</td></tr>\n",
       "<tr><td>69084024</td><td>16500.0</td><td>900.32</td><td>0.0</td><td>17400.32</td><td>14085.82</td><td>Aug-2016</td><td>null</td><td>2024-12-15 06:05:...</td></tr>\n",
       "<tr><td>69422635</td><td>21000.0</td><td>4452.42</td><td>0.0</td><td>25452.418</td><td>12705.78</td><td>Jun-2018</td><td>null</td><td>2024-12-15 06:05:...</td></tr>\n",
       "<tr><td>69542436</td><td>1220.15</td><td>1252.23</td><td>0.0</td><td>4533.19</td><td>497.94</td><td>Jul-2016</td><td>null</td><td>2024-12-15 06:05:...</td></tr>\n",
       "<tr><td>69492501</td><td>29000.0</td><td>5405.32</td><td>47.8</td><td>34453.12</td><td>771.08</td><td>Mar-2019</td><td>Apr-2019</td><td>2024-12-15 06:05:...</td></tr>\n",
       "<tr><td>69522527</td><td>33000.0</td><td>2092.69</td><td>0.0</td><td>35092.69</td><td>65.34</td><td>Jul-2016</td><td>null</td><td>2024-12-15 06:05:...</td></tr>\n",
       "<tr><td>68781653</td><td>18000.0</td><td>4167.34</td><td>0.0</td><td>22167.344</td><td>13021.32</td><td>Jan-2018</td><td>null</td><td>2024-12-15 06:05:...</td></tr>\n",
       "<tr><td>69371334</td><td>16000.0</td><td>1140.7</td><td>0.0</td><td>17140.701</td><td>13910.33</td><td>Dec-2016</td><td>null</td><td>2024-12-15 06:05:...</td></tr>\n",
       "<tr><td>68714098</td><td>15000.0</td><td>1665.34</td><td>0.0</td><td>16665.336</td><td>463.01</td><td>Jan-2019</td><td>null</td><td>2024-12-15 06:05:...</td></tr>\n",
       "<tr><td>69622505</td><td>14993.49</td><td>15587.45</td><td>0.0</td><td>30580.94</td><td>925.15</td><td>Nov-2018</td><td>Apr-2019</td><td>2024-12-15 06:05:...</td></tr>\n",
       "<tr><td>69084020</td><td>8191.71</td><td>2319.93</td><td>0.0</td><td>11211.64</td><td>403.64</td><td>Mar-2018</td><td>null</td><td>2024-12-15 06:05:...</td></tr>\n",
       "<tr><td>69552651</td><td>13221.14</td><td>7957.71</td><td>0.0</td><td>21178.85</td><td>558.32</td><td>Mar-2019</td><td>Apr-2019</td><td>2024-12-15 06:05:...</td></tr>\n",
       "<tr><td>69084037</td><td>7200.0</td><td>983.7</td><td>0.0</td><td>8183.7036</td><td>4153.17</td><td>Jul-2017</td><td>null</td><td>2024-12-15 06:05:...</td></tr>\n",
       "<tr><td>69612464</td><td>2189.97</td><td>342.22</td><td>0.0</td><td>2532.19</td><td>78.91</td><td>Oct-2018</td><td>null</td><td>2024-12-15 06:05:...</td></tr>\n",
       "<tr><td>69562380</td><td>11481.73</td><td>10842.62</td><td>0.0</td><td>22324.35</td><td>588.13</td><td>Mar-2019</td><td>Apr-2019</td><td>2024-12-15 06:05:...</td></tr>\n",
       "<tr><td>69422542</td><td>7200.0</td><td>539.02</td><td>0.0</td><td>7739.025</td><td>194.79</td><td>Jan-2017</td><td>null</td><td>2024-12-15 06:05:...</td></tr>\n",
       "<tr><td>69652408</td><td>1500.0</td><td>317.81</td><td>0.0</td><td>1817.8054</td><td>246.22</td><td>Apr-2018</td><td>null</td><td>2024-12-15 06:05:...</td></tr>\n",
       "<tr><td>68756432</td><td>17271.58</td><td>6819.29</td><td>0.0</td><td>24090.87</td><td>634.47</td><td>Mar-2019</td><td>Apr-2019</td><td>2024-12-15 06:05:...</td></tr>\n",
       "</table>\n",
       "only showing top 20 rows\n"
      ],
      "text/plain": [
       "+--------+------------------------+-----------------------+-----------------------+----------------------+-------------------+-----------------+-----------------+--------------------+\n",
       "| loan_id|total_principal_received|total_interest_received|total_late_fee_received|total_payment_received|last_payment_amount|last_payment_date|next_payment_date|         ingest_date|\n",
       "+--------+------------------------+-----------------------+-----------------------+----------------------+-------------------+-----------------+-----------------+--------------------+\n",
       "|69642551|                 3246.03|                 990.53|                    0.0|               4965.02|             326.35|         Feb-2017|             null|2024-12-15 06:05:...|\n",
       "|69336966|                 12000.0|                 1080.5|                    0.0|               13080.5|            9501.81|         Nov-2016|             null|2024-12-15 06:05:...|\n",
       "|69226186|                 28000.0|                3049.36|                    0.0|             31049.361|            9306.81|         Mar-2018|             null|2024-12-15 06:05:...|\n",
       "|69084024|                 16500.0|                 900.32|                    0.0|              17400.32|           14085.82|         Aug-2016|             null|2024-12-15 06:05:...|\n",
       "|69422635|                 21000.0|                4452.42|                    0.0|             25452.418|           12705.78|         Jun-2018|             null|2024-12-15 06:05:...|\n",
       "|69542436|                 1220.15|                1252.23|                    0.0|               4533.19|             497.94|         Jul-2016|             null|2024-12-15 06:05:...|\n",
       "|69492501|                 29000.0|                5405.32|                   47.8|              34453.12|             771.08|         Mar-2019|         Apr-2019|2024-12-15 06:05:...|\n",
       "|69522527|                 33000.0|                2092.69|                    0.0|              35092.69|              65.34|         Jul-2016|             null|2024-12-15 06:05:...|\n",
       "|68781653|                 18000.0|                4167.34|                    0.0|             22167.344|           13021.32|         Jan-2018|             null|2024-12-15 06:05:...|\n",
       "|69371334|                 16000.0|                 1140.7|                    0.0|             17140.701|           13910.33|         Dec-2016|             null|2024-12-15 06:05:...|\n",
       "|68714098|                 15000.0|                1665.34|                    0.0|             16665.336|             463.01|         Jan-2019|             null|2024-12-15 06:05:...|\n",
       "|69622505|                14993.49|               15587.45|                    0.0|              30580.94|             925.15|         Nov-2018|         Apr-2019|2024-12-15 06:05:...|\n",
       "|69084020|                 8191.71|                2319.93|                    0.0|              11211.64|             403.64|         Mar-2018|             null|2024-12-15 06:05:...|\n",
       "|69552651|                13221.14|                7957.71|                    0.0|              21178.85|             558.32|         Mar-2019|         Apr-2019|2024-12-15 06:05:...|\n",
       "|69084037|                  7200.0|                  983.7|                    0.0|             8183.7036|            4153.17|         Jul-2017|             null|2024-12-15 06:05:...|\n",
       "|69612464|                 2189.97|                 342.22|                    0.0|               2532.19|              78.91|         Oct-2018|             null|2024-12-15 06:05:...|\n",
       "|69562380|                11481.73|               10842.62|                    0.0|              22324.35|             588.13|         Mar-2019|         Apr-2019|2024-12-15 06:05:...|\n",
       "|69422542|                  7200.0|                 539.02|                    0.0|              7739.025|             194.79|         Jan-2017|             null|2024-12-15 06:05:...|\n",
       "|69652408|                  1500.0|                 317.81|                    0.0|             1817.8054|             246.22|         Apr-2018|             null|2024-12-15 06:05:...|\n",
       "|68756432|                17271.58|                6819.29|                    0.0|              24090.87|             634.47|         Mar-2019|         Apr-2019|2024-12-15 06:05:...|\n",
       "+--------+------------------------+-----------------------+-----------------------+----------------------+-------------------+-----------------+-----------------+--------------------+\n",
       "only showing top 20 rows"
      ]
     },
     "execution_count": 10,
     "metadata": {},
     "output_type": "execute_result"
    }
   ],
   "source": [
    "loans_repay_df_ingestd"
   ]
  },
  {
   "cell_type": "code",
   "execution_count": 11,
   "id": "06de55f7",
   "metadata": {},
   "outputs": [
    {
     "name": "stdout",
     "output_type": "stream",
     "text": [
      "root\n",
      " |-- loan_id: string (nullable = true)\n",
      " |-- total_principal_received: float (nullable = true)\n",
      " |-- total_interest_received: float (nullable = true)\n",
      " |-- total_late_fee_received: float (nullable = true)\n",
      " |-- total_payment_received: float (nullable = true)\n",
      " |-- last_payment_amount: float (nullable = true)\n",
      " |-- last_payment_date: string (nullable = true)\n",
      " |-- next_payment_date: string (nullable = true)\n",
      " |-- ingest_date: timestamp (nullable = false)\n",
      "\n"
     ]
    }
   ],
   "source": [
    "loans_repay_df_ingestd.printSchema()"
   ]
  },
  {
   "cell_type": "code",
   "execution_count": 12,
   "id": "c81f1873",
   "metadata": {},
   "outputs": [
    {
     "data": {
      "text/plain": [
       "2260701"
      ]
     },
     "execution_count": 12,
     "metadata": {},
     "output_type": "execute_result"
    }
   ],
   "source": [
    "loans_repay_df_ingestd.count()"
   ]
  },
  {
   "cell_type": "code",
   "execution_count": 13,
   "id": "1135f57c",
   "metadata": {},
   "outputs": [],
   "source": [
    "loans_repay_df_ingestd.createOrReplaceTempView(\"loan_repayments\")"
   ]
  },
  {
   "cell_type": "code",
   "execution_count": 14,
   "id": "39ff2429",
   "metadata": {},
   "outputs": [
    {
     "data": {
      "text/html": [
       "<table border='1'>\n",
       "<tr><th>count(1)</th></tr>\n",
       "<tr><td>69</td></tr>\n",
       "</table>\n"
      ],
      "text/plain": [
       "+--------+\n",
       "|count(1)|\n",
       "+--------+\n",
       "|      69|\n",
       "+--------+"
      ]
     },
     "execution_count": 14,
     "metadata": {},
     "output_type": "execute_result"
    }
   ],
   "source": [
    "spark.sql(\"select count(*) from loan_repayments where total_principal_received is null\")"
   ]
  },
  {
   "cell_type": "code",
   "execution_count": 15,
   "id": "443caf5b",
   "metadata": {},
   "outputs": [],
   "source": [
    "columns_to_check = [\"total_principal_received\", \"total_interest_received\", \"total_late_fee_received\", \"total_payment_received\", \"last_payment_amount\"]"
   ]
  },
  {
   "cell_type": "code",
   "execution_count": 16,
   "id": "cdff1ef0",
   "metadata": {},
   "outputs": [],
   "source": [
    "loans_repay_filtered_df = loans_repay_df_ingestd.na.drop(subset=columns_to_check)"
   ]
  },
  {
   "cell_type": "code",
   "execution_count": 17,
   "id": "dda61328",
   "metadata": {},
   "outputs": [
    {
     "data": {
      "text/plain": [
       "2260498"
      ]
     },
     "execution_count": 17,
     "metadata": {},
     "output_type": "execute_result"
    }
   ],
   "source": [
    "loans_repay_filtered_df.count()"
   ]
  },
  {
   "cell_type": "code",
   "execution_count": 18,
   "id": "44b52e04",
   "metadata": {},
   "outputs": [],
   "source": [
    "loans_repay_filtered_df.createOrReplaceTempView(\"loan_repayments\")"
   ]
  },
  {
   "cell_type": "code",
   "execution_count": 19,
   "id": "7a7befae",
   "metadata": {},
   "outputs": [
    {
     "data": {
      "text/html": [
       "<table border='1'>\n",
       "<tr><th>count(1)</th></tr>\n",
       "<tr><td>995</td></tr>\n",
       "</table>\n"
      ],
      "text/plain": [
       "+--------+\n",
       "|count(1)|\n",
       "+--------+\n",
       "|     995|\n",
       "+--------+"
      ]
     },
     "execution_count": 19,
     "metadata": {},
     "output_type": "execute_result"
    }
   ],
   "source": [
    "spark.sql(\"select count(*) from loan_repayments where total_payment_received = 0.0\")"
   ]
  },
  {
   "cell_type": "code",
   "execution_count": 20,
   "id": "84129d85",
   "metadata": {},
   "outputs": [
    {
     "data": {
      "text/html": [
       "<table border='1'>\n",
       "<tr><th>count(1)</th></tr>\n",
       "<tr><td>46</td></tr>\n",
       "</table>\n"
      ],
      "text/plain": [
       "+--------+\n",
       "|count(1)|\n",
       "+--------+\n",
       "|      46|\n",
       "+--------+"
      ]
     },
     "execution_count": 20,
     "metadata": {},
     "output_type": "execute_result"
    }
   ],
   "source": [
    "spark.sql(\"select count(*) from loan_repayments where total_payment_received = 0.0 and total_principal_received != 0.0\")"
   ]
  },
  {
   "cell_type": "code",
   "execution_count": 21,
   "id": "79407abb",
   "metadata": {},
   "outputs": [
    {
     "data": {
      "text/html": [
       "<table border='1'>\n",
       "<tr><th>loan_id</th><th>total_principal_received</th><th>total_interest_received</th><th>total_late_fee_received</th><th>total_payment_received</th><th>last_payment_amount</th><th>last_payment_date</th><th>next_payment_date</th><th>ingest_date</th></tr>\n",
       "<tr><td>485818</td><td>14640.096</td><td>13388.84</td><td>13000.0</td><td>0.0</td><td>0.0</td><td>0.0</td><td>Mar-2013</td><td>2024-12-15 06:05:...</td></tr>\n",
       "<tr><td>485471</td><td>29620.818</td><td>29134.64</td><td>25000.0</td><td>0.0</td><td>0.0</td><td>0.0</td><td>Mar-2013</td><td>2024-12-15 06:05:...</td></tr>\n",
       "<tr><td>482256</td><td>8735.611</td><td>7479.87</td><td>8000.0</td><td>0.0</td><td>0.0</td><td>0.0</td><td>Feb-2011</td><td>2024-12-15 06:05:...</td></tr>\n",
       "<tr><td>478160</td><td>410.0</td><td>407.36</td><td>0.0</td><td>0.0</td><td>143.1</td><td>410.0</td><td>null</td><td>2024-12-15 06:05:...</td></tr>\n",
       "<tr><td>476557</td><td>28865.18</td><td>24164.67</td><td>5692.31</td><td>0.0</td><td>6972.59</td><td>19916.78</td><td>Dec-2010</td><td>2024-12-15 06:05:...</td></tr>\n",
       "<tr><td>472516</td><td>25951.482</td><td>24731.76</td><td>25000.0</td><td>0.0</td><td>0.0</td><td>0.0</td><td>May-2010</td><td>2024-12-15 06:05:...</td></tr>\n",
       "<tr><td>472197</td><td>12048.13</td><td>12018.01</td><td>10000.0</td><td>0.0</td><td>0.0</td><td>0.0</td><td>Jan-2013</td><td>2024-12-15 06:05:...</td></tr>\n",
       "<tr><td>467364</td><td>29216.791</td><td>29066.19</td><td>24250.0</td><td>0.0</td><td>0.0</td><td>0.0</td><td>Dec-2012</td><td>2024-12-15 06:05:...</td></tr>\n",
       "<tr><td>399499</td><td>26557.729</td><td>26336.41</td><td>24000.0</td><td>0.0</td><td>0.0</td><td>0.0</td><td>Dec-2010</td><td>2024-12-15 06:05:...</td></tr>\n",
       "<tr><td>451482</td><td>7587.5513</td><td>7587.55</td><td>7000.0</td><td>0.0</td><td>0.0</td><td>0.0</td><td>Jan-2011</td><td>2024-12-15 06:05:...</td></tr>\n",
       "<tr><td>453361</td><td>11072.387</td><td>11057.05</td><td>9000.0</td><td>0.0</td><td>0.0</td><td>0.0</td><td>Oct-2012</td><td>2024-12-15 06:05:...</td></tr>\n",
       "<tr><td>451775</td><td>3196.65</td><td>3191.35</td><td>1704.25</td><td>0.0</td><td>6.0</td><td>600.15</td><td>Apr-2010</td><td>2024-12-15 06:05:...</td></tr>\n",
       "<tr><td>440817</td><td>9004.034</td><td>9004.03</td><td>8000.0</td><td>0.0</td><td>0.0</td><td>0.0</td><td>Jan-2012</td><td>2024-12-15 06:05:...</td></tr>\n",
       "<tr><td>440285</td><td>9103.791</td><td>9103.79</td><td>8000.0</td><td>0.0</td><td>0.0</td><td>0.0</td><td>Sep-2012</td><td>2024-12-15 06:05:...</td></tr>\n",
       "<tr><td>436279</td><td>10766.17</td><td>10507.37</td><td>10400.0</td><td>0.0</td><td>0.0</td><td>0.0</td><td>Feb-2010</td><td>2024-12-15 06:05:...</td></tr>\n",
       "<tr><td>436215</td><td>17839.12</td><td>13881.97</td><td>13543.88</td><td>0.0</td><td>0.0</td><td>1.23</td><td>Dec-2011</td><td>2024-12-15 06:05:...</td></tr>\n",
       "<tr><td>435953</td><td>12350.051</td><td>12116.9</td><td>10000.0</td><td>0.0</td><td>0.0</td><td>0.0</td><td>Sep-2012</td><td>2024-12-15 06:05:...</td></tr>\n",
       "<tr><td>430237</td><td>1597.64</td><td>1597.64</td><td>1069.79</td><td>0.0</td><td>1.41</td><td>134.2</td><td>Jul-2010</td><td>2024-12-15 06:05:...</td></tr>\n",
       "<tr><td>429906</td><td>20204.574</td><td>20085.72</td><td>17000.0</td><td>0.0</td><td>0.0</td><td>0.0</td><td>Aug-2012</td><td>2024-12-15 06:05:...</td></tr>\n",
       "<tr><td>425187</td><td>4919.18</td><td>4913.37</td><td>3862.04</td><td>0.0</td><td>18.0176</td><td>84.3</td><td>Dec-2011</td><td>2024-12-15 06:05:...</td></tr>\n",
       "</table>\n",
       "only showing top 20 rows\n"
      ],
      "text/plain": [
       "+-------+------------------------+-----------------------+-----------------------+----------------------+-------------------+-----------------+-----------------+--------------------+\n",
       "|loan_id|total_principal_received|total_interest_received|total_late_fee_received|total_payment_received|last_payment_amount|last_payment_date|next_payment_date|         ingest_date|\n",
       "+-------+------------------------+-----------------------+-----------------------+----------------------+-------------------+-----------------+-----------------+--------------------+\n",
       "| 485818|               14640.096|               13388.84|                13000.0|                   0.0|                0.0|              0.0|         Mar-2013|2024-12-15 06:05:...|\n",
       "| 485471|               29620.818|               29134.64|                25000.0|                   0.0|                0.0|              0.0|         Mar-2013|2024-12-15 06:05:...|\n",
       "| 482256|                8735.611|                7479.87|                 8000.0|                   0.0|                0.0|              0.0|         Feb-2011|2024-12-15 06:05:...|\n",
       "| 478160|                   410.0|                 407.36|                    0.0|                   0.0|              143.1|            410.0|             null|2024-12-15 06:05:...|\n",
       "| 476557|                28865.18|               24164.67|                5692.31|                   0.0|            6972.59|         19916.78|         Dec-2010|2024-12-15 06:05:...|\n",
       "| 472516|               25951.482|               24731.76|                25000.0|                   0.0|                0.0|              0.0|         May-2010|2024-12-15 06:05:...|\n",
       "| 472197|                12048.13|               12018.01|                10000.0|                   0.0|                0.0|              0.0|         Jan-2013|2024-12-15 06:05:...|\n",
       "| 467364|               29216.791|               29066.19|                24250.0|                   0.0|                0.0|              0.0|         Dec-2012|2024-12-15 06:05:...|\n",
       "| 399499|               26557.729|               26336.41|                24000.0|                   0.0|                0.0|              0.0|         Dec-2010|2024-12-15 06:05:...|\n",
       "| 451482|               7587.5513|                7587.55|                 7000.0|                   0.0|                0.0|              0.0|         Jan-2011|2024-12-15 06:05:...|\n",
       "| 453361|               11072.387|               11057.05|                 9000.0|                   0.0|                0.0|              0.0|         Oct-2012|2024-12-15 06:05:...|\n",
       "| 451775|                 3196.65|                3191.35|                1704.25|                   0.0|                6.0|           600.15|         Apr-2010|2024-12-15 06:05:...|\n",
       "| 440817|                9004.034|                9004.03|                 8000.0|                   0.0|                0.0|              0.0|         Jan-2012|2024-12-15 06:05:...|\n",
       "| 440285|                9103.791|                9103.79|                 8000.0|                   0.0|                0.0|              0.0|         Sep-2012|2024-12-15 06:05:...|\n",
       "| 436279|                10766.17|               10507.37|                10400.0|                   0.0|                0.0|              0.0|         Feb-2010|2024-12-15 06:05:...|\n",
       "| 436215|                17839.12|               13881.97|               13543.88|                   0.0|                0.0|             1.23|         Dec-2011|2024-12-15 06:05:...|\n",
       "| 435953|               12350.051|                12116.9|                10000.0|                   0.0|                0.0|              0.0|         Sep-2012|2024-12-15 06:05:...|\n",
       "| 430237|                 1597.64|                1597.64|                1069.79|                   0.0|               1.41|            134.2|         Jul-2010|2024-12-15 06:05:...|\n",
       "| 429906|               20204.574|               20085.72|                17000.0|                   0.0|                0.0|              0.0|         Aug-2012|2024-12-15 06:05:...|\n",
       "| 425187|                 4919.18|                4913.37|                3862.04|                   0.0|            18.0176|             84.3|         Dec-2011|2024-12-15 06:05:...|\n",
       "+-------+------------------------+-----------------------+-----------------------+----------------------+-------------------+-----------------+-----------------+--------------------+\n",
       "only showing top 20 rows"
      ]
     },
     "execution_count": 21,
     "metadata": {},
     "output_type": "execute_result"
    }
   ],
   "source": [
    "spark.sql(\"select * from loan_repayments where total_payment_received = 0.0 and total_principal_received != 0.0\")"
   ]
  },
  {
   "cell_type": "code",
   "execution_count": 22,
   "id": "65d557e7",
   "metadata": {},
   "outputs": [],
   "source": [
    "from pyspark.sql.functions import when, col"
   ]
  },
  {
   "cell_type": "code",
   "execution_count": 23,
   "id": "3836e7fd",
   "metadata": {},
   "outputs": [],
   "source": [
    "loans_payments_fixed_df = loans_repay_filtered_df.withColumn(\n",
    "   \"total_payment_received\",\n",
    "    when(\n",
    "        (col(\"total_principal_received\") != 0.0) &\n",
    "        (col(\"total_payment_received\") == 0.0),\n",
    "        col(\"total_principal_received\") + col(\"total_interest_received\") + col(\"total_late_fee_received\")\n",
    "    ).otherwise(col(\"total_payment_received\"))\n",
    ")"
   ]
  },
  {
   "cell_type": "code",
   "execution_count": 24,
   "id": "3ed16d88",
   "metadata": {},
   "outputs": [
    {
     "data": {
      "text/html": [
       "<table border='1'>\n",
       "<tr><th>loan_id</th><th>total_principal_received</th><th>total_interest_received</th><th>total_late_fee_received</th><th>total_payment_received</th><th>last_payment_amount</th><th>last_payment_date</th><th>next_payment_date</th><th>ingest_date</th></tr>\n",
       "<tr><td>69642551</td><td>3246.03</td><td>990.53</td><td>0.0</td><td>4965.02</td><td>326.35</td><td>Feb-2017</td><td>null</td><td>2024-12-15 06:05:...</td></tr>\n",
       "<tr><td>69336966</td><td>12000.0</td><td>1080.5</td><td>0.0</td><td>13080.5</td><td>9501.81</td><td>Nov-2016</td><td>null</td><td>2024-12-15 06:05:...</td></tr>\n",
       "<tr><td>69226186</td><td>28000.0</td><td>3049.36</td><td>0.0</td><td>31049.361</td><td>9306.81</td><td>Mar-2018</td><td>null</td><td>2024-12-15 06:05:...</td></tr>\n",
       "<tr><td>69084024</td><td>16500.0</td><td>900.32</td><td>0.0</td><td>17400.32</td><td>14085.82</td><td>Aug-2016</td><td>null</td><td>2024-12-15 06:05:...</td></tr>\n",
       "<tr><td>69422635</td><td>21000.0</td><td>4452.42</td><td>0.0</td><td>25452.418</td><td>12705.78</td><td>Jun-2018</td><td>null</td><td>2024-12-15 06:05:...</td></tr>\n",
       "<tr><td>69542436</td><td>1220.15</td><td>1252.23</td><td>0.0</td><td>4533.19</td><td>497.94</td><td>Jul-2016</td><td>null</td><td>2024-12-15 06:05:...</td></tr>\n",
       "<tr><td>69492501</td><td>29000.0</td><td>5405.32</td><td>47.8</td><td>34453.12</td><td>771.08</td><td>Mar-2019</td><td>Apr-2019</td><td>2024-12-15 06:05:...</td></tr>\n",
       "<tr><td>69522527</td><td>33000.0</td><td>2092.69</td><td>0.0</td><td>35092.69</td><td>65.34</td><td>Jul-2016</td><td>null</td><td>2024-12-15 06:05:...</td></tr>\n",
       "<tr><td>68781653</td><td>18000.0</td><td>4167.34</td><td>0.0</td><td>22167.344</td><td>13021.32</td><td>Jan-2018</td><td>null</td><td>2024-12-15 06:05:...</td></tr>\n",
       "<tr><td>69371334</td><td>16000.0</td><td>1140.7</td><td>0.0</td><td>17140.701</td><td>13910.33</td><td>Dec-2016</td><td>null</td><td>2024-12-15 06:05:...</td></tr>\n",
       "<tr><td>68714098</td><td>15000.0</td><td>1665.34</td><td>0.0</td><td>16665.336</td><td>463.01</td><td>Jan-2019</td><td>null</td><td>2024-12-15 06:05:...</td></tr>\n",
       "<tr><td>69622505</td><td>14993.49</td><td>15587.45</td><td>0.0</td><td>30580.94</td><td>925.15</td><td>Nov-2018</td><td>Apr-2019</td><td>2024-12-15 06:05:...</td></tr>\n",
       "<tr><td>69084020</td><td>8191.71</td><td>2319.93</td><td>0.0</td><td>11211.64</td><td>403.64</td><td>Mar-2018</td><td>null</td><td>2024-12-15 06:05:...</td></tr>\n",
       "<tr><td>69552651</td><td>13221.14</td><td>7957.71</td><td>0.0</td><td>21178.85</td><td>558.32</td><td>Mar-2019</td><td>Apr-2019</td><td>2024-12-15 06:05:...</td></tr>\n",
       "<tr><td>69084037</td><td>7200.0</td><td>983.7</td><td>0.0</td><td>8183.7036</td><td>4153.17</td><td>Jul-2017</td><td>null</td><td>2024-12-15 06:05:...</td></tr>\n",
       "<tr><td>69612464</td><td>2189.97</td><td>342.22</td><td>0.0</td><td>2532.19</td><td>78.91</td><td>Oct-2018</td><td>null</td><td>2024-12-15 06:05:...</td></tr>\n",
       "<tr><td>69562380</td><td>11481.73</td><td>10842.62</td><td>0.0</td><td>22324.35</td><td>588.13</td><td>Mar-2019</td><td>Apr-2019</td><td>2024-12-15 06:05:...</td></tr>\n",
       "<tr><td>69422542</td><td>7200.0</td><td>539.02</td><td>0.0</td><td>7739.025</td><td>194.79</td><td>Jan-2017</td><td>null</td><td>2024-12-15 06:05:...</td></tr>\n",
       "<tr><td>69652408</td><td>1500.0</td><td>317.81</td><td>0.0</td><td>1817.8054</td><td>246.22</td><td>Apr-2018</td><td>null</td><td>2024-12-15 06:05:...</td></tr>\n",
       "<tr><td>68756432</td><td>17271.58</td><td>6819.29</td><td>0.0</td><td>24090.87</td><td>634.47</td><td>Mar-2019</td><td>Apr-2019</td><td>2024-12-15 06:05:...</td></tr>\n",
       "</table>\n",
       "only showing top 20 rows\n"
      ],
      "text/plain": [
       "+--------+------------------------+-----------------------+-----------------------+----------------------+-------------------+-----------------+-----------------+--------------------+\n",
       "| loan_id|total_principal_received|total_interest_received|total_late_fee_received|total_payment_received|last_payment_amount|last_payment_date|next_payment_date|         ingest_date|\n",
       "+--------+------------------------+-----------------------+-----------------------+----------------------+-------------------+-----------------+-----------------+--------------------+\n",
       "|69642551|                 3246.03|                 990.53|                    0.0|               4965.02|             326.35|         Feb-2017|             null|2024-12-15 06:05:...|\n",
       "|69336966|                 12000.0|                 1080.5|                    0.0|               13080.5|            9501.81|         Nov-2016|             null|2024-12-15 06:05:...|\n",
       "|69226186|                 28000.0|                3049.36|                    0.0|             31049.361|            9306.81|         Mar-2018|             null|2024-12-15 06:05:...|\n",
       "|69084024|                 16500.0|                 900.32|                    0.0|              17400.32|           14085.82|         Aug-2016|             null|2024-12-15 06:05:...|\n",
       "|69422635|                 21000.0|                4452.42|                    0.0|             25452.418|           12705.78|         Jun-2018|             null|2024-12-15 06:05:...|\n",
       "|69542436|                 1220.15|                1252.23|                    0.0|               4533.19|             497.94|         Jul-2016|             null|2024-12-15 06:05:...|\n",
       "|69492501|                 29000.0|                5405.32|                   47.8|              34453.12|             771.08|         Mar-2019|         Apr-2019|2024-12-15 06:05:...|\n",
       "|69522527|                 33000.0|                2092.69|                    0.0|              35092.69|              65.34|         Jul-2016|             null|2024-12-15 06:05:...|\n",
       "|68781653|                 18000.0|                4167.34|                    0.0|             22167.344|           13021.32|         Jan-2018|             null|2024-12-15 06:05:...|\n",
       "|69371334|                 16000.0|                 1140.7|                    0.0|             17140.701|           13910.33|         Dec-2016|             null|2024-12-15 06:05:...|\n",
       "|68714098|                 15000.0|                1665.34|                    0.0|             16665.336|             463.01|         Jan-2019|             null|2024-12-15 06:05:...|\n",
       "|69622505|                14993.49|               15587.45|                    0.0|              30580.94|             925.15|         Nov-2018|         Apr-2019|2024-12-15 06:05:...|\n",
       "|69084020|                 8191.71|                2319.93|                    0.0|              11211.64|             403.64|         Mar-2018|             null|2024-12-15 06:05:...|\n",
       "|69552651|                13221.14|                7957.71|                    0.0|              21178.85|             558.32|         Mar-2019|         Apr-2019|2024-12-15 06:05:...|\n",
       "|69084037|                  7200.0|                  983.7|                    0.0|             8183.7036|            4153.17|         Jul-2017|             null|2024-12-15 06:05:...|\n",
       "|69612464|                 2189.97|                 342.22|                    0.0|               2532.19|              78.91|         Oct-2018|             null|2024-12-15 06:05:...|\n",
       "|69562380|                11481.73|               10842.62|                    0.0|              22324.35|             588.13|         Mar-2019|         Apr-2019|2024-12-15 06:05:...|\n",
       "|69422542|                  7200.0|                 539.02|                    0.0|              7739.025|             194.79|         Jan-2017|             null|2024-12-15 06:05:...|\n",
       "|69652408|                  1500.0|                 317.81|                    0.0|             1817.8054|             246.22|         Apr-2018|             null|2024-12-15 06:05:...|\n",
       "|68756432|                17271.58|                6819.29|                    0.0|              24090.87|             634.47|         Mar-2019|         Apr-2019|2024-12-15 06:05:...|\n",
       "+--------+------------------------+-----------------------+-----------------------+----------------------+-------------------+-----------------+-----------------+--------------------+\n",
       "only showing top 20 rows"
      ]
     },
     "execution_count": 24,
     "metadata": {},
     "output_type": "execute_result"
    }
   ],
   "source": [
    "loans_payments_fixed_df"
   ]
  },
  {
   "cell_type": "code",
   "execution_count": 25,
   "id": "31d7bee8",
   "metadata": {},
   "outputs": [
    {
     "data": {
      "text/html": [
       "<table border='1'>\n",
       "<tr><th>loan_id</th><th>total_principal_received</th><th>total_interest_received</th><th>total_late_fee_received</th><th>total_payment_received</th><th>last_payment_amount</th><th>last_payment_date</th><th>next_payment_date</th><th>ingest_date</th></tr>\n",
       "<tr><td>1064185</td><td>11600.98</td><td>11600.98</td><td>10000.0</td><td>33201.96</td><td>0.0</td><td>0.0</td><td>Dec-2014</td><td>2024-12-15 06:06:...</td></tr>\n",
       "</table>\n"
      ],
      "text/plain": [
       "+-------+------------------------+-----------------------+-----------------------+----------------------+-------------------+-----------------+-----------------+--------------------+\n",
       "|loan_id|total_principal_received|total_interest_received|total_late_fee_received|total_payment_received|last_payment_amount|last_payment_date|next_payment_date|         ingest_date|\n",
       "+-------+------------------------+-----------------------+-----------------------+----------------------+-------------------+-----------------+-----------------+--------------------+\n",
       "|1064185|                11600.98|               11600.98|                10000.0|              33201.96|                0.0|              0.0|         Dec-2014|2024-12-15 06:05:...|\n",
       "+-------+------------------------+-----------------------+-----------------------+----------------------+-------------------+-----------------+-----------------+--------------------+"
      ]
     },
     "execution_count": 25,
     "metadata": {},
     "output_type": "execute_result"
    }
   ],
   "source": [
    "loans_payments_fixed_df.filter(\"loan_id == '1064185'\")"
   ]
  },
  {
   "cell_type": "code",
   "execution_count": 26,
   "id": "0b1d2814",
   "metadata": {},
   "outputs": [],
   "source": [
    "loans_payments_fixed2_df = loans_payments_fixed_df.filter(\"total_payment_received != 0.0\")"
   ]
  },
  {
   "cell_type": "code",
   "execution_count": 27,
   "id": "e932a421",
   "metadata": {},
   "outputs": [
    {
     "data": {
      "text/plain": [
       "48"
      ]
     },
     "execution_count": 27,
     "metadata": {},
     "output_type": "execute_result"
    }
   ],
   "source": [
    "loans_payments_fixed2_df.filter(\"last_payment_date = 0.0\").count()"
   ]
  },
  {
   "cell_type": "code",
   "execution_count": 28,
   "id": "f7ed9210",
   "metadata": {},
   "outputs": [
    {
     "data": {
      "text/plain": [
       "24"
      ]
     },
     "execution_count": 28,
     "metadata": {},
     "output_type": "execute_result"
    }
   ],
   "source": [
    "loans_payments_fixed2_df.filter(\"next_payment_date = 0.0\").count()"
   ]
  },
  {
   "cell_type": "code",
   "execution_count": 29,
   "id": "a92cc32d",
   "metadata": {},
   "outputs": [
    {
     "data": {
      "text/plain": [
       "1477"
      ]
     },
     "execution_count": 29,
     "metadata": {},
     "output_type": "execute_result"
    }
   ],
   "source": [
    "loans_payments_fixed2_df.filter(\"last_payment_date is null\").count()"
   ]
  },
  {
   "cell_type": "code",
   "execution_count": 30,
   "id": "02cd02a7",
   "metadata": {},
   "outputs": [
    {
     "data": {
      "text/plain": [
       "1344240"
      ]
     },
     "execution_count": 30,
     "metadata": {},
     "output_type": "execute_result"
    }
   ],
   "source": [
    "loans_payments_fixed2_df.filter(\"next_payment_date is null\").count()"
   ]
  },
  {
   "cell_type": "code",
   "execution_count": 31,
   "id": "0091bb99",
   "metadata": {},
   "outputs": [],
   "source": [
    "loans_payments_ldate_fixed_df = loans_payments_fixed2_df.withColumn(\n",
    "  \"last_payment_date\",\n",
    "   when(\n",
    "       (col(\"last_payment_date\") == 0.0),\n",
    "       None\n",
    "       ).otherwise(col(\"last_payment_date\"))\n",
    ")"
   ]
  },
  {
   "cell_type": "code",
   "execution_count": 32,
   "id": "cd8ad3f1",
   "metadata": {},
   "outputs": [],
   "source": [
    "loans_payments_ndate_fixed_df = loans_payments_ldate_fixed_df.withColumn(\n",
    "  \"last_payment_date\",\n",
    "   when(\n",
    "       (col(\"next_payment_date\") == 0.0),\n",
    "       None\n",
    "       ).otherwise(col(\"next_payment_date\"))\n",
    ")"
   ]
  },
  {
   "cell_type": "code",
   "execution_count": 33,
   "id": "7003b6c8",
   "metadata": {},
   "outputs": [
    {
     "data": {
      "text/plain": [
       "0"
      ]
     },
     "execution_count": 33,
     "metadata": {},
     "output_type": "execute_result"
    }
   ],
   "source": [
    "loans_payments_ndate_fixed_df.filter(\"last_payment_date = 0.0\").count()"
   ]
  },
  {
   "cell_type": "code",
   "execution_count": 34,
   "id": "68caf2ef",
   "metadata": {},
   "outputs": [
    {
     "data": {
      "text/plain": [
       "24"
      ]
     },
     "execution_count": 34,
     "metadata": {},
     "output_type": "execute_result"
    }
   ],
   "source": [
    "loans_payments_ndate_fixed_df.filter(\"next_payment_date = 0.0\").count()"
   ]
  },
  {
   "cell_type": "code",
   "execution_count": 36,
   "id": "ac61c331",
   "metadata": {},
   "outputs": [],
   "source": [
    "loans_payments_ndate_fixed_df.write \\\n",
    ".format(\"parquet\") \\\n",
    ".mode(\"overwrite\") \\\n",
    ".option(\"path\", \"/user/itv012740/lendingclubproject/raw/cleaned/loans_repayments_parquet\") \\\n",
    ".save()"
   ]
  },
  {
   "cell_type": "code",
   "execution_count": 37,
   "id": "71be3c90",
   "metadata": {},
   "outputs": [],
   "source": [
    "loans_payments_ndate_fixed_df.write \\\n",
    ".option(\"header\", True) \\\n",
    ".format(\"csv\") \\\n",
    ".mode(\"overwrite\") \\\n",
    ".option(\"path\", \"/user/itv012740/lendingclubproject/raw/cleaned/loans_repayments_csv\") \\\n",
    ".save()"
   ]
  },
  {
   "cell_type": "code",
   "execution_count": null,
   "id": "ea908d3e",
   "metadata": {},
   "outputs": [],
   "source": []
  },
  {
   "cell_type": "code",
   "execution_count": null,
   "id": "9f6bb9f9",
   "metadata": {},
   "outputs": [],
   "source": []
  }
 ],
 "metadata": {
  "kernelspec": {
   "display_name": "Pyspark 3",
   "language": "python",
   "name": "pyspark3"
  },
  "language_info": {
   "codemirror_mode": {
    "name": "ipython",
    "version": 3
   },
   "file_extension": ".py",
   "mimetype": "text/x-python",
   "name": "python",
   "nbconvert_exporter": "python",
   "pygments_lexer": "ipython3",
   "version": "3.6.12"
  }
 },
 "nbformat": 4,
 "nbformat_minor": 5
}
